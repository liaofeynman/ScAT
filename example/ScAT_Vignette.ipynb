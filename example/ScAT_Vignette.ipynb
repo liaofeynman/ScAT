{
 "cells": [
  {
   "cell_type": "code",
   "execution_count": null,
   "id": "cbed8bdc-a7ec-404b-8fc7-bbbd3781a3c5",
   "metadata": {},
   "outputs": [],
   "source": [
    "ScAT tutorial"
   ]
  },
  {
   "cell_type": "markdown",
   "id": "8d792159-5b21-4f4f-9e8b-42bcb149c986",
   "metadata": {
    "tags": []
   },
   "source": [
    "## 00 QC Control"
   ]
  },
  {
   "cell_type": "code",
   "execution_count": null,
   "id": "95c80977-9a69-43d7-9092-756942a379ec",
   "metadata": {},
   "outputs": [],
   "source": [
    "source /YOUR_CONDA_PATH/anaconda3/bin/activate\n",
    "conda activate py3\n",
    "rscript=/YOUR_CONDA_PATH/anaconda3/envs/R411/bin/Rscript\n",
    "scat=/PATH_to_ScAT/ScAT/core/ScAT\n",
    "\n",
    "gem_file=/YOUR_PATH/FP200000571BR_A2_1_bin50.gem\n",
    "path=/YOUR_OUTPUT_PATH/\n",
    "prefix=mouse_brain_bin50\n",
    "\n",
    "###################00 QC Control#############################\n",
    "# step 1 Preview the data and obtain raw_seurat_object.rds\n",
    "python3 $scat QcControl \\\n",
    "    -i $gem_file \\\n",
    "    -o ${path}/00.QC/step1 \\\n",
    "    --binsize 50 \\\n",
    "    --prefix $prefix \\\n",
    "    --mtPattern '^Mt' \\\n",
    "    --rbPattern '^Rp[sl]' \\\n",
    "    --hbPattern '^Hb[^(p)]' \\\n",
    "    --platPattern 'Pecam1|Pf4' \\\n",
    "    --ptsize 50\n",
    "\n",
    "\n",
    "# step 2 Perform filteraion and normalization \n",
    "# Note! You need to manually set the filter parameters based on the QC metrics generated in the previous step.\n",
    "# ~2.2G\n",
    "python3 $scat QcControl \\\n",
    "    -i ${path}/00.QC/step1/${prefix}_raw_seuratObject.rds \\\n",
    "    -o ${path}/00.QC/step2 \\\n",
    "    --prefix $prefix \\\n",
    "    --mFilter \\\n",
    "    --mtPattern '^Mt' \\\n",
    "    --rbPattern '^Rp[sl]' \\\n",
    "    --hbPattern '^Hb[^(p)]' \\\n",
    "    --platPattern 'Pecam1|Pf4' \\\n",
    "    --minCell 3 \\\n",
    "    --ptsize 50\n",
    "\n",
    "###################00 QC Control#############################"
   ]
  },
  {
   "cell_type": "markdown",
   "id": "7c99b0a7-849d-4059-9a10-7f0794c0829a",
   "metadata": {
    "tags": []
   },
   "source": [
    "## 01 Clustering"
   ]
  },
  {
   "cell_type": "code",
   "execution_count": null,
   "id": "4554fc5b-aec6-4f39-a9e1-f157a6f54c77",
   "metadata": {},
   "outputs": [],
   "source": [
    "####################01 Clustering#############################\n",
    "# input: flt_norm_seurat_object.rds, assays: SCT\n",
    "python3 $scat Clustering \\\n",
    "    -i ${path}/00.QC/step2/${prefix}_filt_norm_seuratObject.rds \\\n",
    "    -o ${path}/01.Clustering \\\n",
    "    --prefix $prefix \n",
    "\n",
    "####################01 Clustering#############################"
   ]
  },
  {
   "cell_type": "markdown",
   "id": "13e13d00-e3ca-4128-982f-8642d5923e7f",
   "metadata": {
    "tags": []
   },
   "source": [
    "## 02 Trajectory"
   ]
  },
  {
   "cell_type": "code",
   "execution_count": null,
   "id": "c98f0553-8118-4837-ab1d-4f533dd51eff",
   "metadata": {},
   "outputs": [],
   "source": [
    "####################02 Trajectory#############################\n",
    "python3 $scat Trajectory \\\n",
    "    -i ${path}/01.Clustering/${prefix}_filt_norm_cluster_seuratObject.rds \\\n",
    "    -o ${path}/02.trajectory \\\n",
    "    --prefix $prefix \\\n",
    "    --mDEG\n",
    "\n",
    "####################02 Trajectory#############################"
   ]
  },
  {
   "cell_type": "markdown",
   "id": "ae74af81-ff7f-484b-ac02-3a942869277b",
   "metadata": {
    "tags": []
   },
   "source": [
    "## 03 Annotation"
   ]
  },
  {
   "cell_type": "code",
   "execution_count": null,
   "id": "0368a6f7-2f38-4935-af43-d400a4c99373",
   "metadata": {},
   "outputs": [],
   "source": [
    "####################03 Annotation#############################\n",
    "python3 $scat Annotation \\\n",
    "    -i ${prefix}/00.QC/sc1_out/flt_norm/brain_filt_norm_matrix.txt.gz \\\n",
    "    -o ${path}/03.annotation/sc1_out \\\n",
    "    --prefix $prefix \\\n",
    "    --ref_name  'HumanPrimaryCellAtlasData' \\\n",
    "    --cluster ${prefix}/01.Clustering/sc1_out/brain_clusterInfo.txt \n",
    "\n",
    "####################03 Annotation#############################"
   ]
  },
  {
   "cell_type": "markdown",
   "id": "66e1875a-2600-4133-90b0-29d247a0bd53",
   "metadata": {},
   "source": [
    "## 04 Enrichment"
   ]
  },
  {
   "cell_type": "code",
   "execution_count": null,
   "id": "76d9e7ba-fe2f-4e80-9690-a5496eb03133",
   "metadata": {},
   "outputs": [],
   "source": [
    "####################04 Enrichment#############################\n",
    "python3 $scat Enrichment\\\n",
    "    -i ${path}/e15_matrix.txt.gz\\\n",
    "    -m ${path}/cell_types.txt\\\n",
    "    -s 'Human'\\\n",
    "    -o ${path}/03.Enrichment\\\n",
    "\n",
    "####################04 Enrichment#############################"
   ]
  },
  {
   "cell_type": "markdown",
   "id": "3555a87f-ac3b-4de6-829e-990cc3c020e3",
   "metadata": {
    "tags": []
   },
   "source": [
    "## 05 CellCellInteraction"
   ]
  },
  {
   "cell_type": "code",
   "execution_count": null,
   "id": "f2fb9128-667f-44ab-816e-231e72d7c38b",
   "metadata": {},
   "outputs": [],
   "source": [
    "####################05 CellCellInteraction#############################\n",
    "python3 $scat CellCellInteraction \\\n",
    "    -i ${path}/00.QC/step1/${prefix}_filt_norm_matrix.txt.gz \\\n",
    "    -o ${path}/04.CellCellInteraction/sc1_out \\\n",
    "    -m ${path}/01.Clustering/${prefix}_clusterInfo_CCI.txt \\\n",
    "    -s 'Human' \\\n",
    "    --prefix $prefix\n",
    "\n",
    "####################05 CellCellInteraction#############################"
   ]
  },
  {
   "cell_type": "markdown",
   "id": "6f754042-6078-4ad2-875c-f63d394bce86",
   "metadata": {},
   "source": [
    "## 06 TFregulon"
   ]
  },
  {
   "cell_type": "code",
   "execution_count": null,
   "id": "da62f74e-2191-44b6-9ed5-9092e0ae5349",
   "metadata": {},
   "outputs": [],
   "source": [
    "######################06  TFregulon###############################\n",
    "python3 $scat TFregulon \\\n",
    "    --species human\\\n",
    "    --GeneMatrix ${path}/00.QC/step2${prefix}_filt_matrix.txt \\\n",
    "    --annot ${path}/01.Clustering/${prefix}_clusterInfo_TF.txt \\\n",
    "    --TFDataset /YOUR_PATH/ScAT/docs/cisTarget_databases \\\n",
    "    --cpu 10 \\\n",
    "    --outdir ${path}/03.tf\n",
    "\n",
    "######################06  TFregulon###############################\n",
    "\n",
    "\n",
    "python3 $scat TFregulon \\\n",
    "    --species human\\\n",
    "    --TFreglist ${path}/03.tf/specify.TFregulon.example.txt \\\n",
    "    --outdir ${path}/03.tf \\\n",
    "    \n",
    "    \n",
    "python3 $scat TFregulon \\\n",
    "    --TFName IRF1 \\\n",
    "    --species human\\\n",
    "    --SCENICloom ${path}/03.tf/04.SCENIC.Regulon.AUC.loom \\\n",
    "    --h5ad ${path}/03.tf/05.Adata.Expression.Regulon.AUC.h5ad \\\n",
    "    --NetFile ${path}/03.tf/02.Network.Ad1.tsv \\\n",
    "    --outdir ${path}/03.tf \\    \n",
    "   "
   ]
  },
  {
   "cell_type": "markdown",
   "id": "7b39f56b-e85b-47a2-b1f4-514ad15af4d3",
   "metadata": {},
   "source": [
    "## 07 DeconvSpot"
   ]
  },
  {
   "cell_type": "code",
   "execution_count": null,
   "id": "c7efb3fb-bbbc-4f1d-854a-f58f335b66b5",
   "metadata": {},
   "outputs": [],
   "source": [
    "######################08 DeconvSpot###############################\n",
    "python3 $scat DeconvSpot \\\n",
    "    --Scdata $sc_rds\\\n",
    "    --Stdata $st_rds\\\n",
    "    --Scdata $sc_rds\\   \n",
    "    --ClusterFile ${path}/08.DeconvSpot/specify.cluster.example.txt\\   \n",
    "    --piescale 1.2\\\n",
    "    --outdir ${path}/08.DeconvSpot\n",
    "\n",
    "######################08 DeconvSpot###############################"
   ]
  },
  {
   "cell_type": "markdown",
   "id": "e263607d-f9cd-4d1e-b17f-71f1d86b5a2c",
   "metadata": {
    "tags": []
   },
   "source": [
    "## 08 SpatialCluster"
   ]
  },
  {
   "cell_type": "code",
   "execution_count": null,
   "id": "1794dcd6-5068-48a4-b8de-98e022bc97d7",
   "metadata": {},
   "outputs": [],
   "source": [
    "######################09 SpatialCluster###############################\n",
    "python3 $scat SpatialCluster\\\n",
    "    --Stdata $st_rds\\\n",
    "    --clusterNumber 8\\\n",
    "    --interations 10000\\   \n",
    "    --outdir ${path}/09.SpatialCluster\n",
    "\n",
    "######################09 SpatialCluster###############################"
   ]
  },
  {
   "cell_type": "markdown",
   "id": "87790c95-bc7d-47f2-bc02-8ca959d93e35",
   "metadata": {},
   "source": [
    "## 09 SpatialPatternGene"
   ]
  },
  {
   "cell_type": "code",
   "execution_count": null,
   "id": "33fe9c7b-ead3-4e2c-ab57-24d2e19bae6f",
   "metadata": {},
   "outputs": [],
   "source": [
    "######################10 SpatialPatternGene###############################\n",
    "python3 $scat SpatialPatternGene\\\n",
    "    --input $st_rds\\\n",
    "    --outdir ${path}/10.SpatialPatternGene\n",
    "\n",
    "python3 $scat SpatialPatternGene\\\n",
    "    --input $st_rds\\\n",
    "    --genefile ${path}/test.gene.txt \\\n",
    "    --outdir ${path}/10.SpatialPatternGene\n",
    "\n",
    "######################10 SpatialPatternGene###############################"
   ]
  }
 ],
 "metadata": {
  "kernelspec": {
   "display_name": "py3",
   "language": "python",
   "name": "py3"
  },
  "language_info": {
   "codemirror_mode": {
    "name": "ipython",
    "version": 3
   },
   "file_extension": ".py",
   "mimetype": "text/x-python",
   "name": "python",
   "nbconvert_exporter": "python",
   "pygments_lexer": "ipython3",
   "version": "3.8.10"
  }
 },
 "nbformat": 4,
 "nbformat_minor": 5
}
