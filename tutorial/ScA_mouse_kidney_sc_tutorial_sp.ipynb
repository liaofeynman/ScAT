{
 "cells": [
  {
   "cell_type": "code",
   "execution_count": null,
   "id": "1d313c7e-c60d-4518-8dcc-c4333c623ae4",
   "metadata": {},
   "outputs": [],
   "source": [
    "# Loding and visulize the kideney data"
   ]
  },
  {
   "cell_type": "code",
   "execution_count": 1,
   "id": "3f5ddb99-3054-4d9e-967a-91587074cb4c",
   "metadata": {
    "execution": {
     "iopub.execute_input": "2023-04-08T09:06:53.673121Z",
     "iopub.status.busy": "2023-04-08T09:06:53.672142Z",
     "iopub.status.idle": "2023-04-08T09:06:53.792174Z",
     "shell.execute_reply": "2023-04-08T09:06:53.790480Z",
     "shell.execute_reply.started": "2023-04-08T09:06:53.672956Z"
    },
    "tags": []
   },
   "outputs": [
    {
     "name": "stdout",
     "output_type": "stream",
     "text": [
      "/data/work/previous/ScAT_github/core/bin/ScAT.py\n",
      "usage: ScAT [-h] [-v]\n",
      "            {QcControl,Clustering,Annotation,AnnotscCATCH,Enrichment,CellCellInteraction,TFregulon,SpatialCluster,DeconvSpot,SpatialPatternGene}\n",
      "            ...\n",
      "\n",
      "Stereo-seq and scRNA-seq Analysis Toolkit (ScAT), a user-friendly Python\n",
      "package that provides multiple modules for scRNA-seq and Stereo-seq data\n",
      "analysis.\n",
      "\n",
      "positional arguments:\n",
      "  {QcControl,Clustering,Annotation,AnnotscCATCH,Enrichment,CellCellInteraction,TFregulon,SpatialCluster,DeconvSpot,SpatialPatternGene}\n",
      "    QcControl           Perform QC control by Seurat\n",
      "    Clustering          Perform cell cluster by Seurat\n",
      "    Annotation          Perform cell annotation by SingleR\n",
      "    AnnotscCATCH        Perform cell annotation by scCATCH\n",
      "    Enrichment          Perform go enrichment by clusterProfiler\n",
      "    CellCellInteraction\n",
      "                        Perform cell-cell communication analysis by CellChat\n",
      "    TFregulon           Perform single-cell regulatory network inference.\n",
      "    SpatialCluster      Perform spatial cluster by BayeSpaces\n",
      "    DeconvSpot          Perform deconvolution of cell types by SPOTlight\n",
      "    SpatialPatternGene  Statistical analysis of spatial expression pattern by\n",
      "                        SPARK\n",
      "\n",
      "optional arguments:\n",
      "  -h, --help            show this help message and exit\n",
      "  -v, --version         print version info.\n",
      "\n",
      "Use ScAT {command} -h to get help on individual commands\n"
     ]
    }
   ],
   "source": [
    "%%sh\n",
    "path=/data/work/previous/ScAT_github\n",
    "scat=${path}/core/bin/ScAT.py\n",
    "echo $scat\n",
    "python3 $scat -h"
   ]
  },
  {
   "cell_type": "code",
   "execution_count": null,
   "id": "198602df-2766-49dd-a6df-4d5f62f08849",
   "metadata": {},
   "outputs": [],
   "source": []
  },
  {
   "cell_type": "code",
   "execution_count": null,
   "id": "b1f0fd18-cd3f-482d-90bc-d32045d4db82",
   "metadata": {},
   "outputs": [],
   "source": []
  },
  {
   "cell_type": "code",
   "execution_count": null,
   "id": "4534f7f8-d0b0-4fc3-ac8c-70d963b425d6",
   "metadata": {},
   "outputs": [],
   "source": []
  },
  {
   "cell_type": "code",
   "execution_count": null,
   "id": "72c2487f-0718-4839-ab54-36794435d2f9",
   "metadata": {},
   "outputs": [],
   "source": []
  },
  {
   "cell_type": "code",
   "execution_count": null,
   "id": "6568523a-ece4-4e9a-a635-66e8807cfb07",
   "metadata": {},
   "outputs": [],
   "source": []
  },
  {
   "cell_type": "code",
   "execution_count": null,
   "id": "e949fad0-5f41-4055-a04d-19f1831d9d39",
   "metadata": {},
   "outputs": [],
   "source": []
  },
  {
   "cell_type": "code",
   "execution_count": null,
   "id": "2f4ae14c-e662-45d4-9c46-ead0474d6d88",
   "metadata": {},
   "outputs": [],
   "source": []
  },
  {
   "cell_type": "code",
   "execution_count": null,
   "id": "bbde2d89-1d00-4b29-8c4c-4f36fc9304d5",
   "metadata": {},
   "outputs": [],
   "source": []
  },
  {
   "cell_type": "code",
   "execution_count": null,
   "id": "f21655cf-c42c-4f49-a052-8c578c146cad",
   "metadata": {},
   "outputs": [],
   "source": []
  },
  {
   "cell_type": "code",
   "execution_count": null,
   "id": "a82ed926-a275-45ef-8510-73adc4b3f88f",
   "metadata": {},
   "outputs": [],
   "source": []
  },
  {
   "cell_type": "code",
   "execution_count": null,
   "id": "295f6235-fb39-4c66-aa04-5a923203a1f5",
   "metadata": {},
   "outputs": [],
   "source": []
  },
  {
   "cell_type": "code",
   "execution_count": null,
   "id": "f335c49b-514c-409b-a76c-d399d368e053",
   "metadata": {},
   "outputs": [],
   "source": []
  },
  {
   "cell_type": "code",
   "execution_count": null,
   "id": "8b7f6877-5f52-40be-90c2-358b3bb9392c",
   "metadata": {},
   "outputs": [],
   "source": []
  },
  {
   "cell_type": "code",
   "execution_count": null,
   "id": "37360770-f753-4fdf-8ab2-6402c0dd0f86",
   "metadata": {},
   "outputs": [],
   "source": []
  },
  {
   "cell_type": "code",
   "execution_count": null,
   "id": "bc475453-35af-4c57-9a86-152e8855fb84",
   "metadata": {},
   "outputs": [],
   "source": []
  },
  {
   "cell_type": "code",
   "execution_count": null,
   "id": "b38f0ad6-a4ed-48b0-bcfa-af469cd1546e",
   "metadata": {},
   "outputs": [],
   "source": []
  },
  {
   "cell_type": "markdown",
   "id": "f63567d8-4639-4303-ae0c-58a44ea5e5a6",
   "metadata": {
    "jp-MarkdownHeadingCollapsed": true,
    "tags": []
   },
   "source": [
    "## 数据特征"
   ]
  },
  {
   "cell_type": "code",
   "execution_count": 1,
   "id": "51b19874-82a0-477b-94e6-0220a78b28c7",
   "metadata": {
    "execution": {
     "iopub.execute_input": "2023-03-31T03:05:24.307151Z",
     "iopub.status.busy": "2023-03-31T03:05:24.301725Z",
     "iopub.status.idle": "2023-03-31T03:05:27.047213Z",
     "shell.execute_reply": "2023-03-31T03:05:27.046003Z"
    },
    "tags": []
   },
   "outputs": [
    {
     "name": "stderr",
     "output_type": "stream",
     "text": [
      "Attaching SeuratObject\n",
      "\n"
     ]
    }
   ],
   "source": [
    "library(Seurat)"
   ]
  },
  {
   "cell_type": "code",
   "execution_count": 2,
   "id": "7426a571-1ddc-468b-8827-f77caae2dc88",
   "metadata": {
    "execution": {
     "iopub.execute_input": "2023-03-31T03:05:47.250453Z",
     "iopub.status.busy": "2023-03-31T03:05:47.216623Z",
     "iopub.status.idle": "2023-03-31T03:05:47.265673Z",
     "shell.execute_reply": "2023-03-31T03:05:47.264333Z"
    },
    "tags": []
   },
   "outputs": [
    {
     "data": {
      "text/html": [
       "'/data/work/previous/ScAT_github/tutorial'"
      ],
      "text/latex": [
       "'/data/work/previous/ScAT\\_github/tutorial'"
      ],
      "text/markdown": [
       "'/data/work/previous/ScAT_github/tutorial'"
      ],
      "text/plain": [
       "[1] \"/data/work/previous/ScAT_github/tutorial\""
      ]
     },
     "metadata": {},
     "output_type": "display_data"
    }
   ],
   "source": [
    "getwd()"
   ]
  },
  {
   "cell_type": "code",
   "execution_count": 5,
   "id": "9e44af19-74dd-4036-bf45-a909a3c457dd",
   "metadata": {
    "execution": {
     "iopub.execute_input": "2023-03-31T03:06:55.940340Z",
     "iopub.status.busy": "2023-03-31T03:06:55.937220Z",
     "iopub.status.idle": "2023-03-31T03:07:01.182116Z",
     "shell.execute_reply": "2023-03-31T03:07:01.180685Z"
    },
    "tags": []
   },
   "outputs": [
    {
     "name": "stdout",
     "output_type": "stream",
     "text": [
      "[1] \"/data/work/previous/ScAT_github/data/sce.rds\"\n"
     ]
    }
   ],
   "source": [
    "path = '/data/work/previous/ScAT_github'\n",
    "rds_file = file.path(path, 'data','sce.rds')\n",
    "print(rds_file)\n",
    "sc <- readRDS(rds_file)"
   ]
  },
  {
   "cell_type": "code",
   "execution_count": 6,
   "id": "f92fe7d2-6814-4ebc-b3f2-1debb9d82ad8",
   "metadata": {
    "execution": {
     "iopub.execute_input": "2023-03-31T03:07:02.545498Z",
     "iopub.status.busy": "2023-03-31T03:07:02.544373Z",
     "iopub.status.idle": "2023-03-31T03:07:02.575138Z",
     "shell.execute_reply": "2023-03-31T03:07:02.573883Z"
    },
    "tags": []
   },
   "outputs": [
    {
     "data": {
      "text/plain": [
       "An object of class Seurat \n",
       "18894 features across 24853 samples within 1 assay \n",
       "Active assay: RNA (18894 features, 0 variable features)\n",
       " 1 dimensional reduction calculated: umap"
      ]
     },
     "metadata": {},
     "output_type": "display_data"
    }
   ],
   "source": [
    "sc"
   ]
  },
  {
   "cell_type": "code",
   "execution_count": 7,
   "id": "bdcb42fa-fe70-4694-9082-66640acb20d1",
   "metadata": {
    "execution": {
     "iopub.execute_input": "2023-03-31T03:07:13.801487Z",
     "iopub.status.busy": "2023-03-31T03:07:13.799489Z",
     "iopub.status.idle": "2023-03-31T03:07:13.834573Z",
     "shell.execute_reply": "2023-03-31T03:07:13.832834Z"
    },
    "tags": []
   },
   "outputs": [
    {
     "data": {
      "text/html": [
       "<table class=\"dataframe\">\n",
       "<caption>A data.frame: 6 × 11</caption>\n",
       "<thead>\n",
       "\t<tr><th></th><th scope=col>n_genes_by_counts</th><th scope=col>total_counts</th><th scope=col>total_counts_mt</th><th scope=col>pct_counts_mt</th><th scope=col>total_counts_ribo</th><th scope=col>pct_counts_ribo</th><th scope=col>total_counts_hb</th><th scope=col>pct_counts_hb</th><th scope=col>batch</th><th scope=col>n_genes</th><th scope=col>celltype</th></tr>\n",
       "\t<tr><th></th><th scope=col>&lt;int&gt;</th><th scope=col>&lt;dbl&gt;</th><th scope=col>&lt;dbl&gt;</th><th scope=col>&lt;dbl&gt;</th><th scope=col>&lt;dbl&gt;</th><th scope=col>&lt;dbl&gt;</th><th scope=col>&lt;dbl&gt;</th><th scope=col>&lt;dbl&gt;</th><th scope=col>&lt;fct&gt;</th><th scope=col>&lt;int&gt;</th><th scope=col>&lt;fct&gt;</th></tr>\n",
       "</thead>\n",
       "<tbody>\n",
       "\t<tr><th scope=row>CELL621_N1-SPF</th><td>2700</td><td> 8840</td><td> 33</td><td>0.3733032</td><td> 70</td><td>0.7918553</td><td>0</td><td>0.00000000</td><td>SPF</td><td>2700</td><td>PTS3   </td></tr>\n",
       "\t<tr><th scope=row>CELL1872_N1-SPF</th><td>1677</td><td> 4685</td><td> 17</td><td>0.3628602</td><td> 47</td><td>1.0032017</td><td>0</td><td>0.00000000</td><td>SPF</td><td>1677</td><td>PTS3   </td></tr>\n",
       "\t<tr><th scope=row>CELL677_N1-SPF</th><td>2782</td><td> 8378</td><td>238</td><td>2.8407733</td><td>144</td><td>1.7187873</td><td>1</td><td>0.01193602</td><td>SPF</td><td>2782</td><td>PTS3   </td></tr>\n",
       "\t<tr><th scope=row>CELL94_N2-SPF</th><td>5368</td><td>21827</td><td>191</td><td>0.8750629</td><td>249</td><td>1.1407889</td><td>5</td><td>0.02290741</td><td>SPF</td><td>5368</td><td>PTS1-S2</td></tr>\n",
       "\t<tr><th scope=row>CELL604_N1-SPF</th><td>2944</td><td> 9227</td><td> 72</td><td>0.7803186</td><td> 86</td><td>0.9320472</td><td>0</td><td>0.00000000</td><td>SPF</td><td>2944</td><td>PTS1-S2</td></tr>\n",
       "\t<tr><th scope=row>CELL539_N1-SPF</th><td>2950</td><td> 9847</td><td> 21</td><td>0.2132629</td><td> 99</td><td>1.0053824</td><td>0</td><td>0.00000000</td><td>SPF</td><td>2950</td><td>PTS3   </td></tr>\n",
       "</tbody>\n",
       "</table>\n"
      ],
      "text/latex": [
       "A data.frame: 6 × 11\n",
       "\\begin{tabular}{r|lllllllllll}\n",
       "  & n\\_genes\\_by\\_counts & total\\_counts & total\\_counts\\_mt & pct\\_counts\\_mt & total\\_counts\\_ribo & pct\\_counts\\_ribo & total\\_counts\\_hb & pct\\_counts\\_hb & batch & n\\_genes & celltype\\\\\n",
       "  & <int> & <dbl> & <dbl> & <dbl> & <dbl> & <dbl> & <dbl> & <dbl> & <fct> & <int> & <fct>\\\\\n",
       "\\hline\n",
       "\tCELL621\\_N1-SPF & 2700 &  8840 &  33 & 0.3733032 &  70 & 0.7918553 & 0 & 0.00000000 & SPF & 2700 & PTS3   \\\\\n",
       "\tCELL1872\\_N1-SPF & 1677 &  4685 &  17 & 0.3628602 &  47 & 1.0032017 & 0 & 0.00000000 & SPF & 1677 & PTS3   \\\\\n",
       "\tCELL677\\_N1-SPF & 2782 &  8378 & 238 & 2.8407733 & 144 & 1.7187873 & 1 & 0.01193602 & SPF & 2782 & PTS3   \\\\\n",
       "\tCELL94\\_N2-SPF & 5368 & 21827 & 191 & 0.8750629 & 249 & 1.1407889 & 5 & 0.02290741 & SPF & 5368 & PTS1-S2\\\\\n",
       "\tCELL604\\_N1-SPF & 2944 &  9227 &  72 & 0.7803186 &  86 & 0.9320472 & 0 & 0.00000000 & SPF & 2944 & PTS1-S2\\\\\n",
       "\tCELL539\\_N1-SPF & 2950 &  9847 &  21 & 0.2132629 &  99 & 1.0053824 & 0 & 0.00000000 & SPF & 2950 & PTS3   \\\\\n",
       "\\end{tabular}\n"
      ],
      "text/markdown": [
       "\n",
       "A data.frame: 6 × 11\n",
       "\n",
       "| <!--/--> | n_genes_by_counts &lt;int&gt; | total_counts &lt;dbl&gt; | total_counts_mt &lt;dbl&gt; | pct_counts_mt &lt;dbl&gt; | total_counts_ribo &lt;dbl&gt; | pct_counts_ribo &lt;dbl&gt; | total_counts_hb &lt;dbl&gt; | pct_counts_hb &lt;dbl&gt; | batch &lt;fct&gt; | n_genes &lt;int&gt; | celltype &lt;fct&gt; |\n",
       "|---|---|---|---|---|---|---|---|---|---|---|---|\n",
       "| CELL621_N1-SPF | 2700 |  8840 |  33 | 0.3733032 |  70 | 0.7918553 | 0 | 0.00000000 | SPF | 2700 | PTS3    |\n",
       "| CELL1872_N1-SPF | 1677 |  4685 |  17 | 0.3628602 |  47 | 1.0032017 | 0 | 0.00000000 | SPF | 1677 | PTS3    |\n",
       "| CELL677_N1-SPF | 2782 |  8378 | 238 | 2.8407733 | 144 | 1.7187873 | 1 | 0.01193602 | SPF | 2782 | PTS3    |\n",
       "| CELL94_N2-SPF | 5368 | 21827 | 191 | 0.8750629 | 249 | 1.1407889 | 5 | 0.02290741 | SPF | 5368 | PTS1-S2 |\n",
       "| CELL604_N1-SPF | 2944 |  9227 |  72 | 0.7803186 |  86 | 0.9320472 | 0 | 0.00000000 | SPF | 2944 | PTS1-S2 |\n",
       "| CELL539_N1-SPF | 2950 |  9847 |  21 | 0.2132629 |  99 | 1.0053824 | 0 | 0.00000000 | SPF | 2950 | PTS3    |\n",
       "\n"
      ],
      "text/plain": [
       "                n_genes_by_counts total_counts total_counts_mt pct_counts_mt\n",
       "CELL621_N1-SPF  2700               8840         33             0.3733032    \n",
       "CELL1872_N1-SPF 1677               4685         17             0.3628602    \n",
       "CELL677_N1-SPF  2782               8378        238             2.8407733    \n",
       "CELL94_N2-SPF   5368              21827        191             0.8750629    \n",
       "CELL604_N1-SPF  2944               9227         72             0.7803186    \n",
       "CELL539_N1-SPF  2950               9847         21             0.2132629    \n",
       "                total_counts_ribo pct_counts_ribo total_counts_hb pct_counts_hb\n",
       "CELL621_N1-SPF   70               0.7918553       0               0.00000000   \n",
       "CELL1872_N1-SPF  47               1.0032017       0               0.00000000   \n",
       "CELL677_N1-SPF  144               1.7187873       1               0.01193602   \n",
       "CELL94_N2-SPF   249               1.1407889       5               0.02290741   \n",
       "CELL604_N1-SPF   86               0.9320472       0               0.00000000   \n",
       "CELL539_N1-SPF   99               1.0053824       0               0.00000000   \n",
       "                batch n_genes celltype\n",
       "CELL621_N1-SPF  SPF   2700    PTS3    \n",
       "CELL1872_N1-SPF SPF   1677    PTS3    \n",
       "CELL677_N1-SPF  SPF   2782    PTS3    \n",
       "CELL94_N2-SPF   SPF   5368    PTS1-S2 \n",
       "CELL604_N1-SPF  SPF   2944    PTS1-S2 \n",
       "CELL539_N1-SPF  SPF   2950    PTS3    "
      ]
     },
     "metadata": {},
     "output_type": "display_data"
    }
   ],
   "source": [
    "head(sc@meta.data)"
   ]
  },
  {
   "cell_type": "code",
   "execution_count": 9,
   "id": "ba637828-8cf8-44ec-b48a-e96df51881c2",
   "metadata": {
    "execution": {
     "iopub.execute_input": "2023-03-31T03:09:27.543792Z",
     "iopub.status.busy": "2023-03-31T03:09:27.542358Z",
     "iopub.status.idle": "2023-03-31T03:09:27.555126Z",
     "shell.execute_reply": "2023-03-31T03:09:27.553932Z"
    },
    "tags": []
   },
   "outputs": [
    {
     "data": {
      "text/plain": [
       "\n",
       "  CD-PC     DCT DCT-CNT      EC     Fib    IC-A    IC-B LOH(AL) LOH(DL)      MΦ \n",
       "    560    1154     797    1692    1006     366     181    4849     572      78 \n",
       "PTS1-S2    PTS3     Pod     Uro \n",
       "   9937    3437      71     153 "
      ]
     },
     "metadata": {},
     "output_type": "display_data"
    }
   ],
   "source": [
    "table(sc@meta.data$celltype)"
   ]
  },
  {
   "cell_type": "code",
   "execution_count": null,
   "id": "397e288e-ebeb-4211-a090-cc598324c21d",
   "metadata": {},
   "outputs": [],
   "source": [
    "## ScAT annotation"
   ]
  },
  {
   "cell_type": "code",
   "execution_count": null,
   "id": "1465e70f-1538-4ce1-8a42-f8581dce61dd",
   "metadata": {},
   "outputs": [],
   "source": []
  },
  {
   "cell_type": "code",
   "execution_count": null,
   "id": "02cb25c4-ccd2-43ea-a456-872100d8ff84",
   "metadata": {},
   "outputs": [],
   "source": []
  },
  {
   "cell_type": "code",
   "execution_count": null,
   "id": "1efe69a6-bfda-4b1b-be8c-181154109c1a",
   "metadata": {},
   "outputs": [],
   "source": [
    "## ScAT trajectory"
   ]
  },
  {
   "cell_type": "code",
   "execution_count": null,
   "id": "9fb9f993-edf3-49ba-aa85-ead0f57a9f40",
   "metadata": {},
   "outputs": [],
   "source": []
  },
  {
   "cell_type": "code",
   "execution_count": null,
   "id": "1f1ec143-03b3-4061-bd80-1e148ab06ecf",
   "metadata": {},
   "outputs": [],
   "source": [
    "## ScAT CellCellInteration"
   ]
  },
  {
   "cell_type": "code",
   "execution_count": null,
   "id": "32be54cd-90b4-4e0d-ba80-ddb42bcb0bb8",
   "metadata": {},
   "outputs": [],
   "source": []
  },
  {
   "cell_type": "code",
   "execution_count": null,
   "id": "edaeaa89-b3e0-45f3-a22b-7c2395ebc0e8",
   "metadata": {},
   "outputs": [],
   "source": [
    "## "
   ]
  },
  {
   "cell_type": "code",
   "execution_count": 2,
   "id": "f5f8a6ce-49b3-4b45-81a0-92ffba037e18",
   "metadata": {
    "execution": {
     "iopub.execute_input": "2023-04-07T11:34:18.520601Z",
     "iopub.status.busy": "2023-04-07T11:34:18.489061Z",
     "iopub.status.idle": "2023-04-07T11:34:21.055401Z",
     "shell.execute_reply": "2023-04-07T11:34:21.054066Z"
    },
    "tags": []
   },
   "outputs": [],
   "source": [
    "suppressPackageStartupMessages({\n",
    "    library(Seurat)\n",
    "    library(SeuratObject)\n",
    "    library(Matrix)\n",
    "    library(ggplot2)\n",
    "    library(tictoc)\n",
    "})\n"
   ]
  },
  {
   "cell_type": "code",
   "execution_count": 8,
   "id": "548c3dfb-6b47-40c2-b378-ee9a970602b6",
   "metadata": {
    "execution": {
     "iopub.execute_input": "2023-04-07T11:37:43.033498Z",
     "iopub.status.busy": "2023-04-07T11:37:43.030907Z",
     "iopub.status.idle": "2023-04-07T11:42:17.181662Z",
     "shell.execute_reply": "2023-04-07T11:42:17.179965Z"
    },
    "tags": []
   },
   "outputs": [
    {
     "name": "stdout",
     "output_type": "stream",
     "text": [
      "[1] \"/data/work/previous/ScAT_github/data/kidney/counts_mtx\"\n"
     ]
    }
   ],
   "source": [
    "seuratObj_to_sparseMatrix <- function(object = sce, prefix = 'sample', output_path = NULL){\n",
    "    output_path = file.path(output_path, prefix, 'counts_mtx')\n",
    "    print(output_path)\n",
    "    dir.create(output_path, recursive = T, showWarnings = F)\n",
    "\n",
    "    ### save as 10x sparse matrix\n",
    "    mtx_file = paste(output_path,'matrix.mtx', sep = '/')\n",
    "    features_file = paste(output_path,'features.tsv', sep = '/')\n",
    "    barcodes_file = paste(output_path,'barcodes.tsv', sep = '/')\n",
    "    \n",
    "    ### Write gene expression in mtx format\n",
    "    writeMM(sce@assays$RNA@data, file = mtx_file)\n",
    "    # save gene and cell names\n",
    "    write(x = rownames(sce@assays$RNA@data), file = features_file)\n",
    "    write(x = colnames(sce@assays$RNA@data), file = barcodes_file)\n",
    "}\n",
    "\n",
    "output_path = '/data/work/previous/ScAT_github/data'\n",
    "prefix = 'kidney'\n",
    "sce <- readRDS('/data/work/previous/ScAT_github/data/sce.rds')\n",
    "DefaultAssay(sce) <- 'RNA'\n",
    "\n",
    "seuratObj_to_sparseMatrix(object = sce, prefix = prefix, output_path = output_path)"
   ]
  },
  {
   "cell_type": "code",
   "execution_count": 10,
   "id": "c206a553-1f08-4be2-b969-bf42238943e1",
   "metadata": {
    "execution": {
     "iopub.execute_input": "2023-04-07T11:44:57.748046Z",
     "iopub.status.busy": "2023-04-07T11:44:57.746256Z",
     "iopub.status.idle": "2023-04-07T11:45:23.373364Z",
     "shell.execute_reply": "2023-04-07T11:45:23.371028Z"
    },
    "tags": []
   },
   "outputs": [
    {
     "data": {
      "text/html": [],
      "text/latex": [],
      "text/markdown": [],
      "text/plain": [
       "character(0)"
      ]
     },
     "metadata": {},
     "output_type": "display_data"
    }
   ],
   "source": [
    "output_path = '/data/work/previous/ScAT_github/data'\n",
    "output_path = file.path(output_path, prefix, 'counts_mtx')\n",
    "command = paste0('gzip', ' ',output_path, '/*')\n",
    "system(command = command, intern = TRUE)"
   ]
  },
  {
   "cell_type": "code",
   "execution_count": null,
   "id": "217fdd87-e3e8-48f7-a5c1-a0bdb47be70a",
   "metadata": {
    "tags": []
   },
   "outputs": [],
   "source": []
  }
 ],
 "metadata": {
  "kernelspec": {
   "display_name": "Python 3 (ipykernel)",
   "language": "python",
   "name": "python3"
  },
  "language_info": {
   "codemirror_mode": {
    "name": "ipython",
    "version": 3
   },
   "file_extension": ".py",
   "mimetype": "text/x-python",
   "name": "python",
   "nbconvert_exporter": "python",
   "pygments_lexer": "ipython3",
   "version": "3.8.14"
  }
 },
 "nbformat": 4,
 "nbformat_minor": 5
}
