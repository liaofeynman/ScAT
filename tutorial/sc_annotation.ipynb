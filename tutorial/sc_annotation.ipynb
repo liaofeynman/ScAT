{
 "cells": [
  {
   "cell_type": "code",
   "execution_count": 5,
   "id": "c310d06a-3bec-40eb-8088-e52326984617",
   "metadata": {
    "execution": {
     "iopub.execute_input": "2023-04-10T08:21:12.853032Z",
     "iopub.status.busy": "2023-04-10T08:21:12.852573Z",
     "iopub.status.idle": "2023-04-10T09:16:33.498291Z",
     "shell.execute_reply": "2023-04-10T09:16:33.497063Z",
     "shell.execute_reply.started": "2023-04-10T08:21:12.852986Z"
    },
    "tags": []
   },
   "outputs": [
    {
     "name": "stdout",
     "output_type": "stream",
     "text": [
      "$cluster\n",
      "[1] \"/data/work/previous/ScAT_github/kidney/01.Clustering/kidney_clusterInfo.txt\"\n",
      "\n",
      "$input\n",
      "[1] \"/data/work/previous/ScAT_github/kidney/00.QC/step2/kidney_filt_norm_matrix.txt.gz\"\n",
      "\n",
      "$out\n",
      "[1] \"/data/work/previous/ScAT_github/kidney/03.Annotation\"\n",
      "\n",
      "$prefix\n",
      "[1] \"kidney\"\n",
      "\n",
      "$ref\n",
      "[1] \"/data/work/previous/ScAT_github/docs/celldex/MouseRNAseqData.rds\"\n",
      "\n",
      "$ref_col\n",
      "[1] \"/data/work/previous/ScAT_github/docs/celldex/MouseRNAseqData_coldata.rds\"\n",
      "\n",
      "[1] 17\n"
     ]
    },
    {
     "name": "stderr",
     "output_type": "stream",
     "text": [
      "Warning messages:\n",
      "1: In rm.NA == \"rows\" || rm.NA == \"both\" :\n",
      "  'length(x) = 4 > 1' in coercion to 'logical(1)'\n",
      "2: In rm.NA == \"cols\" || rm.NA == \"both\" :\n",
      "  'length(x) = 4 > 1' in coercion to 'logical(1)'\n",
      "3: In rm.NA == \"cols\" || rm.NA == \"both\" :\n",
      "  'length(x) = 4 > 1' in coercion to 'logical(1)'\n"
     ]
    }
   ],
   "source": [
    "%%sh\n",
    "\n",
    "path=/data/work/previous/ScAT_github\n",
    "scat=${path}/bin/ScAT.py\n",
    "\n",
    "rscript=/opt/conda/bin/Rscript\n",
    "kidney_dir=/data/work/previous/ScAT_github/data/kidney/counts_mtx\n",
    "prefix=kidney\n",
    "\n",
    "####################03 Annotation#############################\n",
    "python3 $scat Annotation \\\n",
    "    --Rscript $rscript \\\n",
    "    --input ${path}/$prefix/00.QC/step2/${prefix}_filt_norm_matrix.txt.gz \\\n",
    "    --prefix $prefix \\\n",
    "    --ref_name  'MouseRNAseqData' \\\n",
    "    --cluster ${path}/$prefix/01.Clustering/${prefix}_clusterInfo.txt\\\n",
    "    --out ${path}/$prefix/03.Annotation\n",
    "\n",
    "\n",
    "####################03 Annotation#############################"
   ]
  },
  {
   "cell_type": "code",
   "execution_count": null,
   "id": "1fd1e5f7-5bcd-46fa-a2fc-b090f79a42f3",
   "metadata": {
    "tags": []
   },
   "outputs": [],
   "source": []
  }
 ],
 "metadata": {
  "kernelspec": {
   "display_name": "Python 3 (ipykernel)",
   "language": "python",
   "name": "python3"
  },
  "language_info": {
   "codemirror_mode": {
    "name": "ipython",
    "version": 3
   },
   "file_extension": ".py",
   "mimetype": "text/x-python",
   "name": "python",
   "nbconvert_exporter": "python",
   "pygments_lexer": "ipython3",
   "version": "3.8.14"
  }
 },
 "nbformat": 4,
 "nbformat_minor": 5
}
