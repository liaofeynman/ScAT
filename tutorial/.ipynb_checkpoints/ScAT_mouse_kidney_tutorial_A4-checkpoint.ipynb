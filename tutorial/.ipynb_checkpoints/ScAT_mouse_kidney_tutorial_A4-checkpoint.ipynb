{
 "cells": [
  {
   "cell_type": "code",
   "execution_count": null,
   "id": "d7fa0487-21be-4ffb-ba9e-99fb88c94e25",
   "metadata": {},
   "outputs": [],
   "source": [
    "# ScAT的写法参考了STRIDE主程序\n",
    "# /ldfssz1/ST_OCEAN/USER/liaoshangfeng/software/anaconda3/envs/py38_dev/bin/STRIDE"
   ]
  },
  {
   "cell_type": "code",
   "execution_count": 3,
   "id": "dd91173d-10d5-4370-9083-5785202b4c1f",
   "metadata": {
    "execution": {
     "iopub.execute_input": "2023-03-30T16:39:34.859238Z",
     "iopub.status.busy": "2023-03-30T16:39:34.858500Z",
     "iopub.status.idle": "2023-03-30T16:39:35.098335Z",
     "shell.execute_reply": "2023-03-30T16:39:35.096545Z",
     "shell.execute_reply.started": "2023-03-30T16:39:34.859174Z"
    },
    "tags": []
   },
   "outputs": [
    {
     "name": "stdout",
     "output_type": "stream",
     "text": [
      "/data/work/previous/ScAT_github/tutorial\n"
     ]
    }
   ],
   "source": [
    "!pwd"
   ]
  },
  {
   "cell_type": "code",
   "execution_count": 4,
   "id": "83e6ebcd-8475-4bea-bb1d-0ea7ef8d610f",
   "metadata": {
    "execution": {
     "iopub.execute_input": "2023-03-30T16:39:36.351311Z",
     "iopub.status.busy": "2023-03-30T16:39:36.350620Z",
     "iopub.status.idle": "2023-03-30T16:39:36.447005Z",
     "shell.execute_reply": "2023-03-30T16:39:36.445340Z",
     "shell.execute_reply.started": "2023-03-30T16:39:36.351245Z"
    },
    "tags": []
   },
   "outputs": [
    {
     "name": "stdout",
     "output_type": "stream",
     "text": [
      "/data/work/previous/ScAT_github/core/bin/ScAT.py\n",
      "usage: ScAT [-h] [-v] {QcControl,Clustering,SpatialCluster,Annotation} ...\n",
      "\n",
      "ScAT - a python xxxxxxxxxxxxxxxxxx\n",
      "\n",
      "positional arguments:\n",
      "  {QcControl,Clustering,SpatialCluster,Annotation}\n",
      "    QcControl           Perform QC control by Seurat\n",
      "    Clustering          Perform cell cluster by Seurat\n",
      "    SpatialCluster      Perform spatial cluster by BayeSpaces\n",
      "    Annotation          Perform cell annotation by SingleR\n",
      "\n",
      "optional arguments:\n",
      "  -h, --help            show this help message and exit\n",
      "  -v, --version         Print version info.\n",
      "\n",
      "Use ScAT {command} -h to get help on individual commands\n"
     ]
    }
   ],
   "source": [
    "%%sh\n",
    "path=/data/work/previous/ScAT_github\n",
    "scat=${path}/core/bin/ScAT.py\n",
    "echo $scat\n",
    "python3 $scat -h"
   ]
  },
  {
   "cell_type": "code",
   "execution_count": 15,
   "id": "b0bb8d04-c9dc-4b86-b8d4-022503ef9a18",
   "metadata": {
    "collapsed": true,
    "execution": {
     "iopub.execute_input": "2023-03-30T17:53:25.373684Z",
     "iopub.status.busy": "2023-03-30T17:53:25.373279Z",
     "iopub.status.idle": "2023-03-30T18:01:48.639228Z",
     "shell.execute_reply": "2023-03-30T18:01:48.637400Z",
     "shell.execute_reply.started": "2023-03-30T17:53:25.373654Z"
    },
    "jupyter": {
     "outputs_hidden": true
    },
    "tags": []
   },
   "outputs": [
    {
     "name": "stdout",
     "output_type": "stream",
     "text": [
      "$binsize\n",
      "[1] 50\n",
      "\n",
      "$fileType\n",
      "[1] \"gem\"\n",
      "\n",
      "$geneColumn\n",
      "[1] 2\n",
      "\n",
      "$hbPattern\n",
      "[1] \"^Hb[^(p)]\"\n",
      "\n",
      "$hbRatio\n",
      "[1] 100\n",
      "\n",
      "$input\n",
      "[1] \"/data/work/previous/ScAT_github/data/FP200000495BL_A4.bin1.Lasso.gem.gz\"\n",
      "\n",
      "$mFilter\n",
      "[1] FALSE\n",
      "\n",
      "$maxCount\n",
      "[1] 1000000\n",
      "\n",
      "$maxFeature\n",
      "[1] 100000\n",
      "\n",
      "$minCell\n",
      "[1] 3\n",
      "\n",
      "$minCount\n",
      "[1] 0\n",
      "\n",
      "$minFeature\n",
      "[1] 0\n",
      "\n",
      "$mtPattern\n",
      "[1] \"^Mt\"\n",
      "\n",
      "$mtRatio\n",
      "[1] 100\n",
      "\n",
      "$out\n",
      "[1] \"/data/work/previous/ScAT_github/FP200000495BL_A4/50/00.QC/step1\"\n",
      "\n",
      "$platPattern\n",
      "[1] \"Pecam1|Pf4\"\n",
      "\n",
      "$platRatio\n",
      "[1] 100\n",
      "\n",
      "$prefix\n",
      "[1] \"FP200000495BL_A4\"\n",
      "\n",
      "$ptsize\n",
      "[1] 5\n",
      "\n",
      "$rbPattern\n",
      "[1] \"^Rp[sl]\"\n",
      "\n",
      "$rbRatio\n",
      "[1] 100\n",
      "\n"
     ]
    },
    {
     "name": "stderr",
     "output_type": "stream",
     "text": [
      "\n",
      "Attaching package: ‘psych’\n",
      "\n",
      "The following objects are masked from ‘package:ggplot2’:\n",
      "\n",
      "    %+%, alpha\n",
      "\n"
     ]
    }
   ],
   "source": [
    "%%sh\n",
    "\n",
    "path=/data/work/previous/ScAT_github\n",
    "scat=${path}/core/bin/ScAT.py\n",
    "\n",
    "rscript=/opt/conda/bin/Rscript\n",
    "gem_file=/data/work/previous/ScAT_github/data/FP200000495BL_A4.bin1.Lasso.gem.gz\n",
    "prefix=FP200000495BL_A4\n",
    "binsize=50\n",
    "\n",
    "###################00 QC Control#############################\n",
    "# step 1 Preview the data and obtain raw_seurat_object.rds\n",
    "# python3 $scat QcControl -h\n",
    "\n",
    "python3 $scat QcControl \\\n",
    "    --Rscript $rscript \\\n",
    "    --input $gem_file \\\n",
    "    --out ${path}/$prefix/$binsize/00.QC/step1 \\\n",
    "    --binsize $binsize \\\n",
    "    --prefix $prefix \\\n",
    "    --mtPattern '^Mt' \\\n",
    "    --rbPattern '^Rp[sl]' \\\n",
    "    --hbPattern '^Hb[^(p)]' \\\n",
    "    --platPattern 'Pecam1|Pf4' \\\n",
    "    --ptsize 5"
   ]
  },
  {
   "cell_type": "code",
   "execution_count": 16,
   "id": "9174c007-c632-4547-a910-4b612ddbd065",
   "metadata": {
    "execution": {
     "iopub.execute_input": "2023-03-30T18:01:48.678546Z",
     "iopub.status.busy": "2023-03-30T18:01:48.677950Z",
     "iopub.status.idle": "2023-03-30T18:42:06.522562Z",
     "shell.execute_reply": "2023-03-30T18:42:06.520436Z",
     "shell.execute_reply.started": "2023-03-30T18:01:48.678483Z"
    },
    "tags": []
   },
   "outputs": [
    {
     "name": "stdout",
     "output_type": "stream",
     "text": [
      "$binsize\n",
      "[1] 1\n",
      "\n",
      "$fileType\n",
      "[1] \"gem\"\n",
      "\n",
      "$geneColumn\n",
      "[1] 2\n",
      "\n",
      "$hbPattern\n",
      "[1] \"^HB[^(P)]\"\n",
      "\n",
      "$hbRatio\n",
      "[1] 100\n",
      "\n",
      "$input\n",
      "[1] \"/data/work/previous/ScAT_github/FP200000495BL_A4/50/00.QC/step1/FP200000495BL_A4_raw_seuratObject.rds\"\n",
      "\n",
      "$mFilter\n",
      "[1] FALSE\n",
      "\n",
      "$maxCount\n",
      "[1] 1000000\n",
      "\n",
      "$maxFeature\n",
      "[1] 100000\n",
      "\n",
      "$minCell\n",
      "[1] 3\n",
      "\n",
      "$minCount\n",
      "[1] 0\n",
      "\n",
      "$minFeature\n",
      "[1] 0\n",
      "\n",
      "$mtPattern\n",
      "[1] \"^MT-\"\n",
      "\n",
      "$mtRatio\n",
      "[1] 100\n",
      "\n",
      "$out\n",
      "[1] \"/data/work/previous/ScAT_github/FP200000495BL_A4/50/00.QC/step2\"\n",
      "\n",
      "$platPattern\n",
      "[1] \"PECAM1|PF4\"\n",
      "\n",
      "$platRatio\n",
      "[1] 100\n",
      "\n",
      "$prefix\n",
      "[1] \"FP200000495BL_A4\"\n",
      "\n",
      "$ptsize\n",
      "[1] 5\n",
      "\n",
      "$rbPattern\n",
      "[1] \"^RP[SL]\"\n",
      "\n",
      "$rbRatio\n",
      "[1] 100\n",
      "\n"
     ]
    },
    {
     "name": "stderr",
     "output_type": "stream",
     "text": [
      "\n",
      "Attaching package: ‘psych’\n",
      "\n",
      "The following objects are masked from ‘package:ggplot2’:\n",
      "\n",
      "    %+%, alpha\n",
      "\n",
      "Warning messages:\n",
      "1: In asMethod(object) :\n",
      "  sparse->dense coercion: allocating vector of size 4.9 GiB\n",
      "2: In asMethod(object) :\n",
      "  sparse->dense coercion: allocating vector of size 4.7 GiB\n"
     ]
    }
   ],
   "source": [
    "%%sh\n",
    "\n",
    "path=/data/work/previous/ScAT_github\n",
    "scat=${path}/core/bin/ScAT.py\n",
    "\n",
    "rscript=/opt/conda/bin/Rscript\n",
    "gem_file=/data/work/previous/ScAT_github/data/FP200000495BL_A4.bin1.Lasso.gem.gz\n",
    "prefix=FP200000495BL_A4\n",
    "binsize=50\n",
    "\n",
    "###################00 QC Control#############################\n",
    "# step 2 Perform filteraion and normalization \n",
    "# Note! You need to manually set the filter parameters based on the QC metrics generated in the previous step.\n",
    "# ~2.2G\n",
    "python3 $scat QcControl \\\n",
    "    --Rscript $rscript \\\n",
    "    --input ${path}/$prefix/$binsize/00.QC/step1/${prefix}_raw_seuratObject.rds \\\n",
    "    --out ${path}/$prefix/$binsize/00.QC/step2 \\\n",
    "    --prefix $prefix \\\n",
    "    --ptsize 5\n",
    "\n",
    "###################00 QC Control#############################"
   ]
  },
  {
   "cell_type": "code",
   "execution_count": 2,
   "id": "79d4fcac-5812-4b3d-914d-3798ce157fc8",
   "metadata": {
    "collapsed": true,
    "execution": {
     "iopub.execute_input": "2023-03-31T02:43:29.245083Z",
     "iopub.status.busy": "2023-03-31T02:43:29.244538Z",
     "iopub.status.idle": "2023-03-31T03:02:30.556675Z",
     "shell.execute_reply": "2023-03-31T03:02:30.554713Z",
     "shell.execute_reply.started": "2023-03-31T02:43:29.245032Z"
    },
    "jupyter": {
     "outputs_hidden": true
    },
    "tags": []
   },
   "outputs": [
    {
     "name": "stdout",
     "output_type": "stream",
     "text": [
      "$input\n",
      "[1] \"/data/work/previous/ScAT_github/FP200000495BL_A4/50/00.QC/step2/FP200000495BL_A4_filt_norm_seuratObject.rds\"\n",
      "\n",
      "$mSpatialVar\n",
      "[1] FALSE\n",
      "\n",
      "$out\n",
      "[1] \"/data/work/previous/ScAT_github/FP200000495BL_A4/50/01.Clustering\"\n",
      "\n",
      "$pc\n",
      "[1] 30\n",
      "\n",
      "$prefix\n",
      "[1] \"FP200000495BL_A4\"\n",
      "\n",
      "$ptsize\n",
      "[1] 1\n",
      "\n",
      "$resolution\n",
      "[1] 0.8\n",
      "\n",
      "$topN\n",
      "[1] 3\n",
      "\n"
     ]
    },
    {
     "name": "stderr",
     "output_type": "stream",
     "text": [
      "Computing nearest neighbor graph\n",
      "Computing SNN\n"
     ]
    },
    {
     "name": "stdout",
     "output_type": "stream",
     "text": [
      "Modularity Optimizer version 1.3.0 by Ludo Waltman and Nees Jan van Eck\n",
      "\n",
      "Number of nodes: 34092\n",
      "Number of edges: 1112675\n",
      "\n",
      "Running Louvain algorithm...\n"
     ]
    },
    {
     "name": "stderr",
     "output_type": "stream",
     "text": [
      "0%   10   20   30   40   50   60   70   80   90   100%\n",
      "[----|----|----|----|----|----|----|----|----|----|\n",
      "**************************************************|\n"
     ]
    },
    {
     "name": "stdout",
     "output_type": "stream",
     "text": [
      "Maximum modularity in 10 random starts: 0.8297\n",
      "Number of communities: 18\n",
      "Elapsed time: 11 seconds\n"
     ]
    },
    {
     "name": "stderr",
     "output_type": "stream",
     "text": [
      "Warning: The default method for RunUMAP has changed from calling Python UMAP via reticulate to the R-native UWOT using the cosine metric\n",
      "To use Python UMAP via reticulate, set umap.method to 'umap-learn' and metric to 'correlation'\n",
      "This message will be shown once per session\n",
      "Using method 'umap'\n",
      "0%   10   20   30   40   50   60   70   80   90   100%\n",
      "[----|----|----|----|----|----|----|----|----|----|\n",
      "**************************************************|\n"
     ]
    },
    {
     "name": "stdout",
     "output_type": "stream",
     "text": [
      "NULL\n"
     ]
    },
    {
     "name": "stderr",
     "output_type": "stream",
     "text": [
      "Warning: The following features are not present in the object: MCM5, PCNA, TYMS, FEN1, MCM2, MCM4, RRM1, UNG, GINS2, MCM6, CDCA7, DTL, PRIM1, UHRF1, MLF1IP, HELLS, RFC2, RPA2, NASP, RAD51AP1, GMNN, WDR76, SLBP, CCNE2, UBR7, POLD3, MSH2, ATAD2, RAD51, RRM2, CDC45, CDC6, EXO1, TIPIN, DSCC1, BLM, CASP8AP2, USP1, CLSPN, POLA1, CHAF1B, BRIP1, E2F8, not searching for symbol synonyms\n",
      "Warning: The following features are not present in the object: HMGB2, CDK1, NUSAP1, UBE2C, BIRC5, TPX2, TOP2A, NDC80, CKS2, NUF2, CKS1B, MKI67, TMPO, CENPF, TACC3, FAM64A, SMC4, CCNB2, CKAP2L, CKAP2, AURKB, BUB1, KIF11, ANP32E, TUBB4B, GTSE1, KIF20B, HJURP, CDCA3, HN1, CDC20, TTK, CDC25C, KIF2C, RANGAP1, NCAPD2, DLGAP5, CDCA2, CDCA8, ECT2, KIF23, HMMR, AURKA, PSRC1, ANLN, LBR, CKAP5, CENPE, CTCF, NEK2, G2E3, GAS2L3, CBX5, CENPA, not searching for symbol synonyms\n",
      "Performing log-normalization\n",
      "0%   10   20   30   40   50   60   70   80   90   100%\n",
      "[----|----|----|----|----|----|----|----|----|----|\n",
      "**************************************************|\n",
      "Calculating gene variances\n",
      "0%   10   20   30   40   50   60   70   80   90   100%\n",
      "[----|----|----|----|----|----|----|----|----|----|\n",
      "**************************************************|\n",
      "Calculating feature variances of standardized and clipped values\n",
      "0%   10   20   30   40   50   60   70   80   90   100%\n",
      "[----|----|----|----|----|----|----|----|----|----|\n",
      "**************************************************|\n",
      "Centering and scaling data matrix\n",
      "  |======================================================================| 100%\n",
      "Calculating cluster 0\n",
      "Calculating cluster 1\n",
      "Calculating cluster 2\n",
      "Calculating cluster 3\n",
      "Calculating cluster 4\n",
      "Calculating cluster 5\n",
      "Calculating cluster 6\n",
      "Calculating cluster 7\n",
      "Calculating cluster 8\n",
      "Calculating cluster 9\n",
      "Calculating cluster 10\n",
      "Calculating cluster 11\n",
      "Calculating cluster 12\n",
      "Calculating cluster 13\n",
      "Calculating cluster 14\n",
      "Calculating cluster 15\n",
      "Calculating cluster 16\n",
      "Calculating cluster 17\n"
     ]
    },
    {
     "name": "stdout",
     "output_type": "stream",
     "text": [
      "[1] \"Warning! Only 40 target genes were selected!\"\n"
     ]
    },
    {
     "name": "stderr",
     "output_type": "stream",
     "text": [
      "Warning message:\n",
      "In AddModuleScore(object = object, features = features, name = name,  :\n",
      "  Could not find enough features in the object from the following feature lists: S.Score Attempting to match case...Could not find enough features in the object from the following feature lists: G2M.Score Attempting to match case...\n"
     ]
    }
   ],
   "source": [
    "%%sh\n",
    "\n",
    "####################01 Clustering#############################\n",
    "# input: flt_norm_seurat_object.rds, assays: SCT\n",
    "path=/data/work/previous/ScAT_github\n",
    "scat=${path}/core/bin/ScAT.py\n",
    "\n",
    "rscript=/opt/conda/bin/Rscript\n",
    "gem_file=/data/work/previous/ScAT_github/data/FP200000495BL_A4.bin1.Lasso.gem.gz\n",
    "prefix=FP200000495BL_A4\n",
    "binsize=50\n",
    "\n",
    "\n",
    "python3 $scat Clustering \\\n",
    "    --Rscript $rscript \\\n",
    "    --input ${path}/$prefix/$binsize/00.QC/step2/${prefix}_filt_norm_seuratObject.rds \\\n",
    "    --out ${path}/$prefix/$binsize/01.Clustering \\\n",
    "    --prefix $prefix \n",
    "\n",
    "####################01 Clustering#############################"
   ]
  },
  {
   "cell_type": "code",
   "execution_count": null,
   "id": "29030e44-1893-4258-951b-27407ef8fb0d",
   "metadata": {
    "execution": {
     "iopub.execute_input": "2023-03-31T08:42:53.755688Z",
     "iopub.status.busy": "2023-03-31T08:42:53.754883Z"
    },
    "tags": []
   },
   "outputs": [],
   "source": [
    "%%sh\n",
    "\n",
    "######################09 SpatialCluster###############################\n",
    "\n",
    "path=/data/work/previous/ScAT_github\n",
    "scat=${path}/core/bin/ScAT.py\n",
    "\n",
    "rscript=/opt/conda/bin/Rscript\n",
    "gem_file=/data/work/previous/ScAT_github/data/FP200000495BL_A4.bin1.Lasso.gem.gz\n",
    "prefix=FP200000495BL_A4\n",
    "binsize=50\n",
    "st_rds=${path}/$prefix/$binsize/00.QC/step1/${prefix}_raw_seuratObject.rds\n",
    "\n",
    "# python3 $scat SpatialCluster -h\n",
    "python3 $scat SpatialCluster \\\n",
    "    --Rscript $rscript \\\n",
    "    --Stdata $st_rds \\\n",
    "    --clusterNumber 5 \\\n",
    "    --iterations 5000 \\\n",
    "    --out ${path}/$prefix/$binsize/09.SpatialCluster\n",
    "\n",
    "######################09 SpatialCluster###############################\n"
   ]
  },
  {
   "cell_type": "code",
   "execution_count": null,
   "id": "0827e642-4694-4b61-b499-84f152656aa6",
   "metadata": {},
   "outputs": [],
   "source": []
  },
  {
   "cell_type": "code",
   "execution_count": null,
   "id": "32440f52-040b-4684-ac31-89ee588c9287",
   "metadata": {},
   "outputs": [],
   "source": []
  },
  {
   "cell_type": "code",
   "execution_count": null,
   "id": "3043a96f-7b90-4c4b-ad8a-34bcca559f46",
   "metadata": {},
   "outputs": [],
   "source": []
  },
  {
   "cell_type": "code",
   "execution_count": null,
   "id": "a645daef-9ecb-4343-ba2c-2288ad6716c5",
   "metadata": {},
   "outputs": [],
   "source": []
  },
  {
   "cell_type": "code",
   "execution_count": 3,
   "id": "4d5cf467-7960-45ff-9886-1e02e491a032",
   "metadata": {
    "execution": {
     "iopub.execute_input": "2023-03-31T03:26:52.555304Z",
     "iopub.status.busy": "2023-03-31T03:26:52.554610Z",
     "iopub.status.idle": "2023-03-31T03:26:52.723161Z",
     "shell.execute_reply": "2023-03-31T03:26:52.721460Z",
     "shell.execute_reply.started": "2023-03-31T03:26:52.555245Z"
    },
    "tags": []
   },
   "outputs": [
    {
     "name": "stderr",
     "output_type": "stream",
     "text": [
      "usage: ScAT [-h] [-v] {QcControl,Clustering,SpatialCluster,Annotation} ...\n",
      "ScAT: error: argument subcommand: invalid choice: 'Trajectory' (choose from 'QcControl', 'Clustering', 'SpatialCluster', 'Annotation')\n"
     ]
    },
    {
     "ename": "CalledProcessError",
     "evalue": "Command 'b'\\n####################02 Trajectory#############################\\npath=/data/work/previous/ScAT_github\\nscat=${path}/core/bin/ScAT.py\\n\\nrscript=/opt/conda/bin/Rscript\\ngem_file=/data/work/previous/ScAT_github/data/FP200000495BL_A4.bin1.Lasso.gem.gz\\nprefix=FP200000495BL_A4\\nbinsize=50\\n\\npython3 $scat Trajectory \\\\\\n    --Rscript $rscript \\\\\\n    --input ${path}/$prefix/$binsize/01.Clustering/${prefix}_filt_norm_cluster_seuratObject.rds \\\\\\n    --out ${path}/$prefix/$binsize/02.trajectory \\\\\\n    --prefix $prefix \\\\\\n    --mDEG\\n\\n####################02 Trajectory#############################\\n'' returned non-zero exit status 2.",
     "output_type": "error",
     "traceback": [
      "\u001b[0;31m---------------------------------------------------------------------------\u001b[0m",
      "\u001b[0;31mCalledProcessError\u001b[0m                        Traceback (most recent call last)",
      "Cell \u001b[0;32mIn [3], line 1\u001b[0m\n\u001b[0;32m----> 1\u001b[0m \u001b[43mget_ipython\u001b[49m\u001b[43m(\u001b[49m\u001b[43m)\u001b[49m\u001b[38;5;241;43m.\u001b[39;49m\u001b[43mrun_cell_magic\u001b[49m\u001b[43m(\u001b[49m\u001b[38;5;124;43m'\u001b[39;49m\u001b[38;5;124;43msh\u001b[39;49m\u001b[38;5;124;43m'\u001b[39;49m\u001b[43m,\u001b[49m\u001b[43m \u001b[49m\u001b[38;5;124;43m'\u001b[39;49m\u001b[38;5;124;43m'\u001b[39;49m\u001b[43m,\u001b[49m\u001b[43m \u001b[49m\u001b[38;5;124;43m'\u001b[39;49m\u001b[38;5;130;43;01m\\n\u001b[39;49;00m\u001b[38;5;124;43m####################02 Trajectory#############################\u001b[39;49m\u001b[38;5;130;43;01m\\n\u001b[39;49;00m\u001b[38;5;124;43mpath=/data/work/previous/ScAT_github\u001b[39;49m\u001b[38;5;130;43;01m\\n\u001b[39;49;00m\u001b[38;5;124;43mscat=$\u001b[39;49m\u001b[38;5;132;43;01m{path}\u001b[39;49;00m\u001b[38;5;124;43m/core/bin/ScAT.py\u001b[39;49m\u001b[38;5;130;43;01m\\n\u001b[39;49;00m\u001b[38;5;130;43;01m\\n\u001b[39;49;00m\u001b[38;5;124;43mrscript=/opt/conda/bin/Rscript\u001b[39;49m\u001b[38;5;130;43;01m\\n\u001b[39;49;00m\u001b[38;5;124;43mgem_file=/data/work/previous/ScAT_github/data/FP200000495BL_A4.bin1.Lasso.gem.gz\u001b[39;49m\u001b[38;5;130;43;01m\\n\u001b[39;49;00m\u001b[38;5;124;43mprefix=FP200000495BL_A4\u001b[39;49m\u001b[38;5;130;43;01m\\n\u001b[39;49;00m\u001b[38;5;124;43mbinsize=50\u001b[39;49m\u001b[38;5;130;43;01m\\n\u001b[39;49;00m\u001b[38;5;130;43;01m\\n\u001b[39;49;00m\u001b[38;5;124;43mpython3 $scat Trajectory \u001b[39;49m\u001b[38;5;130;43;01m\\\\\u001b[39;49;00m\u001b[38;5;130;43;01m\\n\u001b[39;49;00m\u001b[38;5;124;43m    --Rscript $rscript \u001b[39;49m\u001b[38;5;130;43;01m\\\\\u001b[39;49;00m\u001b[38;5;130;43;01m\\n\u001b[39;49;00m\u001b[38;5;124;43m    --input $\u001b[39;49m\u001b[38;5;132;43;01m{path}\u001b[39;49;00m\u001b[38;5;124;43m/$prefix/$binsize/01.Clustering/$\u001b[39;49m\u001b[38;5;132;43;01m{prefix}\u001b[39;49;00m\u001b[38;5;124;43m_filt_norm_cluster_seuratObject.rds \u001b[39;49m\u001b[38;5;130;43;01m\\\\\u001b[39;49;00m\u001b[38;5;130;43;01m\\n\u001b[39;49;00m\u001b[38;5;124;43m    --out $\u001b[39;49m\u001b[38;5;132;43;01m{path}\u001b[39;49;00m\u001b[38;5;124;43m/$prefix/$binsize/02.trajectory \u001b[39;49m\u001b[38;5;130;43;01m\\\\\u001b[39;49;00m\u001b[38;5;130;43;01m\\n\u001b[39;49;00m\u001b[38;5;124;43m    --prefix $prefix \u001b[39;49m\u001b[38;5;130;43;01m\\\\\u001b[39;49;00m\u001b[38;5;130;43;01m\\n\u001b[39;49;00m\u001b[38;5;124;43m    --mDEG\u001b[39;49m\u001b[38;5;130;43;01m\\n\u001b[39;49;00m\u001b[38;5;130;43;01m\\n\u001b[39;49;00m\u001b[38;5;124;43m####################02 Trajectory#############################\u001b[39;49m\u001b[38;5;130;43;01m\\n\u001b[39;49;00m\u001b[38;5;124;43m'\u001b[39;49m\u001b[43m)\u001b[49m\n",
      "File \u001b[0;32m/opt/conda/lib/python3.8/site-packages/IPython/core/interactiveshell.py:2417\u001b[0m, in \u001b[0;36mInteractiveShell.run_cell_magic\u001b[0;34m(self, magic_name, line, cell)\u001b[0m\n\u001b[1;32m   2415\u001b[0m \u001b[38;5;28;01mwith\u001b[39;00m \u001b[38;5;28mself\u001b[39m\u001b[38;5;241m.\u001b[39mbuiltin_trap:\n\u001b[1;32m   2416\u001b[0m     args \u001b[38;5;241m=\u001b[39m (magic_arg_s, cell)\n\u001b[0;32m-> 2417\u001b[0m     result \u001b[38;5;241m=\u001b[39m \u001b[43mfn\u001b[49m\u001b[43m(\u001b[49m\u001b[38;5;241;43m*\u001b[39;49m\u001b[43margs\u001b[49m\u001b[43m,\u001b[49m\u001b[43m \u001b[49m\u001b[38;5;241;43m*\u001b[39;49m\u001b[38;5;241;43m*\u001b[39;49m\u001b[43mkwargs\u001b[49m\u001b[43m)\u001b[49m\n\u001b[1;32m   2418\u001b[0m \u001b[38;5;28;01mreturn\u001b[39;00m result\n",
      "File \u001b[0;32m/opt/conda/lib/python3.8/site-packages/IPython/core/magics/script.py:153\u001b[0m, in \u001b[0;36mScriptMagics._make_script_magic.<locals>.named_script_magic\u001b[0;34m(line, cell)\u001b[0m\n\u001b[1;32m    151\u001b[0m \u001b[38;5;28;01melse\u001b[39;00m:\n\u001b[1;32m    152\u001b[0m     line \u001b[38;5;241m=\u001b[39m script\n\u001b[0;32m--> 153\u001b[0m \u001b[38;5;28;01mreturn\u001b[39;00m \u001b[38;5;28;43mself\u001b[39;49m\u001b[38;5;241;43m.\u001b[39;49m\u001b[43mshebang\u001b[49m\u001b[43m(\u001b[49m\u001b[43mline\u001b[49m\u001b[43m,\u001b[49m\u001b[43m \u001b[49m\u001b[43mcell\u001b[49m\u001b[43m)\u001b[49m\n",
      "File \u001b[0;32m/opt/conda/lib/python3.8/site-packages/IPython/core/magics/script.py:305\u001b[0m, in \u001b[0;36mScriptMagics.shebang\u001b[0;34m(self, line, cell)\u001b[0m\n\u001b[1;32m    300\u001b[0m \u001b[38;5;28;01mif\u001b[39;00m args\u001b[38;5;241m.\u001b[39mraise_error \u001b[38;5;129;01mand\u001b[39;00m p\u001b[38;5;241m.\u001b[39mreturncode \u001b[38;5;241m!=\u001b[39m \u001b[38;5;241m0\u001b[39m:\n\u001b[1;32m    301\u001b[0m     \u001b[38;5;66;03m# If we get here and p.returncode is still None, we must have\u001b[39;00m\n\u001b[1;32m    302\u001b[0m     \u001b[38;5;66;03m# killed it but not yet seen its return code. We don't wait for it,\u001b[39;00m\n\u001b[1;32m    303\u001b[0m     \u001b[38;5;66;03m# in case it's stuck in uninterruptible sleep. -9 = SIGKILL\u001b[39;00m\n\u001b[1;32m    304\u001b[0m     rc \u001b[38;5;241m=\u001b[39m p\u001b[38;5;241m.\u001b[39mreturncode \u001b[38;5;129;01mor\u001b[39;00m \u001b[38;5;241m-\u001b[39m\u001b[38;5;241m9\u001b[39m\n\u001b[0;32m--> 305\u001b[0m     \u001b[38;5;28;01mraise\u001b[39;00m CalledProcessError(rc, cell)\n",
      "\u001b[0;31mCalledProcessError\u001b[0m: Command 'b'\\n####################02 Trajectory#############################\\npath=/data/work/previous/ScAT_github\\nscat=${path}/core/bin/ScAT.py\\n\\nrscript=/opt/conda/bin/Rscript\\ngem_file=/data/work/previous/ScAT_github/data/FP200000495BL_A4.bin1.Lasso.gem.gz\\nprefix=FP200000495BL_A4\\nbinsize=50\\n\\npython3 $scat Trajectory \\\\\\n    --Rscript $rscript \\\\\\n    --input ${path}/$prefix/$binsize/01.Clustering/${prefix}_filt_norm_cluster_seuratObject.rds \\\\\\n    --out ${path}/$prefix/$binsize/02.trajectory \\\\\\n    --prefix $prefix \\\\\\n    --mDEG\\n\\n####################02 Trajectory#############################\\n'' returned non-zero exit status 2."
     ]
    }
   ],
   "source": [
    "%%sh\n",
    "\n",
    "####################02 Trajectory#############################\n",
    "path=/data/work/previous/ScAT_github\n",
    "scat=${path}/core/bin/ScAT.py\n",
    "\n",
    "rscript=/opt/conda/bin/Rscript\n",
    "gem_file=/data/work/previous/ScAT_github/data/FP200000495BL_A4.bin1.Lasso.gem.gz\n",
    "prefix=FP200000495BL_A4\n",
    "binsize=50\n",
    "\n",
    "python3 $scat Trajectory \\\n",
    "    --Rscript $rscript \\\n",
    "    --input ${path}/$prefix/$binsize/01.Clustering/${prefix}_filt_norm_cluster_seuratObject.rds \\\n",
    "    --out ${path}/$prefix/$binsize/02.trajectory \\\n",
    "    --prefix $prefix \\\n",
    "    --mDEG\n",
    "\n",
    "####################02 Trajectory#############################"
   ]
  },
  {
   "cell_type": "code",
   "execution_count": null,
   "id": "dc09107e-814c-4363-bb86-f77ba0c625ff",
   "metadata": {},
   "outputs": [],
   "source": []
  },
  {
   "cell_type": "markdown",
   "id": "01202e93-c6ef-47e9-8d42-721ca1f4bc9e",
   "metadata": {},
   "source": [
    "## 单细胞数据测试"
   ]
  },
  {
   "cell_type": "code",
   "execution_count": null,
   "id": "fa590fc3-316e-47fc-9aad-952d5e63680f",
   "metadata": {
    "execution": {
     "iopub.status.busy": "2023-03-30T18:42:06.632443Z",
     "iopub.status.idle": "2023-03-30T18:42:06.633247Z"
    }
   },
   "outputs": [],
   "source": [
    "%%sh\n",
    "\n",
    "\n",
    "####################03 Annotation#############################\n",
    "path=/data/work/previous/ScAT_github\n",
    "scat=${path}/core/bin/ScAT.py\n",
    "\n",
    "rscript=/opt/conda/bin/Rscript\n",
    "gem_file=/data/work/previous/ScAT_github/data/FP200000495BL_A4.bin1.Lasso.gem.gz\n",
    "prefix=FP200000495BL_A4\n",
    "binsize=50\n",
    "\n",
    "\n",
    "python3 $scat Annotation \\\n",
    "    --Rscript $rscript \\\n",
    "    --input ${path}/$prefix/$binsize/00.QC/sc1_out/flt_norm/brain_filt_norm_matrix.txt.gz \\\n",
    "    --out ${path}/$prefix/$binsize/03.annotation/sc1_out \\\n",
    "    --prefix $prefix \\\n",
    "    --ref_name  'MouseRNAseqData' \\\n",
    "    --cluster ${path}/$prefix/$binsize/01.Clustering/sc1_out/brain_clusterInfo.txt \n",
    "\n",
    "####################03 Annotation#############################"
   ]
  },
  {
   "cell_type": "code",
   "execution_count": null,
   "id": "014fa2bb-be3e-418b-b842-9f7761313a5c",
   "metadata": {
    "execution": {
     "iopub.status.busy": "2023-03-30T18:42:07.002191Z",
     "iopub.status.idle": "2023-03-30T18:42:07.002545Z"
    },
    "tags": []
   },
   "outputs": [],
   "source": [
    "%%sh\n",
    "\n",
    "\n",
    "####################03 Annotation#############################\n",
    "path=/data/work/previous/ScAT_github\n",
    "scat=${path}/core/bin/ScAT.py\n",
    "\n",
    "rscript=/opt/conda/bin/Rscript\n",
    "gem_file=/data/work/previous/ScAT_github/data/FP200000495BL_A4.bin1.Lasso.gem.gz\n",
    "prefix=FP200000495BL_A4\n",
    "binsize=50\n",
    "\n",
    "####################05 CellCellInteraction#############################\n",
    "python3 $scat CellCellInteraction \\\n",
    "    --Rscript $rscript \\\n",
    "    --input ${path}/$prefix/$binsize/00.QC/step1/${prefix}_filt_norm_matrix.txt.gz \\\n",
    "    --out ${path}/$prefix/$binsize/04.CellCellInteraction/sc1_out \\\n",
    "    --meta ${path}/$prefix/$binsize/01.Clustering/${prefix}_clusterInfo_CCI.txt \\\n",
    "    --species 'Mouse' \\\n",
    "    --prefix $prefix\n",
    "\n",
    "####################05 CellCellInteraction#############################"
   ]
  },
  {
   "cell_type": "code",
   "execution_count": null,
   "id": "c86a4d67-c715-4f07-8597-75ae27132a59",
   "metadata": {},
   "outputs": [],
   "source": []
  },
  {
   "cell_type": "code",
   "execution_count": null,
   "id": "8f6f46f5-c22f-47d2-897a-c15656ae32ae",
   "metadata": {},
   "outputs": [],
   "source": []
  },
  {
   "cell_type": "code",
   "execution_count": null,
   "id": "e301c41c-cf53-412c-8468-449ad93a12c0",
   "metadata": {},
   "outputs": [],
   "source": []
  },
  {
   "cell_type": "code",
   "execution_count": null,
   "id": "a89e9172-a5c0-4c57-bb10-e0cb7cc8787c",
   "metadata": {},
   "outputs": [],
   "source": []
  },
  {
   "cell_type": "code",
   "execution_count": null,
   "id": "1ca27e67-98c0-439b-bfd5-81a05d46e9c4",
   "metadata": {},
   "outputs": [],
   "source": []
  },
  {
   "cell_type": "code",
   "execution_count": null,
   "id": "6502716f-353e-49cf-a297-9b78298d480f",
   "metadata": {},
   "outputs": [],
   "source": []
  },
  {
   "cell_type": "code",
   "execution_count": null,
   "id": "54c951bf-64c9-4180-b7ac-743c3dd2cbb3",
   "metadata": {},
   "outputs": [],
   "source": []
  },
  {
   "cell_type": "code",
   "execution_count": null,
   "id": "6a50c9e4-01b9-44af-8e21-62868f616fae",
   "metadata": {},
   "outputs": [],
   "source": []
  },
  {
   "cell_type": "code",
   "execution_count": null,
   "id": "00c1f2d2-5efa-402a-97c2-0a2b72743e2d",
   "metadata": {},
   "outputs": [],
   "source": []
  },
  {
   "cell_type": "code",
   "execution_count": null,
   "id": "98232ae1-7a5e-4957-a454-b26b1f170c0a",
   "metadata": {},
   "outputs": [],
   "source": []
  },
  {
   "cell_type": "code",
   "execution_count": null,
   "id": "fcc84b4f-ecd3-44dc-9c0a-22baba3f4dba",
   "metadata": {},
   "outputs": [],
   "source": [
    "# 0 and 1 are the exit codes.\n",
    "\n",
    "# exit(0) means a clean exit without any errors / problems\n",
    "# exit(1) means there was some issue / error / problem and that is why the program is exiting."
   ]
  }
 ],
 "metadata": {
  "kernelspec": {
   "display_name": "Python 3 (ipykernel)",
   "language": "python",
   "name": "python3"
  },
  "language_info": {
   "codemirror_mode": {
    "name": "ipython",
    "version": 3
   },
   "file_extension": ".py",
   "mimetype": "text/x-python",
   "name": "python",
   "nbconvert_exporter": "python",
   "pygments_lexer": "ipython3",
   "version": "3.8.14"
  }
 },
 "nbformat": 4,
 "nbformat_minor": 5
}
