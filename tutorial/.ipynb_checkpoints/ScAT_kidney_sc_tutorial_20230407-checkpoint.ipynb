{
 "cells": [
  {
   "cell_type": "code",
   "execution_count": 1,
   "id": "a034161d-dbcc-4913-8aa6-6fb2845e2a09",
   "metadata": {
    "execution": {
     "iopub.execute_input": "2023-04-07T10:40:30.254667Z",
     "iopub.status.busy": "2023-04-07T10:40:30.250785Z",
     "iopub.status.idle": "2023-04-07T10:40:33.044087Z",
     "shell.execute_reply": "2023-04-07T10:40:33.042711Z"
    },
    "tags": []
   },
   "outputs": [
    {
     "data": {
      "text/html": [
       "<table class=\"dataframe\">\n",
       "<caption>A matrix: 2 × 6 of type dbl</caption>\n",
       "<thead>\n",
       "\t<tr><th></th><th scope=col>used</th><th scope=col>(Mb)</th><th scope=col>gc trigger</th><th scope=col>(Mb)</th><th scope=col>max used</th><th scope=col>(Mb)</th></tr>\n",
       "</thead>\n",
       "<tbody>\n",
       "\t<tr><th scope=row>Ncells</th><td> 623753</td><td>33.4</td><td>1359134</td><td>72.6</td><td>1252499</td><td>66.9</td></tr>\n",
       "\t<tr><th scope=row>Vcells</th><td>1156383</td><td> 8.9</td><td>8388608</td><td>64.0</td><td>1801882</td><td>13.8</td></tr>\n",
       "</tbody>\n",
       "</table>\n"
      ],
      "text/latex": [
       "A matrix: 2 × 6 of type dbl\n",
       "\\begin{tabular}{r|llllll}\n",
       "  & used & (Mb) & gc trigger & (Mb) & max used & (Mb)\\\\\n",
       "\\hline\n",
       "\tNcells &  623753 & 33.4 & 1359134 & 72.6 & 1252499 & 66.9\\\\\n",
       "\tVcells & 1156383 &  8.9 & 8388608 & 64.0 & 1801882 & 13.8\\\\\n",
       "\\end{tabular}\n"
      ],
      "text/markdown": [
       "\n",
       "A matrix: 2 × 6 of type dbl\n",
       "\n",
       "| <!--/--> | used | (Mb) | gc trigger | (Mb) | max used | (Mb) |\n",
       "|---|---|---|---|---|---|---|\n",
       "| Ncells |  623753 | 33.4 | 1359134 | 72.6 | 1252499 | 66.9 |\n",
       "| Vcells | 1156383 |  8.9 | 8388608 | 64.0 | 1801882 | 13.8 |\n",
       "\n"
      ],
      "text/plain": [
       "       used    (Mb) gc trigger (Mb) max used (Mb)\n",
       "Ncells  623753 33.4 1359134    72.6 1252499  66.9\n",
       "Vcells 1156383  8.9 8388608    64.0 1801882  13.8"
      ]
     },
     "metadata": {},
     "output_type": "display_data"
    }
   ],
   "source": [
    "rm(list=ls())\n",
    "gc()\n",
    "suppressPackageStartupMessages({\n",
    "    library(ggplot2)\n",
    "    library(cowplot)\n",
    "    library(patchwork)\n",
    "    library(gridExtra)\n",
    "    library(Seurat)\n",
    "    library(RColorBrewer)\n",
    "    library(dplyr)\n",
    "    library(tictoc)\n",
    "    library(viridis)\n",
    "})\n",
    "\n",
    "set.seed(149)"
   ]
  },
  {
   "cell_type": "code",
   "execution_count": 2,
   "id": "991fc85a-a285-478a-ae4d-0e354e50f233",
   "metadata": {
    "execution": {
     "iopub.execute_input": "2023-04-07T10:40:57.130859Z",
     "iopub.status.busy": "2023-04-07T10:40:57.098065Z",
     "iopub.status.idle": "2023-04-07T10:40:57.142108Z",
     "shell.execute_reply": "2023-04-07T10:40:57.140837Z"
    },
    "tags": []
   },
   "outputs": [
    {
     "data": {
      "text/html": [
       "'/data/work/previous/ScAT_github/tutorial'"
      ],
      "text/latex": [
       "'/data/work/previous/ScAT\\_github/tutorial'"
      ],
      "text/markdown": [
       "'/data/work/previous/ScAT_github/tutorial'"
      ],
      "text/plain": [
       "[1] \"/data/work/previous/ScAT_github/tutorial\""
      ]
     },
     "metadata": {},
     "output_type": "display_data"
    }
   ],
   "source": [
    "getwd()"
   ]
  },
  {
   "cell_type": "code",
   "execution_count": 3,
   "id": "55262d75-dd2d-43f5-892c-3223beac115b",
   "metadata": {
    "execution": {
     "iopub.execute_input": "2023-04-07T10:41:30.687907Z",
     "iopub.status.busy": "2023-04-07T10:41:30.686541Z",
     "iopub.status.idle": "2023-04-07T10:41:35.998664Z",
     "shell.execute_reply": "2023-04-07T10:41:35.997162Z"
    },
    "tags": []
   },
   "outputs": [],
   "source": [
    "sce <- readRDS('../data/sce.rds')"
   ]
  },
  {
   "cell_type": "code",
   "execution_count": 4,
   "id": "a7f3ed52-af5e-49eb-a8c7-ff06f54fae13",
   "metadata": {
    "execution": {
     "iopub.execute_input": "2023-04-07T10:41:36.001549Z",
     "iopub.status.busy": "2023-04-07T10:41:36.000522Z",
     "iopub.status.idle": "2023-04-07T10:41:36.021062Z",
     "shell.execute_reply": "2023-04-07T10:41:36.019916Z"
    },
    "tags": []
   },
   "outputs": [
    {
     "data": {
      "text/html": [
       "<table class=\"dataframe\">\n",
       "<caption>A data.frame: 6 × 11</caption>\n",
       "<thead>\n",
       "\t<tr><th></th><th scope=col>n_genes_by_counts</th><th scope=col>total_counts</th><th scope=col>total_counts_mt</th><th scope=col>pct_counts_mt</th><th scope=col>total_counts_ribo</th><th scope=col>pct_counts_ribo</th><th scope=col>total_counts_hb</th><th scope=col>pct_counts_hb</th><th scope=col>batch</th><th scope=col>n_genes</th><th scope=col>celltype</th></tr>\n",
       "\t<tr><th></th><th scope=col>&lt;int&gt;</th><th scope=col>&lt;dbl&gt;</th><th scope=col>&lt;dbl&gt;</th><th scope=col>&lt;dbl&gt;</th><th scope=col>&lt;dbl&gt;</th><th scope=col>&lt;dbl&gt;</th><th scope=col>&lt;dbl&gt;</th><th scope=col>&lt;dbl&gt;</th><th scope=col>&lt;fct&gt;</th><th scope=col>&lt;int&gt;</th><th scope=col>&lt;fct&gt;</th></tr>\n",
       "</thead>\n",
       "<tbody>\n",
       "\t<tr><th scope=row>CELL621_N1-SPF</th><td>2700</td><td> 8840</td><td> 33</td><td>0.3733032</td><td> 70</td><td>0.7918553</td><td>0</td><td>0.00000000</td><td>SPF</td><td>2700</td><td>PTS3   </td></tr>\n",
       "\t<tr><th scope=row>CELL1872_N1-SPF</th><td>1677</td><td> 4685</td><td> 17</td><td>0.3628602</td><td> 47</td><td>1.0032017</td><td>0</td><td>0.00000000</td><td>SPF</td><td>1677</td><td>PTS3   </td></tr>\n",
       "\t<tr><th scope=row>CELL677_N1-SPF</th><td>2782</td><td> 8378</td><td>238</td><td>2.8407733</td><td>144</td><td>1.7187873</td><td>1</td><td>0.01193602</td><td>SPF</td><td>2782</td><td>PTS3   </td></tr>\n",
       "\t<tr><th scope=row>CELL94_N2-SPF</th><td>5368</td><td>21827</td><td>191</td><td>0.8750629</td><td>249</td><td>1.1407889</td><td>5</td><td>0.02290741</td><td>SPF</td><td>5368</td><td>PTS1-S2</td></tr>\n",
       "\t<tr><th scope=row>CELL604_N1-SPF</th><td>2944</td><td> 9227</td><td> 72</td><td>0.7803186</td><td> 86</td><td>0.9320472</td><td>0</td><td>0.00000000</td><td>SPF</td><td>2944</td><td>PTS1-S2</td></tr>\n",
       "\t<tr><th scope=row>CELL539_N1-SPF</th><td>2950</td><td> 9847</td><td> 21</td><td>0.2132629</td><td> 99</td><td>1.0053824</td><td>0</td><td>0.00000000</td><td>SPF</td><td>2950</td><td>PTS3   </td></tr>\n",
       "</tbody>\n",
       "</table>\n"
      ],
      "text/latex": [
       "A data.frame: 6 × 11\n",
       "\\begin{tabular}{r|lllllllllll}\n",
       "  & n\\_genes\\_by\\_counts & total\\_counts & total\\_counts\\_mt & pct\\_counts\\_mt & total\\_counts\\_ribo & pct\\_counts\\_ribo & total\\_counts\\_hb & pct\\_counts\\_hb & batch & n\\_genes & celltype\\\\\n",
       "  & <int> & <dbl> & <dbl> & <dbl> & <dbl> & <dbl> & <dbl> & <dbl> & <fct> & <int> & <fct>\\\\\n",
       "\\hline\n",
       "\tCELL621\\_N1-SPF & 2700 &  8840 &  33 & 0.3733032 &  70 & 0.7918553 & 0 & 0.00000000 & SPF & 2700 & PTS3   \\\\\n",
       "\tCELL1872\\_N1-SPF & 1677 &  4685 &  17 & 0.3628602 &  47 & 1.0032017 & 0 & 0.00000000 & SPF & 1677 & PTS3   \\\\\n",
       "\tCELL677\\_N1-SPF & 2782 &  8378 & 238 & 2.8407733 & 144 & 1.7187873 & 1 & 0.01193602 & SPF & 2782 & PTS3   \\\\\n",
       "\tCELL94\\_N2-SPF & 5368 & 21827 & 191 & 0.8750629 & 249 & 1.1407889 & 5 & 0.02290741 & SPF & 5368 & PTS1-S2\\\\\n",
       "\tCELL604\\_N1-SPF & 2944 &  9227 &  72 & 0.7803186 &  86 & 0.9320472 & 0 & 0.00000000 & SPF & 2944 & PTS1-S2\\\\\n",
       "\tCELL539\\_N1-SPF & 2950 &  9847 &  21 & 0.2132629 &  99 & 1.0053824 & 0 & 0.00000000 & SPF & 2950 & PTS3   \\\\\n",
       "\\end{tabular}\n"
      ],
      "text/markdown": [
       "\n",
       "A data.frame: 6 × 11\n",
       "\n",
       "| <!--/--> | n_genes_by_counts &lt;int&gt; | total_counts &lt;dbl&gt; | total_counts_mt &lt;dbl&gt; | pct_counts_mt &lt;dbl&gt; | total_counts_ribo &lt;dbl&gt; | pct_counts_ribo &lt;dbl&gt; | total_counts_hb &lt;dbl&gt; | pct_counts_hb &lt;dbl&gt; | batch &lt;fct&gt; | n_genes &lt;int&gt; | celltype &lt;fct&gt; |\n",
       "|---|---|---|---|---|---|---|---|---|---|---|---|\n",
       "| CELL621_N1-SPF | 2700 |  8840 |  33 | 0.3733032 |  70 | 0.7918553 | 0 | 0.00000000 | SPF | 2700 | PTS3    |\n",
       "| CELL1872_N1-SPF | 1677 |  4685 |  17 | 0.3628602 |  47 | 1.0032017 | 0 | 0.00000000 | SPF | 1677 | PTS3    |\n",
       "| CELL677_N1-SPF | 2782 |  8378 | 238 | 2.8407733 | 144 | 1.7187873 | 1 | 0.01193602 | SPF | 2782 | PTS3    |\n",
       "| CELL94_N2-SPF | 5368 | 21827 | 191 | 0.8750629 | 249 | 1.1407889 | 5 | 0.02290741 | SPF | 5368 | PTS1-S2 |\n",
       "| CELL604_N1-SPF | 2944 |  9227 |  72 | 0.7803186 |  86 | 0.9320472 | 0 | 0.00000000 | SPF | 2944 | PTS1-S2 |\n",
       "| CELL539_N1-SPF | 2950 |  9847 |  21 | 0.2132629 |  99 | 1.0053824 | 0 | 0.00000000 | SPF | 2950 | PTS3    |\n",
       "\n"
      ],
      "text/plain": [
       "                n_genes_by_counts total_counts total_counts_mt pct_counts_mt\n",
       "CELL621_N1-SPF  2700               8840         33             0.3733032    \n",
       "CELL1872_N1-SPF 1677               4685         17             0.3628602    \n",
       "CELL677_N1-SPF  2782               8378        238             2.8407733    \n",
       "CELL94_N2-SPF   5368              21827        191             0.8750629    \n",
       "CELL604_N1-SPF  2944               9227         72             0.7803186    \n",
       "CELL539_N1-SPF  2950               9847         21             0.2132629    \n",
       "                total_counts_ribo pct_counts_ribo total_counts_hb pct_counts_hb\n",
       "CELL621_N1-SPF   70               0.7918553       0               0.00000000   \n",
       "CELL1872_N1-SPF  47               1.0032017       0               0.00000000   \n",
       "CELL677_N1-SPF  144               1.7187873       1               0.01193602   \n",
       "CELL94_N2-SPF   249               1.1407889       5               0.02290741   \n",
       "CELL604_N1-SPF   86               0.9320472       0               0.00000000   \n",
       "CELL539_N1-SPF   99               1.0053824       0               0.00000000   \n",
       "                batch n_genes celltype\n",
       "CELL621_N1-SPF  SPF   2700    PTS3    \n",
       "CELL1872_N1-SPF SPF   1677    PTS3    \n",
       "CELL677_N1-SPF  SPF   2782    PTS3    \n",
       "CELL94_N2-SPF   SPF   5368    PTS1-S2 \n",
       "CELL604_N1-SPF  SPF   2944    PTS1-S2 \n",
       "CELL539_N1-SPF  SPF   2950    PTS3    "
      ]
     },
     "metadata": {},
     "output_type": "display_data"
    }
   ],
   "source": [
    "head(sce@meta.data)"
   ]
  }
 ],
 "metadata": {
  "kernelspec": {
   "display_name": "R",
   "language": "R",
   "name": "ir"
  },
  "language_info": {
   "codemirror_mode": "r",
   "file_extension": ".r",
   "mimetype": "text/x-r-source",
   "name": "R",
   "pygments_lexer": "r",
   "version": "4.2.2"
  }
 },
 "nbformat": 4,
 "nbformat_minor": 5
}
