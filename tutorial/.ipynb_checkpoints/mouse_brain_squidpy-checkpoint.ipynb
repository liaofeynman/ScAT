{
 "cells": [
  {
   "cell_type": "code",
   "execution_count": 1,
   "id": "180d62f4-4616-4256-a146-1dfa7c1e481f",
   "metadata": {
    "execution": {
     "iopub.execute_input": "2023-04-11T03:28:45.811379Z",
     "iopub.status.busy": "2023-04-11T03:28:45.810480Z",
     "iopub.status.idle": "2023-04-11T03:28:47.992967Z",
     "shell.execute_reply": "2023-04-11T03:28:47.991463Z",
     "shell.execute_reply.started": "2023-04-11T03:28:45.811212Z"
    },
    "tags": []
   },
   "outputs": [],
   "source": [
    "import warnings\n",
    "\n",
    "warnings.filterwarnings(\"ignore\")\n",
    "\n",
    "import matplotlib.patheffects as PathEffects\n",
    "import matplotlib.pyplot as plt\n",
    "import numpy as np\n",
    "import pandas as pd\n",
    "import scanpy as sc\n",
    "import seaborn as sns\n",
    "from anndata import AnnData\n",
    "\n",
    "%matplotlib inline\n",
    "from matplotlib.image import imread\n",
    "\n",
    "sns.set_style(\"darkgrid\")\n",
    "sns.set_palette(\"muted\")\n",
    "sns.set_context(\"notebook\", font_scale=1.5, rc={\"lines.linewidth\": 2.5})"
   ]
  },
  {
   "cell_type": "code",
   "execution_count": 2,
   "id": "f2df11d8-45e6-4998-b15f-5277afdf0097",
   "metadata": {
    "execution": {
     "iopub.execute_input": "2023-04-11T03:28:47.994508Z",
     "iopub.status.busy": "2023-04-11T03:28:47.994303Z",
     "iopub.status.idle": "2023-04-11T03:28:49.946321Z",
     "shell.execute_reply": "2023-04-11T03:28:49.945268Z",
     "shell.execute_reply.started": "2023-04-11T03:28:47.994489Z"
    },
    "tags": []
   },
   "outputs": [
    {
     "data": {
      "text/plain": [
       "AnnData object with n_obs × n_vars = 20347 × 26966\n",
       "    obs: 'orig.ident', 'x', 'y'\n",
       "    uns: 'sn'\n",
       "    obsm: 'spatial'"
      ]
     },
     "execution_count": 2,
     "metadata": {},
     "output_type": "execute_result"
    }
   ],
   "source": [
    "adata=sc.read(\"../data/spf_mouse_brain_bin100_raw.h5ad\")\n",
    "adata"
   ]
  },
  {
   "cell_type": "code",
   "execution_count": null,
   "id": "b6bfa463-5713-4513-9b05-70485bca8445",
   "metadata": {
    "execution": {
     "iopub.execute_input": "2023-04-11T03:28:49.947904Z",
     "iopub.status.busy": "2023-04-11T03:28:49.947609Z"
    },
    "tags": []
   },
   "outputs": [
    {
     "name": "stdout",
     "output_type": "stream",
     "text": [
      "WARNING: You’re trying to run this on 26966 dimensions of `.X`, if you really want this, set `use_rep='X'`.\n",
      "         Falling back to preprocessing with `sc.pp.pca` and default params.\n"
     ]
    }
   ],
   "source": [
    "sc.pp.neighbors(adata, n_neighbors=10, n_pcs=40)\n",
    "sc.tl.leiden(adata, key_added=\"leiden_pca\")\n",
    "sc.tl.umap(adata)"
   ]
  },
  {
   "cell_type": "code",
   "execution_count": null,
   "id": "deebad22-8f59-4969-a4b4-033eceb69b44",
   "metadata": {},
   "outputs": [],
   "source": [
    "adata.obs.head()"
   ]
  },
  {
   "cell_type": "code",
   "execution_count": null,
   "id": "cd02d118-e436-4009-aef5-5218e425063d",
   "metadata": {},
   "outputs": [],
   "source": [
    "sc.pl.spatial(adata, color=[\"leiden_pca\"], img_key = None, spot_size = 100)"
   ]
  },
  {
   "cell_type": "code",
   "execution_count": null,
   "id": "1f1b4cfc-e7e4-4c87-b8e5-aa5deb78dc83",
   "metadata": {},
   "outputs": [],
   "source": [
    "import squidpy as sq"
   ]
  },
  {
   "cell_type": "code",
   "execution_count": null,
   "id": "192be509-0312-464c-a57d-f3202b725264",
   "metadata": {},
   "outputs": [],
   "source": [
    "sq.gr.spatial_neighbors(adata, coord_type=\"grid\", n_neighs=4)"
   ]
  },
  {
   "cell_type": "code",
   "execution_count": null,
   "id": "0e0377bc-0592-4bee-836e-896b618da499",
   "metadata": {},
   "outputs": [],
   "source": [
    "## extract graph\n",
    "sc_dist = adata.obsp[\"distances\"]\n",
    "sc_dist"
   ]
  },
  {
   "cell_type": "code",
   "execution_count": null,
   "id": "e5226d09-fadd-4d18-91e1-e0d44ee6a77f",
   "metadata": {},
   "outputs": [],
   "source": [
    "sc_connect = adata.obsp[\"connectivities\"]\n",
    "sc_connect"
   ]
  },
  {
   "cell_type": "code",
   "execution_count": null,
   "id": "921c0df3-1fc9-4f2d-8f19-b936e51626fc",
   "metadata": {
    "tags": []
   },
   "outputs": [],
   "source": [
    "k_nearest_pca = pd.DataFrame(adata.obsm[\"X_pca\"])\n",
    "k_nearest_pca.head()"
   ]
  },
  {
   "cell_type": "code",
   "execution_count": null,
   "id": "c3fdf4e8-df11-4ee8-be01-721d201f75d3",
   "metadata": {
    "tags": []
   },
   "outputs": [],
   "source": [
    "k_nearest_pca.to_csv(\"../mouse_brain_bin100_sc_pp.csv\")"
   ]
  },
  {
   "cell_type": "code",
   "execution_count": null,
   "id": "81a69f16-5982-40c0-91bd-6e5e2fc8b6bb",
   "metadata": {
    "tags": []
   },
   "outputs": [],
   "source": [
    "sc.tl.leiden(adata, resolution=1, key_added=\"sq_leiden\", neighbors_key=\"spatial_neighbors\", use_weights = True)\n",
    "\n",
    "sc.pl.spatial(adata, color=[\"sq_leiden\"], img_key = None, spot_size = 100)"
   ]
  },
  {
   "cell_type": "code",
   "execution_count": null,
   "id": "dea4bca5-09b7-4b3c-87fe-32ac4e1b7b7b",
   "metadata": {},
   "outputs": [],
   "source": []
  }
 ],
 "metadata": {
  "kernelspec": {
   "display_name": "Python 3 (ipykernel)",
   "language": "python",
   "name": "python3"
  },
  "language_info": {
   "codemirror_mode": {
    "name": "ipython",
    "version": 3
   },
   "file_extension": ".py",
   "mimetype": "text/x-python",
   "name": "python",
   "nbconvert_exporter": "python",
   "pygments_lexer": "ipython3",
   "version": "3.8.14"
  }
 },
 "nbformat": 4,
 "nbformat_minor": 5
}
