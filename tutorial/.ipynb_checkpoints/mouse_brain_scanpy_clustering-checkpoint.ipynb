{
 "cells": [
  {
   "cell_type": "markdown",
   "id": "bfa60145-f13e-46f9-bb27-5d57219ec88b",
   "metadata": {},
   "source": [
    "# Analysis and visualization of Stereo-seq mouse brain data"
   ]
  },
  {
   "cell_type": "code",
   "execution_count": null,
   "id": "94b56e6e-4d4e-4e2a-8ab0-95fbb52abeb5",
   "metadata": {},
   "outputs": [],
   "source": [
    "# ## tutorial\n",
    "# https://scanpy-tutorials.readthedocs.io/en/latest/spatial/basic-analysis.html"
   ]
  },
  {
   "cell_type": "code",
   "execution_count": 8,
   "id": "f7970c50-d1c8-4278-98f3-c5b815923e95",
   "metadata": {
    "execution": {
     "iopub.execute_input": "2023-04-12T06:49:24.538042Z",
     "iopub.status.busy": "2023-04-12T06:49:24.537489Z",
     "iopub.status.idle": "2023-04-12T06:49:24.618345Z",
     "shell.execute_reply": "2023-04-12T06:49:24.616506Z",
     "shell.execute_reply.started": "2023-04-12T06:49:24.537996Z"
    },
    "tags": []
   },
   "outputs": [],
   "source": [
    "import scanpy as sc\n",
    "import pandas as pd\n",
    "import numpy as np\n",
    "import matplotlib.pyplot as plt\n",
    "import seaborn as sns"
   ]
  },
  {
   "cell_type": "markdown",
   "id": "3949145f-d6b9-4a41-9654-5092dd80ebca",
   "metadata": {},
   "source": [
    "## Reading the data"
   ]
  },
  {
   "cell_type": "code",
   "execution_count": 9,
   "id": "5bd56ade-b4e9-4854-a4b5-11c04742095c",
   "metadata": {
    "execution": {
     "iopub.execute_input": "2023-04-12T06:49:27.222567Z",
     "iopub.status.busy": "2023-04-12T06:49:27.221366Z",
     "iopub.status.idle": "2023-04-12T06:49:29.798297Z",
     "shell.execute_reply": "2023-04-12T06:49:29.797256Z",
     "shell.execute_reply.started": "2023-04-12T06:49:27.222452Z"
    },
    "tags": []
   },
   "outputs": [
    {
     "data": {
      "text/plain": [
       "AnnData object with n_obs × n_vars = 20347 × 26966\n",
       "    obs: 'orig.ident', 'x', 'y'\n",
       "    uns: 'sn'\n",
       "    obsm: 'spatial'"
      ]
     },
     "execution_count": 9,
     "metadata": {},
     "output_type": "execute_result"
    }
   ],
   "source": [
    "adata=sc.read(\"../data/spf_mouse_brain_bin100_raw.h5ad\")\n",
    "adata"
   ]
  },
  {
   "cell_type": "code",
   "execution_count": 10,
   "id": "439613dd-08d3-4a2b-9127-18e026886463",
   "metadata": {
    "execution": {
     "iopub.execute_input": "2023-04-12T06:49:29.800205Z",
     "iopub.status.busy": "2023-04-12T06:49:29.799807Z",
     "iopub.status.idle": "2023-04-12T06:49:34.588583Z",
     "shell.execute_reply": "2023-04-12T06:49:34.587504Z",
     "shell.execute_reply.started": "2023-04-12T06:49:29.800182Z"
    },
    "tags": []
   },
   "outputs": [],
   "source": [
    "adata.var_names_make_unique()\n",
    "adata.var[\"mt\"] = adata.var_names.str.startswith(\"Mt-\")\n",
    "sc.pp.calculate_qc_metrics(adata, qc_vars=[\"mt\"], inplace=True)"
   ]
  },
  {
   "cell_type": "code",
   "execution_count": 11,
   "id": "8170e8fb-f2bf-49b8-ab1c-6578555d76f2",
   "metadata": {
    "execution": {
     "iopub.execute_input": "2023-04-12T06:49:34.589748Z",
     "iopub.status.busy": "2023-04-12T06:49:34.589518Z",
     "iopub.status.idle": "2023-04-12T06:49:34.596439Z",
     "shell.execute_reply": "2023-04-12T06:49:34.595506Z",
     "shell.execute_reply.started": "2023-04-12T06:49:34.589728Z"
    },
    "tags": []
   },
   "outputs": [
    {
     "data": {
      "text/plain": [
       "AnnData object with n_obs × n_vars = 20347 × 26966\n",
       "    obs: 'orig.ident', 'x', 'y', 'n_genes_by_counts', 'log1p_n_genes_by_counts', 'total_counts', 'log1p_total_counts', 'pct_counts_in_top_50_genes', 'pct_counts_in_top_100_genes', 'pct_counts_in_top_200_genes', 'pct_counts_in_top_500_genes', 'total_counts_mt', 'log1p_total_counts_mt', 'pct_counts_mt'\n",
       "    var: 'mt', 'n_cells_by_counts', 'mean_counts', 'log1p_mean_counts', 'pct_dropout_by_counts', 'total_counts', 'log1p_total_counts'\n",
       "    uns: 'sn'\n",
       "    obsm: 'spatial'"
      ]
     },
     "execution_count": 11,
     "metadata": {},
     "output_type": "execute_result"
    }
   ],
   "source": [
    "adata"
   ]
  },
  {
   "cell_type": "markdown",
   "id": "dee16e9e-b1ae-4958-b073-a80c11186189",
   "metadata": {},
   "source": [
    "## QC and preprocessing"
   ]
  },
  {
   "cell_type": "code",
   "execution_count": 12,
   "id": "ad37ca51-0405-4778-b2a6-8a6f01814bb3",
   "metadata": {
    "execution": {
     "iopub.execute_input": "2023-04-12T06:49:34.598605Z",
     "iopub.status.busy": "2023-04-12T06:49:34.598326Z",
     "iopub.status.idle": "2023-04-12T06:49:34.603095Z",
     "shell.execute_reply": "2023-04-12T06:49:34.602082Z",
     "shell.execute_reply.started": "2023-04-12T06:49:34.598581Z"
    },
    "tags": []
   },
   "outputs": [],
   "source": [
    "# fig, axs = plt.subplots(1, 4, figsize=(15, 4))\n",
    "# sns.distplot(adata.obs[\"total_counts\"], kde=False, ax=axs[0])\n",
    "# sns.distplot(adata.obs[\"total_counts\"][adata.obs[\"total_counts\"] < 10000], kde=False, bins=40, ax=axs[1])\n",
    "# sns.distplot(adata.obs[\"n_genes_by_counts\"], kde=False, bins=60, ax=axs[2])\n",
    "# sns.distplot(adata.obs[\"n_genes_by_counts\"][adata.obs[\"n_genes_by_counts\"] < 4000], kde=False, bins=60, ax=axs[3])"
   ]
  },
  {
   "cell_type": "markdown",
   "id": "bfbf389f-5468-484c-ace9-f55ced5fe063",
   "metadata": {
    "execution": {
     "iopub.execute_input": "2023-04-12T06:46:48.739120Z",
     "iopub.status.busy": "2023-04-12T06:46:48.737549Z",
     "iopub.status.idle": "2023-04-12T06:46:48.744918Z",
     "shell.execute_reply": "2023-04-12T06:46:48.743462Z",
     "shell.execute_reply.started": "2023-04-12T06:46:48.739053Z"
    }
   },
   "source": [
    "### filter spots with barcodes"
   ]
  },
  {
   "cell_type": "code",
   "execution_count": 13,
   "id": "c6fcfdb8-404a-44e7-b82e-7d66ea408ba9",
   "metadata": {
    "execution": {
     "iopub.execute_input": "2023-04-12T06:49:34.604432Z",
     "iopub.status.busy": "2023-04-12T06:49:34.604176Z",
     "iopub.status.idle": "2023-04-12T06:49:34.653638Z",
     "shell.execute_reply": "2023-04-12T06:49:34.652715Z",
     "shell.execute_reply.started": "2023-04-12T06:49:34.604409Z"
    },
    "tags": []
   },
   "outputs": [
    {
     "data": {
      "text/html": [
       "<div>\n",
       "<style scoped>\n",
       "    .dataframe tbody tr th:only-of-type {\n",
       "        vertical-align: middle;\n",
       "    }\n",
       "\n",
       "    .dataframe tbody tr th {\n",
       "        vertical-align: top;\n",
       "    }\n",
       "\n",
       "    .dataframe thead th {\n",
       "        text-align: right;\n",
       "    }\n",
       "</style>\n",
       "<table border=\"1\" class=\"dataframe\">\n",
       "  <thead>\n",
       "    <tr style=\"text-align: right;\">\n",
       "      <th></th>\n",
       "      <th>orig.ident</th>\n",
       "      <th>x</th>\n",
       "      <th>y</th>\n",
       "      <th>n_genes_by_counts</th>\n",
       "      <th>log1p_n_genes_by_counts</th>\n",
       "      <th>total_counts</th>\n",
       "      <th>log1p_total_counts</th>\n",
       "      <th>pct_counts_in_top_50_genes</th>\n",
       "      <th>pct_counts_in_top_100_genes</th>\n",
       "      <th>pct_counts_in_top_200_genes</th>\n",
       "      <th>pct_counts_in_top_500_genes</th>\n",
       "      <th>total_counts_mt</th>\n",
       "      <th>log1p_total_counts_mt</th>\n",
       "      <th>pct_counts_mt</th>\n",
       "      <th>bin100_x</th>\n",
       "      <th>bin100_y</th>\n",
       "      <th>barcodes</th>\n",
       "    </tr>\n",
       "  </thead>\n",
       "  <tbody>\n",
       "    <tr>\n",
       "      <th>132_43</th>\n",
       "      <td>sample</td>\n",
       "      <td>19775</td>\n",
       "      <td>7275</td>\n",
       "      <td>4115</td>\n",
       "      <td>8.322637</td>\n",
       "      <td>11378.0</td>\n",
       "      <td>9.339525</td>\n",
       "      <td>13.675514</td>\n",
       "      <td>19.458604</td>\n",
       "      <td>27.948673</td>\n",
       "      <td>43.918088</td>\n",
       "      <td>0.0</td>\n",
       "      <td>0.0</td>\n",
       "      <td>0.0</td>\n",
       "      <td>19700</td>\n",
       "      <td>7200</td>\n",
       "      <td>19700-7200</td>\n",
       "    </tr>\n",
       "    <tr>\n",
       "      <th>91_6</th>\n",
       "      <td>sample</td>\n",
       "      <td>15675</td>\n",
       "      <td>3575</td>\n",
       "      <td>1941</td>\n",
       "      <td>7.571474</td>\n",
       "      <td>3927.0</td>\n",
       "      <td>8.275886</td>\n",
       "      <td>20.015279</td>\n",
       "      <td>27.119939</td>\n",
       "      <td>37.356761</td>\n",
       "      <td>56.913675</td>\n",
       "      <td>0.0</td>\n",
       "      <td>0.0</td>\n",
       "      <td>0.0</td>\n",
       "      <td>15600</td>\n",
       "      <td>3500</td>\n",
       "      <td>15600-3500</td>\n",
       "    </tr>\n",
       "    <tr>\n",
       "      <th>96_109</th>\n",
       "      <td>sample</td>\n",
       "      <td>16175</td>\n",
       "      <td>13875</td>\n",
       "      <td>2450</td>\n",
       "      <td>7.804251</td>\n",
       "      <td>5847.0</td>\n",
       "      <td>8.673855</td>\n",
       "      <td>21.942877</td>\n",
       "      <td>29.040534</td>\n",
       "      <td>38.635198</td>\n",
       "      <td>56.131349</td>\n",
       "      <td>0.0</td>\n",
       "      <td>0.0</td>\n",
       "      <td>0.0</td>\n",
       "      <td>16100</td>\n",
       "      <td>13800</td>\n",
       "      <td>16100-13800</td>\n",
       "    </tr>\n",
       "    <tr>\n",
       "      <th>69_21</th>\n",
       "      <td>sample</td>\n",
       "      <td>13475</td>\n",
       "      <td>5075</td>\n",
       "      <td>3899</td>\n",
       "      <td>8.268732</td>\n",
       "      <td>10698.0</td>\n",
       "      <td>9.277906</td>\n",
       "      <td>13.890447</td>\n",
       "      <td>19.807441</td>\n",
       "      <td>28.201533</td>\n",
       "      <td>44.251262</td>\n",
       "      <td>0.0</td>\n",
       "      <td>0.0</td>\n",
       "      <td>0.0</td>\n",
       "      <td>13400</td>\n",
       "      <td>5000</td>\n",
       "      <td>13400-5000</td>\n",
       "    </tr>\n",
       "    <tr>\n",
       "      <th>109_22</th>\n",
       "      <td>sample</td>\n",
       "      <td>17475</td>\n",
       "      <td>5175</td>\n",
       "      <td>4109</td>\n",
       "      <td>8.321178</td>\n",
       "      <td>11953.0</td>\n",
       "      <td>9.388821</td>\n",
       "      <td>12.758303</td>\n",
       "      <td>18.572743</td>\n",
       "      <td>27.139630</td>\n",
       "      <td>43.361499</td>\n",
       "      <td>0.0</td>\n",
       "      <td>0.0</td>\n",
       "      <td>0.0</td>\n",
       "      <td>17400</td>\n",
       "      <td>5100</td>\n",
       "      <td>17400-5100</td>\n",
       "    </tr>\n",
       "  </tbody>\n",
       "</table>\n",
       "</div>"
      ],
      "text/plain": [
       "       orig.ident      x      y  n_genes_by_counts  log1p_n_genes_by_counts  \\\n",
       "132_43     sample  19775   7275               4115                 8.322637   \n",
       "91_6       sample  15675   3575               1941                 7.571474   \n",
       "96_109     sample  16175  13875               2450                 7.804251   \n",
       "69_21      sample  13475   5075               3899                 8.268732   \n",
       "109_22     sample  17475   5175               4109                 8.321178   \n",
       "\n",
       "        total_counts  log1p_total_counts  pct_counts_in_top_50_genes  \\\n",
       "132_43       11378.0            9.339525                   13.675514   \n",
       "91_6          3927.0            8.275886                   20.015279   \n",
       "96_109        5847.0            8.673855                   21.942877   \n",
       "69_21        10698.0            9.277906                   13.890447   \n",
       "109_22       11953.0            9.388821                   12.758303   \n",
       "\n",
       "        pct_counts_in_top_100_genes  pct_counts_in_top_200_genes  \\\n",
       "132_43                    19.458604                    27.948673   \n",
       "91_6                      27.119939                    37.356761   \n",
       "96_109                    29.040534                    38.635198   \n",
       "69_21                     19.807441                    28.201533   \n",
       "109_22                    18.572743                    27.139630   \n",
       "\n",
       "        pct_counts_in_top_500_genes  total_counts_mt  log1p_total_counts_mt  \\\n",
       "132_43                    43.918088              0.0                    0.0   \n",
       "91_6                      56.913675              0.0                    0.0   \n",
       "96_109                    56.131349              0.0                    0.0   \n",
       "69_21                     44.251262              0.0                    0.0   \n",
       "109_22                    43.361499              0.0                    0.0   \n",
       "\n",
       "        pct_counts_mt  bin100_x  bin100_y     barcodes  \n",
       "132_43            0.0     19700      7200   19700-7200  \n",
       "91_6              0.0     15600      3500   15600-3500  \n",
       "96_109            0.0     16100     13800  16100-13800  \n",
       "69_21             0.0     13400      5000   13400-5000  \n",
       "109_22            0.0     17400      5100   17400-5100  "
      ]
     },
     "execution_count": 13,
     "metadata": {},
     "output_type": "execute_result"
    }
   ],
   "source": [
    "adata.obs['bin100_x'] = (adata.obs['x']/100).astype(np.int32) *100\n",
    "adata.obs['bin100_y'] = (adata.obs['y']/100).astype(np.int32) *100\n",
    "adata.obs['barcodes'] = adata.obs['bin100_x'].astype('str') + '-' + adata.obs['bin100_y'].astype('str')\n",
    "adata.obs.head()"
   ]
  },
  {
   "cell_type": "code",
   "execution_count": 14,
   "id": "6b06e1f6-967a-4212-a8a9-65bbb5e717d9",
   "metadata": {
    "execution": {
     "iopub.execute_input": "2023-04-12T06:49:34.654805Z",
     "iopub.status.busy": "2023-04-12T06:49:34.654603Z",
     "iopub.status.idle": "2023-04-12T06:49:34.676103Z",
     "shell.execute_reply": "2023-04-12T06:49:34.675152Z",
     "shell.execute_reply.started": "2023-04-12T06:49:34.654787Z"
    },
    "tags": []
   },
   "outputs": [
    {
     "name": "stdout",
     "output_type": "stream",
     "text": [
      "(19552, 1)\n"
     ]
    },
    {
     "data": {
      "text/html": [
       "<div>\n",
       "<style scoped>\n",
       "    .dataframe tbody tr th:only-of-type {\n",
       "        vertical-align: middle;\n",
       "    }\n",
       "\n",
       "    .dataframe tbody tr th {\n",
       "        vertical-align: top;\n",
       "    }\n",
       "\n",
       "    .dataframe thead th {\n",
       "        text-align: right;\n",
       "    }\n",
       "</style>\n",
       "<table border=\"1\" class=\"dataframe\">\n",
       "  <thead>\n",
       "    <tr style=\"text-align: right;\">\n",
       "      <th></th>\n",
       "      <th>x</th>\n",
       "    </tr>\n",
       "  </thead>\n",
       "  <tbody>\n",
       "    <tr>\n",
       "      <th>1</th>\n",
       "      <td>7100-11300</td>\n",
       "    </tr>\n",
       "    <tr>\n",
       "      <th>2</th>\n",
       "      <td>7500-9300</td>\n",
       "    </tr>\n",
       "    <tr>\n",
       "      <th>3</th>\n",
       "      <td>7900-11600</td>\n",
       "    </tr>\n",
       "    <tr>\n",
       "      <th>4</th>\n",
       "      <td>8000-12400</td>\n",
       "    </tr>\n",
       "    <tr>\n",
       "      <th>5</th>\n",
       "      <td>8300-15800</td>\n",
       "    </tr>\n",
       "  </tbody>\n",
       "</table>\n",
       "</div>"
      ],
      "text/plain": [
       "            x\n",
       "1  7100-11300\n",
       "2   7500-9300\n",
       "3  7900-11600\n",
       "4  8000-12400\n",
       "5  8300-15800"
      ]
     },
     "execution_count": 14,
     "metadata": {},
     "output_type": "execute_result"
    }
   ],
   "source": [
    "barcodes = pd.read_csv('mouse_brain_barcodes_filt_barcodes.csv', index_col=0)\n",
    "print(barcodes.shape)\n",
    "barcodes.head()"
   ]
  },
  {
   "cell_type": "code",
   "execution_count": 15,
   "id": "dd1df416-1907-4c20-a4c8-d9be2ce287b5",
   "metadata": {
    "execution": {
     "iopub.execute_input": "2023-04-12T06:49:34.677333Z",
     "iopub.status.busy": "2023-04-12T06:49:34.677042Z",
     "iopub.status.idle": "2023-04-12T06:49:34.696689Z",
     "shell.execute_reply": "2023-04-12T06:49:34.695731Z",
     "shell.execute_reply.started": "2023-04-12T06:49:34.677314Z"
    },
    "tags": []
   },
   "outputs": [
    {
     "name": "stderr",
     "output_type": "stream",
     "text": [
      "/opt/conda/lib/python3.8/site-packages/pandas/core/arrays/categorical.py:2631: FutureWarning: The `inplace` parameter in pandas.Categorical.remove_unused_categories is deprecated and will be removed in a future version.\n",
      "  res = method(*args, **kwargs)\n"
     ]
    },
    {
     "data": {
      "text/plain": [
       "View of AnnData object with n_obs × n_vars = 19552 × 26966\n",
       "    obs: 'orig.ident', 'x', 'y', 'n_genes_by_counts', 'log1p_n_genes_by_counts', 'total_counts', 'log1p_total_counts', 'pct_counts_in_top_50_genes', 'pct_counts_in_top_100_genes', 'pct_counts_in_top_200_genes', 'pct_counts_in_top_500_genes', 'total_counts_mt', 'log1p_total_counts_mt', 'pct_counts_mt', 'bin100_x', 'bin100_y', 'barcodes'\n",
       "    var: 'mt', 'n_cells_by_counts', 'mean_counts', 'log1p_mean_counts', 'pct_dropout_by_counts', 'total_counts', 'log1p_total_counts'\n",
       "    uns: 'sn'\n",
       "    obsm: 'spatial'"
      ]
     },
     "execution_count": 15,
     "metadata": {},
     "output_type": "execute_result"
    }
   ],
   "source": [
    "adata = adata[adata.obs['barcodes'].isin(barcodes['x'].tolist())]\n",
    "adata"
   ]
  },
  {
   "cell_type": "code",
   "execution_count": null,
   "id": "4d687a95-efbf-47fd-91b2-ba75602aab17",
   "metadata": {
    "execution": {
     "iopub.execute_input": "2023-04-12T06:49:34.697823Z",
     "iopub.status.busy": "2023-04-12T06:49:34.697622Z"
    },
    "tags": []
   },
   "outputs": [
    {
     "name": "stderr",
     "output_type": "stream",
     "text": [
      "Trying to set attribute `.obs` of view, copying.\n"
     ]
    }
   ],
   "source": [
    "sc.pp.calculate_qc_metrics(adata, inplace=True)\n",
    "plt.rcParams[\"figure.figsize\"] = (5,4)\n",
    "sc.pl.embedding(adata, basis=\"spatial\", color=\"n_genes_by_counts\", show=False)\n",
    "plt.title(\"\")\n",
    "plt.axis('off')"
   ]
  },
  {
   "cell_type": "code",
   "execution_count": null,
   "id": "02014236-d98d-47f8-8d01-1f1e0aea0a23",
   "metadata": {
    "tags": []
   },
   "outputs": [],
   "source": [
    "sc.pp.normalize_total(adata, inplace=True)\n",
    "sc.pp.log1p(adata)\n",
    "sc.pp.highly_variable_genes(adata, flavor=\"seurat\", n_top_genes=2000)"
   ]
  },
  {
   "cell_type": "markdown",
   "id": "b9690162-f07f-4812-8aa3-7824cc09b321",
   "metadata": {},
   "source": [
    "## Manifold embedding and clustering based on transcriptional similarity"
   ]
  },
  {
   "cell_type": "code",
   "execution_count": null,
   "id": "572dc085-5b5c-44d5-bd89-f9829df12f13",
   "metadata": {
    "tags": []
   },
   "outputs": [],
   "source": [
    "sc.pp.pca(adata)\n",
    "sc.pp.neighbors(adata)\n",
    "sc.tl.umap(adata)\n",
    "sc.tl.leiden(adata, key_added=\"clusters\")"
   ]
  },
  {
   "cell_type": "code",
   "execution_count": null,
   "id": "389640a5-5291-424a-8306-90efcf2e98f0",
   "metadata": {
    "tags": []
   },
   "outputs": [],
   "source": [
    "plt.rcParams[\"figure.figsize\"] = (4, 4)\n",
    "sc.pl.umap(adata, color=[\"total_counts\", \"n_genes_by_counts\", \"clusters\"], wspace=0.4)"
   ]
  },
  {
   "cell_type": "markdown",
   "id": "055166c5-9b14-447e-be68-771b9f78ec52",
   "metadata": {},
   "source": [
    "## Visualization in spatial coordinates"
   ]
  },
  {
   "cell_type": "code",
   "execution_count": null,
   "id": "a86e3a09-0189-472a-9c34-436942514476",
   "metadata": {
    "tags": []
   },
   "outputs": [],
   "source": [
    "plt.rcParams[\"figure.figsize\"] = (8, 8)\n",
    "sc.pl.spatial(adata, color=[\"total_counts\", \"n_genes_by_counts\"], img_key = None, spot_size = 100)"
   ]
  },
  {
   "cell_type": "code",
   "execution_count": null,
   "id": "e8002636-16d9-4a87-b95b-05dd78aa4a70",
   "metadata": {
    "tags": []
   },
   "outputs": [],
   "source": [
    "sc.pl.spatial(adata, color=[\"clusters\"], img_key = None, spot_size = 100)"
   ]
  },
  {
   "cell_type": "code",
   "execution_count": null,
   "id": "79ec0128-2c02-4cde-b1b5-f991a32a6c70",
   "metadata": {
    "tags": []
   },
   "outputs": [],
   "source": [
    "res = 3.2\n",
    "sc.tl.leiden(adata, key_added=\"clusters_\" + str(res), resolution = res)\n",
    "sc.pl.spatial(adata, color=[\"clusters_\" + str(res)], img_key = None, spot_size = 100)"
   ]
  },
  {
   "cell_type": "code",
   "execution_count": 24,
   "id": "78850ec4-d267-412e-939a-621f6ba3e95f",
   "metadata": {
    "execution": {
     "iopub.execute_input": "2023-04-11T02:38:28.890853Z",
     "iopub.status.busy": "2023-04-11T02:38:28.889914Z",
     "iopub.status.idle": "2023-04-11T02:38:30.788015Z",
     "shell.execute_reply": "2023-04-11T02:38:30.786239Z",
     "shell.execute_reply.started": "2023-04-11T02:38:28.890767Z"
    },
    "tags": []
   },
   "outputs": [],
   "source": [
    "adata.write_h5ad('../data/spf_mouse_brain_bin100_scanpy_cluster.h5ad')"
   ]
  },
  {
   "cell_type": "code",
   "execution_count": 25,
   "id": "d16e18b6-89e2-423c-a6ac-3e6afd860a29",
   "metadata": {
    "execution": {
     "iopub.execute_input": "2023-04-11T02:39:01.289898Z",
     "iopub.status.busy": "2023-04-11T02:39:01.289456Z",
     "iopub.status.idle": "2023-04-11T02:39:01.613835Z",
     "shell.execute_reply": "2023-04-11T02:39:01.612171Z",
     "shell.execute_reply.started": "2023-04-11T02:39:01.289867Z"
    },
    "tags": []
   },
   "outputs": [],
   "source": [
    "adata.obs.to_csv('../data/spf_mouse_brain_bin100_scanpy_obs.csv')"
   ]
  }
 ],
 "metadata": {
  "kernelspec": {
   "display_name": "Python 3 (ipykernel)",
   "language": "python",
   "name": "python3"
  },
  "language_info": {
   "codemirror_mode": {
    "name": "ipython",
    "version": 3
   },
   "file_extension": ".py",
   "mimetype": "text/x-python",
   "name": "python",
   "nbconvert_exporter": "python",
   "pygments_lexer": "ipython3",
   "version": "3.8.14"
  }
 },
 "nbformat": 4,
 "nbformat_minor": 5
}
