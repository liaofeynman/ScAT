{
 "cells": [
  {
   "cell_type": "code",
   "execution_count": 2,
   "id": "c52f9065-85d7-4c12-ad71-0f4d0e56d3b4",
   "metadata": {
    "execution": {
     "iopub.execute_input": "2023-04-10T13:50:29.044653Z",
     "iopub.status.busy": "2023-04-10T13:50:29.044242Z",
     "iopub.status.idle": "2023-04-10T13:50:29.455171Z",
     "shell.execute_reply": "2023-04-10T13:50:29.453643Z",
     "shell.execute_reply.started": "2023-04-10T13:50:29.044619Z"
    },
    "tags": []
   },
   "outputs": [
    {
     "ename": "ModuleNotFoundError",
     "evalue": "No module named 'stereo'",
     "output_type": "error",
     "traceback": [
      "\u001b[0;31m---------------------------------------------------------------------------\u001b[0m",
      "\u001b[0;31mModuleNotFoundError\u001b[0m                       Traceback (most recent call last)",
      "Cell \u001b[0;32mIn [2], line 1\u001b[0m\n\u001b[0;32m----> 1\u001b[0m \u001b[38;5;28;01mimport\u001b[39;00m \u001b[38;5;21;01mstereo\u001b[39;00m \u001b[38;5;28;01mas\u001b[39;00m \u001b[38;5;21;01mst\u001b[39;00m\n\u001b[1;32m      2\u001b[0m \u001b[38;5;28;01mimport\u001b[39;00m \u001b[38;5;21;01mscanpy\u001b[39;00m \u001b[38;5;28;01mas\u001b[39;00m \u001b[38;5;21;01msc\u001b[39;00m\n",
      "\u001b[0;31mModuleNotFoundError\u001b[0m: No module named 'stereo'"
     ]
    }
   ],
   "source": [
    "import stereo as st\n",
    "import scanpy as sc"
   ]
  },
  {
   "cell_type": "code",
   "execution_count": null,
   "id": "524b9af3-c0cd-424d-976f-5646edf8c96a",
   "metadata": {
    "execution": {
     "iopub.status.busy": "2023-04-10T13:50:29.456781Z",
     "iopub.status.idle": "2023-04-10T13:50:29.543081Z",
     "shell.execute_reply": "2023-04-10T13:50:29.542653Z",
     "shell.execute_reply.started": "2023-04-10T13:50:29.542600Z"
    },
    "tags": []
   },
   "outputs": [],
   "source": [
    "gem_file='/data/work/previous/ScAT_github/data/FP200000523BR_D4.bin1.Lasso.gem.gz'\n",
    "data = st.io.read_gem(gem_file, sep='\\\\t', bin_type='bins', bin_size=100, is_sparse=True)\n",
    "output_path = '/data/work/previous/ScAT_github/data'\n",
    "h5_file = f'{output_path}/spf_mouse_brain_bin100_raw.h5ad'\n",
    "adata = st.io.stereo_to_anndata(data, flavor='seurat', output= h5_file)"
   ]
  },
  {
   "cell_type": "code",
   "execution_count": 3,
   "id": "ef82e63a-f61c-4fb8-aae9-f675da20c59b",
   "metadata": {
    "execution": {
     "iopub.execute_input": "2023-04-10T13:50:29.644959Z",
     "iopub.status.busy": "2023-04-10T13:50:29.644341Z",
     "iopub.status.idle": "2023-04-10T13:50:29.751536Z",
     "shell.execute_reply": "2023-04-10T13:50:29.750413Z",
     "shell.execute_reply.started": "2023-04-10T13:50:29.644922Z"
    },
    "tags": []
   },
   "outputs": [
    {
     "ename": "NameError",
     "evalue": "name 'sc' is not defined",
     "output_type": "error",
     "traceback": [
      "\u001b[0;31m---------------------------------------------------------------------------\u001b[0m",
      "\u001b[0;31mNameError\u001b[0m                                 Traceback (most recent call last)",
      "Cell \u001b[0;32mIn [3], line 1\u001b[0m\n\u001b[0;32m----> 1\u001b[0m \u001b[43msc\u001b[49m\u001b[38;5;241m.\u001b[39mpp\u001b[38;5;241m.\u001b[39mcalculate_qc_metrics(adata, inplace\u001b[38;5;241m=\u001b[39m\u001b[38;5;28;01mTrue\u001b[39;00m)\n\u001b[1;32m      2\u001b[0m sc\u001b[38;5;241m.\u001b[39mpl\u001b[38;5;241m.\u001b[39mspatial(adata, color\u001b[38;5;241m=\u001b[39m[\u001b[38;5;124m\"\u001b[39m\u001b[38;5;124mtotal_counts\u001b[39m\u001b[38;5;124m\"\u001b[39m, \u001b[38;5;124m\"\u001b[39m\u001b[38;5;124mn_genes_by_counts\u001b[39m\u001b[38;5;124m\"\u001b[39m], img_key \u001b[38;5;241m=\u001b[39m \u001b[38;5;28;01mNone\u001b[39;00m, spot_size \u001b[38;5;241m=\u001b[39m \u001b[38;5;241m50\u001b[39m)\n",
      "\u001b[0;31mNameError\u001b[0m: name 'sc' is not defined"
     ]
    }
   ],
   "source": [
    "sc.pp.calculate_qc_metrics(adata, inplace=True)\n",
    "sc.pl.spatial(adata, color=[\"total_counts\", \"n_genes_by_counts\"], img_key = None, spot_size = 50)"
   ]
  },
  {
   "cell_type": "code",
   "execution_count": null,
   "id": "58aaf0d0-3cd0-4645-92ab-eab1e31e2ac1",
   "metadata": {},
   "outputs": [],
   "source": []
  }
 ],
 "metadata": {
  "kernelspec": {
   "display_name": "Python 3 (ipykernel)",
   "language": "python",
   "name": "python3"
  },
  "language_info": {
   "codemirror_mode": {
    "name": "ipython",
    "version": 3
   },
   "file_extension": ".py",
   "mimetype": "text/x-python",
   "name": "python",
   "nbconvert_exporter": "python",
   "pygments_lexer": "ipython3",
   "version": "3.8.14"
  }
 },
 "nbformat": 4,
 "nbformat_minor": 5
}
