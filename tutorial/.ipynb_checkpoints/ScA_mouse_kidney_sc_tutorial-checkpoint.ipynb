{
 "cells": [
  {
   "cell_type": "markdown",
   "id": "7a16df6b-38ef-4449-a9f8-9a079b54d868",
   "metadata": {},
   "source": [
    "# Analysis of kideney snRNA-seq data with ScAT"
   ]
  },
  {
   "cell_type": "markdown",
   "id": "ac224279-cf60-4cda-ac0d-6b5d2d9c816a",
   "metadata": {
    "tags": []
   },
   "source": [
    "## ScAT help information"
   ]
  },
  {
   "cell_type": "code",
   "execution_count": 2,
   "id": "1dbd94b0-c3fa-4526-8f4e-0f1b56e16a5b",
   "metadata": {
    "execution": {
     "iopub.execute_input": "2023-04-10T03:37:27.353818Z",
     "iopub.status.busy": "2023-04-10T03:37:27.352872Z",
     "iopub.status.idle": "2023-04-10T03:37:27.591268Z",
     "shell.execute_reply": "2023-04-10T03:37:27.589292Z",
     "shell.execute_reply.started": "2023-04-10T03:37:27.353747Z"
    },
    "tags": []
   },
   "outputs": [
    {
     "name": "stdout",
     "output_type": "stream",
     "text": [
      "/data/work/previous/ScAT_github/tutorial\n"
     ]
    }
   ],
   "source": [
    "!pwd"
   ]
  },
  {
   "cell_type": "code",
   "execution_count": 8,
   "id": "3f5ddb99-3054-4d9e-967a-91587074cb4c",
   "metadata": {
    "execution": {
     "iopub.execute_input": "2023-04-10T03:44:15.884784Z",
     "iopub.status.busy": "2023-04-10T03:44:15.884087Z",
     "iopub.status.idle": "2023-04-10T03:44:16.026229Z",
     "shell.execute_reply": "2023-04-10T03:44:16.024500Z",
     "shell.execute_reply.started": "2023-04-10T03:44:15.884723Z"
    },
    "tags": []
   },
   "outputs": [
    {
     "name": "stdout",
     "output_type": "stream",
     "text": [
      "/data/work/previous/ScAT_github/bin/ScAT.py\n",
      "usage: ScAT [-h] [-v]\n",
      "            {QcControl,Clustering,Trajectory,Annotation,AnnotscCATCH,Enrichment,CellCellInteraction,TFregulon,SpatialCluster,DeconvSpot,SpatialPatternGene}\n",
      "            ...\n",
      "\n",
      "Stereo-seq and scRNA-seq Analysis Toolkit (ScAT), a user-friendly Python\n",
      "package that provides multiple modules for scRNA-seq and Stereo-seq data\n",
      "analysis.\n",
      "\n",
      "positional arguments:\n",
      "  {QcControl,Clustering,Trajectory,Annotation,AnnotscCATCH,Enrichment,CellCellInteraction,TFregulon,SpatialCluster,DeconvSpot,SpatialPatternGene}\n",
      "    QcControl           Perform QC control by Seurat\n",
      "    Clustering          Perform cell cluster by Seurat\n",
      "    Trajectory          Perform trajectory analysis by monocle3\n",
      "    Annotation          Perform cell annotation by SingleR\n",
      "    AnnotscCATCH        Perform cell annotation by scCATCH\n",
      "    Enrichment          Perform go enrichment by clusterProfiler\n",
      "    CellCellInteraction\n",
      "                        Perform cell-cell communication analysis by CellChat\n",
      "    TFregulon           Perform single-cell regulatory network inference.\n",
      "    SpatialCluster      Perform spatial cluster by BayeSpaces\n",
      "    DeconvSpot          Perform deconvolution of cell types by SPOTlight\n",
      "    SpatialPatternGene  Statistical analysis of spatial expression pattern by\n",
      "                        SPARK\n",
      "\n",
      "optional arguments:\n",
      "  -h, --help            show this help message and exit\n",
      "  -v, --version         print version info.\n",
      "\n",
      "Use ScAT {command} -h to get help on individual commands\n"
     ]
    }
   ],
   "source": [
    "%%sh\n",
    "path=/data/work/previous/ScAT_github\n",
    "scat=${path}/bin/ScAT.py\n",
    "echo $scat\n",
    "python3 $scat -h"
   ]
  },
  {
   "cell_type": "markdown",
   "id": "34943ae3-adf5-44b9-9950-42281e79cf95",
   "metadata": {
    "tags": []
   },
   "source": [
    "## QcControl"
   ]
  },
  {
   "cell_type": "markdown",
   "id": "54aa58d5-21b5-4599-884f-3671f0b8e3fe",
   "metadata": {
    "tags": []
   },
   "source": [
    "### help"
   ]
  },
  {
   "cell_type": "code",
   "execution_count": 2,
   "id": "d47ed0e6-3145-40d7-9dd4-459b2cd72bb4",
   "metadata": {
    "execution": {
     "iopub.execute_input": "2023-04-08T04:25:25.225076Z",
     "iopub.status.busy": "2023-04-08T04:25:25.224147Z",
     "iopub.status.idle": "2023-04-08T04:25:25.384571Z",
     "shell.execute_reply": "2023-04-08T04:25:25.382993Z",
     "shell.execute_reply.started": "2023-04-08T04:25:25.225004Z"
    },
    "tags": []
   },
   "outputs": [
    {
     "name": "stdout",
     "output_type": "stream",
     "text": [
      "/data/work/previous/ScAT_github/core/bin/ScAT.py\n",
      "usage: ScAT QcControl [-h] --Rscript RSCRIPT --input INPUT [--binsize BINSIZE]\n",
      "                      [--geneColumn GENECOLUMN] [--fileType {gem,matrix}]\n",
      "                      --out OUT [--prefix PREFIX] [--ptsize PTSIZE]\n",
      "                      [--mtPattern MTPATTERN] [--rbPattern RBPATTERN]\n",
      "                      [--hbPattern HBPATTERN] [--platPattern PLATPATTERN]\n",
      "                      [--mFilter] [--minCount MINCOUNT] [--maxCount MAXCOUNT]\n",
      "                      [--minFeature MINFEATURE] [--maxFeature MAXFEATURE]\n",
      "                      [--minCell MINCELL] [--mtRatio MTRATIO]\n",
      "                      [--rbRatio RBRATIO] [--hbRatio HBRATIO]\n",
      "                      [--platRatio PLATRATIO]\n",
      "\n",
      "optional arguments:\n",
      "  -h, --help            show this help message and exit\n",
      "\n",
      "input arguments:\n",
      "  --Rscript RSCRIPT     Rscript path (default: None)\n",
      "  --input INPUT         Input Stereo-seq *.gem; 10X single cell directory;\n",
      "                        raw_matrix.txt.gz; raw_seuratObj.rds filename\n",
      "  --binsize BINSIZE     Bin size to binning, your input should be in binSize1\n",
      "                        if you set this (default 1)\n",
      "  --geneColumn GENECOLUMN\n",
      "                        Specify which column of genes.tsv or features.tsv to\n",
      "                        use for gene names (default 2)\n",
      "  --fileType {gem,matrix}\n",
      "                        Set as matrix to support *.matrix.txt.gz, otherwise,\n",
      "                        no need to change (default gem)\n",
      "\n",
      "output arguments:\n",
      "  --out OUT             Directory to save file\n",
      "  --prefix PREFIX       sample ID, will be used as output prefix and seurat\n",
      "                        object ident (default sample)\n",
      "  --ptsize PTSIZE       Point size for spatial dim plot (default 1)\n",
      "\n",
      "quality control arguments:\n",
      "  --mtPattern MTPATTERN\n",
      "                        Mitochondria gene pattern (default ^MT-)\n",
      "  --rbPattern RBPATTERN\n",
      "                        Ribosome gene pattern (default ^RP[SL])\n",
      "  --hbPattern HBPATTERN\n",
      "                        Hemoglobin gene pattern (default ^HB[^(P)])\n",
      "  --platPattern PLATPATTERN\n",
      "                        platelet gene pattern (default PECAM1|PF4)\n",
      "\n",
      "filter arguements:\n",
      "  --mFilter             Add \"--mTop_markers\" to allow filteration (default:\n",
      "                        False)\n",
      "  --minCount MINCOUNT   Minimum UMI number per cell/BIN [default 0]\n",
      "  --maxCount MAXCOUNT   Maximum UMI number per cell/BIN [default 1000000]\n",
      "  --minFeature MINFEATURE\n",
      "                        Minimum feature number per cell/BIN [default 0]\n",
      "  --maxFeature MAXFEATURE\n",
      "                        Maximum feature number per cell/BIN [default 100000]\n",
      "  --minCell MINCELL     Minimum cell or BIN number express the gene (for genes\n",
      "                        filterationn) (default 3)\n",
      "  --mtRatio MTRATIO     Maximum mitochondria gene UMI ratio per cell/BIN\n",
      "                        (default 100)\n",
      "  --rbRatio RBRATIO     Maximum ribosome gene UMI ratio per cell/BIN (default\n",
      "                        100)\n",
      "  --hbRatio HBRATIO     Maximum hemoglobin gene UMI ratio per cell/BIN\n",
      "                        (default 100)\n",
      "  --platRatio PLATRATIO\n",
      "                        Maximum platelet gene UMI ratio per cell/BIN (default\n",
      "                        100)\n"
     ]
    }
   ],
   "source": [
    "%%sh\n",
    "path=/data/work/previous/ScAT_github\n",
    "scat=${path}/core/bin/ScAT.py\n",
    "echo $scat\n",
    "python3 $scat QcControl -h"
   ]
  },
  {
   "cell_type": "markdown",
   "id": "84141266-7bc6-4d99-833e-e9a279de6e00",
   "metadata": {
    "tags": []
   },
   "source": [
    "**TODO** geneColumn = 2 when using C4 data"
   ]
  },
  {
   "cell_type": "markdown",
   "id": "6cb37828-8f4d-47f7-aa33-a12df309e157",
   "metadata": {
    "tags": []
   },
   "source": [
    "### demo"
   ]
  },
  {
   "cell_type": "code",
   "execution_count": 4,
   "id": "5bb5e6bb-5ff8-451b-be97-72f540ebe275",
   "metadata": {
    "collapsed": true,
    "execution": {
     "iopub.execute_input": "2023-04-08T04:30:57.395048Z",
     "iopub.status.busy": "2023-04-08T04:30:57.394301Z",
     "iopub.status.idle": "2023-04-08T05:03:21.496322Z",
     "shell.execute_reply": "2023-04-08T05:03:21.494197Z",
     "shell.execute_reply.started": "2023-04-08T04:30:57.394979Z"
    },
    "jupyter": {
     "outputs_hidden": true
    },
    "tags": []
   },
   "outputs": [
    {
     "name": "stdout",
     "output_type": "stream",
     "text": [
      "$binsize\n",
      "[1] 1\n",
      "\n",
      "$fileType\n",
      "[1] \"gem\"\n",
      "\n",
      "$geneColumn\n",
      "[1] 1\n",
      "\n",
      "$hbPattern\n",
      "[1] \"^Hb[^(p)]\"\n",
      "\n",
      "$hbRatio\n",
      "[1] 100\n",
      "\n",
      "$input\n",
      "[1] \"/data/work/previous/ScAT_github/data/kidney/counts_mtx\"\n",
      "\n",
      "$mFilter\n",
      "[1] FALSE\n",
      "\n",
      "$maxCount\n",
      "[1] 1000000\n",
      "\n",
      "$maxFeature\n",
      "[1] 100000\n",
      "\n",
      "$minCell\n",
      "[1] 3\n",
      "\n",
      "$minCount\n",
      "[1] 0\n",
      "\n",
      "$minFeature\n",
      "[1] 0\n",
      "\n",
      "$mtPattern\n",
      "[1] \"^Mt\"\n",
      "\n",
      "$mtRatio\n",
      "[1] 100\n",
      "\n",
      "$out\n",
      "[1] \"/data/work/previous/ScAT_github/kidney/00.QC/step1\"\n",
      "\n",
      "$platPattern\n",
      "[1] \"Pecam1|Pf4\"\n",
      "\n",
      "$platRatio\n",
      "[1] 100\n",
      "\n",
      "$prefix\n",
      "[1] \"kidney\"\n",
      "\n",
      "$ptsize\n",
      "[1] 5\n",
      "\n",
      "$rbPattern\n",
      "[1] \"^Rp[sl]\"\n",
      "\n",
      "$rbRatio\n",
      "[1] 100\n",
      "\n",
      "[1] \"loading file from directory\"\n"
     ]
    },
    {
     "name": "stderr",
     "output_type": "stream",
     "text": [
      "\n",
      "Attaching package: ‘psych’\n",
      "\n",
      "The following objects are masked from ‘package:ggplot2’:\n",
      "\n",
      "    %+%, alpha\n",
      "\n"
     ]
    },
    {
     "name": "stdout",
     "output_type": "stream",
     "text": [
      "$binsize\n",
      "[1] 1\n",
      "\n",
      "$fileType\n",
      "[1] \"gem\"\n",
      "\n",
      "$geneColumn\n",
      "[1] 2\n",
      "\n",
      "$hbPattern\n",
      "[1] \"^Hb[^(p)]\"\n",
      "\n",
      "$hbRatio\n",
      "[1] 100\n",
      "\n",
      "$input\n",
      "[1] \"/data/work/previous/ScAT_github/kidney/00.QC/step1/kidney_raw_seuratObject.rds\"\n",
      "\n",
      "$mFilter\n",
      "[1] FALSE\n",
      "\n",
      "$maxCount\n",
      "[1] 1000000\n",
      "\n",
      "$maxFeature\n",
      "[1] 100000\n",
      "\n",
      "$minCell\n",
      "[1] 3\n",
      "\n",
      "$minCount\n",
      "[1] 0\n",
      "\n",
      "$minFeature\n",
      "[1] 0\n",
      "\n",
      "$mtPattern\n",
      "[1] \"^Mt\"\n",
      "\n",
      "$mtRatio\n",
      "[1] 100\n",
      "\n",
      "$out\n",
      "[1] \"/data/work/previous/ScAT_github/kidney/00.QC/step2\"\n",
      "\n",
      "$platPattern\n",
      "[1] \"Pecam1|Pf4\"\n",
      "\n",
      "$platRatio\n",
      "[1] 100\n",
      "\n",
      "$prefix\n",
      "[1] \"kidney\"\n",
      "\n",
      "$ptsize\n",
      "[1] 5\n",
      "\n",
      "$rbPattern\n",
      "[1] \"^Rp[sl]\"\n",
      "\n",
      "$rbRatio\n",
      "[1] 100\n",
      "\n"
     ]
    },
    {
     "name": "stderr",
     "output_type": "stream",
     "text": [
      "\n",
      "Attaching package: ‘psych’\n",
      "\n",
      "The following objects are masked from ‘package:ggplot2’:\n",
      "\n",
      "    %+%, alpha\n",
      "\n",
      "Warning messages:\n",
      "1: In asMethod(object) :\n",
      "  sparse->dense coercion: allocating vector of size 3.5 GiB\n",
      "2: In asMethod(object) :\n",
      "  sparse->dense coercion: allocating vector of size 3.5 GiB\n"
     ]
    }
   ],
   "source": [
    "%%sh\n",
    "\n",
    "path=/data/work/previous/ScAT_github\n",
    "scat=${path}/core/bin/ScAT.py\n",
    "\n",
    "rscript=/opt/conda/bin/Rscript\n",
    "kidney_dir=/data/work/previous/ScAT_github/data/kidney/counts_mtx\n",
    "prefix=kidney\n",
    "\n",
    "###################00 QC Control#############################\n",
    "# step 1 Preview the data and obtain raw_seurat_object.rds\n",
    "\n",
    "python3 $scat QcControl \\\n",
    "    --Rscript $rscript \\\n",
    "    --input $kidney_dir \\\n",
    "    --geneColumn 1 \\\n",
    "    --prefix $prefix \\\n",
    "    --out ${path}/$prefix/00.QC/step1 \\\n",
    "    --mtPattern '^Mt' \\\n",
    "    --rbPattern '^Rp[sl]' \\\n",
    "    --hbPattern '^Hb[^(p)]' \\\n",
    "    --platPattern 'Pecam1|Pf4' \\\n",
    "    --ptsize 5\n",
    "    \n",
    "    \n",
    "# step 2 Perform filteraion and normalization \n",
    "# Note! You need to manually set the filter parameters based on the QC metrics generated in the previous step.\n",
    "# ~2.2G\n",
    "python3 $scat QcControl \\\n",
    "    --Rscript $rscript \\\n",
    "    --input ${path}/$prefix/00.QC/step1/${prefix}_raw_seuratObject.rds \\\n",
    "    --prefix $prefix \\\n",
    "    --out ${path}/$prefix/00.QC/step2 \\\n",
    "    --mtPattern '^Mt' \\\n",
    "    --rbPattern '^Rp[sl]' \\\n",
    "    --hbPattern '^Hb[^(p)]' \\\n",
    "    --platPattern 'Pecam1|Pf4' \\\n",
    "    --ptsize 5   "
   ]
  },
  {
   "cell_type": "markdown",
   "id": "1ea91301-a130-46db-9abc-579580e99244",
   "metadata": {
    "execution": {
     "iopub.execute_input": "2023-04-08T09:58:59.314821Z",
     "iopub.status.busy": "2023-04-08T09:58:59.314121Z",
     "iopub.status.idle": "2023-04-08T09:58:59.325157Z",
     "shell.execute_reply": "2023-04-08T09:58:59.323072Z",
     "shell.execute_reply.started": "2023-04-08T09:58:59.314751Z"
    },
    "tags": []
   },
   "source": [
    "<img src=\"./images/kidney_sc/QcControl_demo.png\" width=\"500\" height=\"340\" div align=\"center\" />"
   ]
  },
  {
   "cell_type": "markdown",
   "id": "b8c30d8d-d55d-4e80-97a9-f1c691ea91f3",
   "metadata": {
    "tags": []
   },
   "source": [
    "## Clustering"
   ]
  },
  {
   "cell_type": "markdown",
   "id": "81799de2-f86c-40ac-a6ba-02fed0f1dc7e",
   "metadata": {
    "execution": {
     "iopub.execute_input": "2023-04-08T10:05:54.806666Z",
     "iopub.status.busy": "2023-04-08T10:05:54.805932Z",
     "iopub.status.idle": "2023-04-08T10:05:54.814401Z",
     "shell.execute_reply": "2023-04-08T10:05:54.812752Z",
     "shell.execute_reply.started": "2023-04-08T10:05:54.806599Z"
    },
    "tags": []
   },
   "source": [
    "### help"
   ]
  },
  {
   "cell_type": "code",
   "execution_count": 18,
   "id": "ce4a1b21-76a2-4a4c-bcbf-e0a8ba351d03",
   "metadata": {
    "execution": {
     "iopub.execute_input": "2023-04-08T10:05:43.809148Z",
     "iopub.status.busy": "2023-04-08T10:05:43.808212Z",
     "iopub.status.idle": "2023-04-08T10:05:43.927958Z",
     "shell.execute_reply": "2023-04-08T10:05:43.926263Z",
     "shell.execute_reply.started": "2023-04-08T10:05:43.809085Z"
    },
    "tags": []
   },
   "outputs": [
    {
     "name": "stdout",
     "output_type": "stream",
     "text": [
      "/data/work/previous/ScAT_github/core/bin/ScAT.py\n",
      "usage: ScAT Clustering [-h] --Rscript RSCRIPT --input INPUT [--pc PC]\n",
      "                       [--resolution RESOLUTION] [--ptsize PTSIZE]\n",
      "                       [--topN {1,2,3,4,5,6,7,8,9}] --out OUT\n",
      "                       [--prefix PREFIX] [--findSpatialVar]\n",
      "\n",
      "optional arguments:\n",
      "  -h, --help            show this help message and exit\n",
      "\n",
      "input arguments:\n",
      "  --Rscript RSCRIPT     Rscript path (default: None)\n",
      "  --input INPUT         Input *_seuratObj.rds with SCT assay\n",
      "  --pc PC               PCA dimensionality for clustering. (default: 30)\n",
      "  --resolution RESOLUTION\n",
      "                        Resolution for clustering, use a value above (below)\n",
      "                        1.0 if you want obtain a larger (smaller) number of\n",
      "                        communities. (default: 0.8)\n",
      "  --ptsize PTSIZE       Point size for spatil dim plot\n",
      "  --topN {1,2,3,4,5,6,7,8,9}\n",
      "                        Select top N makers in each cluster for further\n",
      "                        visualization (default: 3)\n",
      "\n",
      "output arguments:\n",
      "  --out OUT             Directory to save file\n",
      "  --prefix PREFIX       sample ID, will be used as output file prefix\n",
      "                        (default: sample)\n",
      "\n",
      "boolean arguments:\n",
      "  --findSpatialVar      Add \"--findSpatialVar\" to find spatial variable\n",
      "                        features by Seurat (default: False)\n"
     ]
    }
   ],
   "source": [
    "%%sh\n",
    "path=/data/work/previous/ScAT_github\n",
    "scat=${path}/core/bin/ScAT.py\n",
    "echo $scat\n",
    "python3 $scat Clustering -h"
   ]
  },
  {
   "cell_type": "markdown",
   "id": "f005a06e-fbfe-449f-977b-563a6d228428",
   "metadata": {
    "tags": []
   },
   "source": [
    "### demo"
   ]
  },
  {
   "cell_type": "code",
   "execution_count": 5,
   "id": "81a26242-ba79-4f77-af49-56248b4bbf83",
   "metadata": {
    "execution": {
     "iopub.execute_input": "2023-04-08T05:10:32.944884Z",
     "iopub.status.busy": "2023-04-08T05:10:32.944163Z",
     "iopub.status.idle": "2023-04-08T06:10:13.042907Z",
     "shell.execute_reply": "2023-04-08T06:10:13.040790Z",
     "shell.execute_reply.started": "2023-04-08T05:10:32.944814Z"
    },
    "tags": []
   },
   "outputs": [
    {
     "name": "stdout",
     "output_type": "stream",
     "text": [
      "$input\n",
      "[1] \"/data/work/previous/ScAT_github/kidney/00.QC/step2/kidney_filt_norm_seuratObject.rds\"\n",
      "\n",
      "$mSpatialVar\n",
      "[1] FALSE\n",
      "\n",
      "$out\n",
      "[1] \"/data/work/previous/ScAT_github/kidney//01.Clustering\"\n",
      "\n",
      "$pc\n",
      "[1] 30\n",
      "\n",
      "$prefix\n",
      "[1] \"kidney\"\n",
      "\n",
      "$ptsize\n",
      "[1] 1\n",
      "\n",
      "$resolution\n",
      "[1] 0.8\n",
      "\n",
      "$topN\n",
      "[1] 3\n",
      "\n"
     ]
    },
    {
     "name": "stderr",
     "output_type": "stream",
     "text": [
      "Computing nearest neighbor graph\n",
      "Computing SNN\n"
     ]
    },
    {
     "name": "stdout",
     "output_type": "stream",
     "text": [
      "Modularity Optimizer version 1.3.0 by Ludo Waltman and Nees Jan van Eck\n",
      "\n",
      "Number of nodes: 24853\n",
      "Number of edges: 1091865\n",
      "\n",
      "Running Louvain algorithm...\n"
     ]
    },
    {
     "name": "stderr",
     "output_type": "stream",
     "text": [
      "0%   10   20   30   40   50   60   70   80   90   100%\n",
      "[----|----|----|----|----|----|----|----|----|----|\n",
      "**************************************************|\n"
     ]
    },
    {
     "name": "stdout",
     "output_type": "stream",
     "text": [
      "Maximum modularity in 10 random starts: 0.9224\n",
      "Number of communities: 31\n",
      "Elapsed time: 6 seconds\n"
     ]
    },
    {
     "name": "stderr",
     "output_type": "stream",
     "text": [
      "Warning: The default method for RunUMAP has changed from calling Python UMAP via reticulate to the R-native UWOT using the cosine metric\n",
      "To use Python UMAP via reticulate, set umap.method to 'umap-learn' and metric to 'correlation'\n",
      "This message will be shown once per session\n",
      "Using method 'umap'\n",
      "0%   10   20   30   40   50   60   70   80   90   100%\n",
      "[----|----|----|----|----|----|----|----|----|----|\n",
      "**************************************************|\n"
     ]
    },
    {
     "name": "stdout",
     "output_type": "stream",
     "text": [
      "NULL\n"
     ]
    },
    {
     "name": "stderr",
     "output_type": "stream",
     "text": [
      "Warning: The following features are not present in the object: MCM5, PCNA, TYMS, FEN1, MCM2, MCM4, RRM1, UNG, GINS2, MCM6, CDCA7, DTL, PRIM1, UHRF1, MLF1IP, HELLS, RFC2, RPA2, NASP, RAD51AP1, GMNN, WDR76, SLBP, CCNE2, UBR7, POLD3, MSH2, ATAD2, RAD51, RRM2, CDC45, CDC6, EXO1, TIPIN, DSCC1, BLM, CASP8AP2, USP1, CLSPN, POLA1, CHAF1B, BRIP1, E2F8, not searching for symbol synonyms\n",
      "Warning: The following features are not present in the object: HMGB2, CDK1, NUSAP1, UBE2C, BIRC5, TPX2, TOP2A, NDC80, CKS2, NUF2, CKS1B, MKI67, TMPO, CENPF, TACC3, FAM64A, SMC4, CCNB2, CKAP2L, CKAP2, AURKB, BUB1, KIF11, ANP32E, TUBB4B, GTSE1, KIF20B, HJURP, CDCA3, HN1, CDC20, TTK, CDC25C, KIF2C, RANGAP1, NCAPD2, DLGAP5, CDCA2, CDCA8, ECT2, KIF23, HMMR, AURKA, PSRC1, ANLN, LBR, CKAP5, CENPE, CTCF, NEK2, G2E3, GAS2L3, CBX5, CENPA, not searching for symbol synonyms\n",
      "Performing log-normalization\n",
      "0%   10   20   30   40   50   60   70   80   90   100%\n",
      "[----|----|----|----|----|----|----|----|----|----|\n",
      "**************************************************|\n",
      "Calculating gene variances\n",
      "0%   10   20   30   40   50   60   70   80   90   100%\n",
      "[----|----|----|----|----|----|----|----|----|----|\n",
      "**************************************************|\n",
      "Calculating feature variances of standardized and clipped values\n",
      "0%   10   20   30   40   50   60   70   80   90   100%\n",
      "[----|----|----|----|----|----|----|----|----|----|\n",
      "**************************************************|\n",
      "Centering and scaling data matrix\n",
      "  |======================================================================| 100%\n",
      "Calculating cluster 0\n",
      "Calculating cluster 1\n",
      "Calculating cluster 2\n",
      "Calculating cluster 3\n",
      "Calculating cluster 4\n",
      "Calculating cluster 5\n",
      "Calculating cluster 6\n",
      "Calculating cluster 7\n",
      "Calculating cluster 8\n",
      "Calculating cluster 9\n",
      "Calculating cluster 10\n",
      "Calculating cluster 11\n",
      "Calculating cluster 12\n",
      "Calculating cluster 13\n",
      "Calculating cluster 14\n",
      "Calculating cluster 15\n",
      "Calculating cluster 16\n",
      "Calculating cluster 17\n",
      "Calculating cluster 18\n",
      "Calculating cluster 19\n",
      "Calculating cluster 20\n",
      "Calculating cluster 21\n",
      "Calculating cluster 22\n",
      "Calculating cluster 23\n",
      "Calculating cluster 24\n",
      "Calculating cluster 25\n",
      "Calculating cluster 26\n",
      "Calculating cluster 27\n",
      "Calculating cluster 28\n",
      "Calculating cluster 29\n",
      "Calculating cluster 30\n"
     ]
    },
    {
     "name": "stdout",
     "output_type": "stream",
     "text": [
      "[1] \"Warning! Only 40 target genes were selected!\"\n"
     ]
    },
    {
     "name": "stderr",
     "output_type": "stream",
     "text": [
      "Warning message:\n",
      "In AddModuleScore(object = object, features = features, name = name,  :\n",
      "  Could not find enough features in the object from the following feature lists: S.Score Attempting to match case...Could not find enough features in the object from the following feature lists: G2M.Score Attempting to match case...\n"
     ]
    }
   ],
   "source": [
    "%%sh\n",
    "\n",
    "path=/data/work/previous/ScAT_github\n",
    "scat=${path}/core/bin/ScAT.py\n",
    "\n",
    "rscript=/opt/conda/bin/Rscript\n",
    "kidney_dir=/data/work/previous/ScAT_github/data/kidney/counts_mtx\n",
    "prefix=kidney\n",
    "\n",
    "python3 $scat Clustering \\\n",
    "    --Rscript $rscript \\\n",
    "    --input ${path}/$prefix/00.QC/step2/${prefix}_filt_norm_seuratObject.rds \\\n",
    "    --out ${path}/$prefix/$binsize/01.Clustering \\\n",
    "    --prefix $prefix \n",
    "\n",
    "####################01 Clustering#############################"
   ]
  },
  {
   "cell_type": "markdown",
   "id": "b646b32c-ff44-4bd1-8949-7593a463fefe",
   "metadata": {
    "execution": {
     "iopub.execute_input": "2023-04-10T12:54:13.052760Z",
     "iopub.status.busy": "2023-04-10T12:54:13.052005Z",
     "iopub.status.idle": "2023-04-10T12:54:13.059227Z",
     "shell.execute_reply": "2023-04-10T12:54:13.058013Z",
     "shell.execute_reply.started": "2023-04-10T12:54:13.052717Z"
    },
    "tags": []
   },
   "source": [
    "<img src=\"./images/kidney_sc/Clustering_demo.png\" width=\"500\" height=\"340\" div align=\"center\" />"
   ]
  },
  {
   "cell_type": "markdown",
   "id": "50886e9f-5d6f-4194-a86e-1b85dd549d30",
   "metadata": {
    "jp-MarkdownHeadingCollapsed": true,
    "tags": []
   },
   "source": [
    "## CellCellInteraction"
   ]
  },
  {
   "cell_type": "code",
   "execution_count": null,
   "id": "5995f932-8497-4488-9d5c-66227b29bd1a",
   "metadata": {
    "execution": {
     "iopub.execute_input": "2023-04-08T06:29:25.268426Z",
     "iopub.status.busy": "2023-04-08T06:29:25.267443Z"
    },
    "tags": []
   },
   "outputs": [
    {
     "name": "stdout",
     "output_type": "stream",
     "text": [
      "$input\n",
      "[1] \"/data/work/previous/ScAT_github/kidney/00.QC/step2/kidney_filt_norm_matrix.txt.gz\"\n",
      "\n",
      "$meta\n",
      "[1] \"/data/work/previous/ScAT_github/kidney/01.Clustering/kidney_clusterInfo_CCI.txt\"\n",
      "\n",
      "$out\n",
      "[1] \"/data/work/previous/ScAT_github/kidney//06.CellCellInteraction\"\n",
      "\n",
      "$prefix\n",
      "[1] \"kidney\"\n",
      "\n",
      "$species\n",
      "[1] \"Mouse\"\n",
      "\n",
      "[1] \"Create a CellChat object from a data matrix\"\n",
      "The cell barcodes in 'meta' is  1 2 3 4 5 6 \n",
      "Set cell identities for the new CellChat object \n",
      "The cell groups used for CellChat analysis are  cluster_0 cluster_1 cluster_10 cluster_11 cluster_12 cluster_13 cluster_14 cluster_15 cluster_16 cluster_17 cluster_18 cluster_19 cluster_2 cluster_20 cluster_21 cluster_22 cluster_23 cluster_24 cluster_25 cluster_26 cluster_27 cluster_28 cluster_29 cluster_3 cluster_30 cluster_4 cluster_5 cluster_6 cluster_7 cluster_8 cluster_9 \n",
      "Issue identified!! Please check the official Gene Symbol of the following genes:  \n",
      " H2-BI H2-Ea-ps \n",
      "triMean is used for calculating the average gene expression per cell group. \n",
      "[1] \">>> Run CellChat on sc/snRNA-seq data <<< [2023-04-08 06:34:21]\"\n"
     ]
    }
   ],
   "source": [
    "%%sh\n",
    "\n",
    "path=/data/work/previous/ScAT_github\n",
    "scat=${path}/core/bin/ScAT.py\n",
    "\n",
    "rscript=/opt/conda/bin/Rscript\n",
    "kidney_dir=/data/work/previous/ScAT_github/data/kidney/counts_mtx\n",
    "prefix=kidney\n",
    "\n",
    "\n",
    "python3 $scat CellCellInteraction \\\n",
    "    --Rscript $rscript \\\n",
    "    --input ${path}/$prefix/00.QC/step2/${prefix}_filt_norm_matrix.txt.gz \\\n",
    "    --out ${path}/$prefix/$binsize/06.CellCellInteraction \\\n",
    "    --meta ${path}/$prefix/01.Clustering/${prefix}_clusterInfo_CCI.txt \\\n",
    "    --species 'Mouse' \\\n",
    "    --prefix $prefix"
   ]
  },
  {
   "cell_type": "markdown",
   "id": "674f98e9-7228-4040-b15a-3bd4f39d6ce3",
   "metadata": {
    "jp-MarkdownHeadingCollapsed": true,
    "tags": []
   },
   "source": [
    "## Enrichment"
   ]
  },
  {
   "cell_type": "code",
   "execution_count": 16,
   "id": "59905305-b5d7-42e7-b4c5-008ebe84b700",
   "metadata": {
    "execution": {
     "iopub.execute_input": "2023-04-08T08:58:33.732082Z",
     "iopub.status.busy": "2023-04-08T08:58:33.731374Z",
     "iopub.status.idle": "2023-04-08T09:09:32.793612Z",
     "shell.execute_reply": "2023-04-08T09:09:32.791975Z",
     "shell.execute_reply.started": "2023-04-08T08:58:33.732017Z"
    },
    "tags": []
   },
   "outputs": [
    {
     "name": "stdout",
     "output_type": "stream",
     "text": [
      "$cluster\n",
      "[1] \"/data/work/previous/ScAT_github/kidney/07.Enrichment/cluster.txt\"\n",
      "\n",
      "$input\n",
      "[1] \"/data/work/previous/ScAT_github/kidney/01.Clustering/kidney_markerGene.txt\"\n",
      "\n",
      "$out\n",
      "[1] \"/data/work/previous/ScAT_github/kidney/07.Enrichment\"\n",
      "\n",
      "$prefix\n",
      "[1] \"sample\"\n",
      "\n",
      "$species\n",
      "[1] \"Mouse\"\n",
      "\n"
     ]
    },
    {
     "name": "stderr",
     "output_type": "stream",
     "text": [
      "Error in (function (classes, fdef, mtable)  : \n",
      "  unable to find an inherited method for function ‘dotplot’ for signature ‘\"NULL\"’\n",
      "Calls: do_enrichment -> dotplot -> <Anonymous>\n",
      "In addition: Warning messages:\n",
      "1: In read.table(opts$cluster, header = T, check.names = FALSE) :\n",
      "  incomplete final line found by readTableHeader on '/data/work/previous/ScAT_github/kidney/07.Enrichment/cluster.txt'\n",
      "2: In compareCluster(gc, fun = \"enrichGO\", OrgDb = \"org.Hs.eg.db\",  :\n",
      "  No enrichment found in any of gene cluster, please check your input...\n",
      "Execution halted\n"
     ]
    }
   ],
   "source": [
    "%%sh\n",
    "\n",
    "path=/data/work/previous/ScAT_github\n",
    "scat=${path}/core/bin/ScAT.py\n",
    "\n",
    "rscript=/opt/conda/bin/Rscript\n",
    "kidney_dir=/data/work/previous/ScAT_github/data/kidney/counts_mtx\n",
    "prefix=kidney\n",
    "\n",
    "python3 $scat Enrichment \\\n",
    "    --Rscript $rscript \\\n",
    "    --input ${path}/$prefix/01.Clustering/${prefix}_markerGene.txt \\\n",
    "    --species \"Mouse\" \\\n",
    "    --cluster ${path}/$prefix/07.Enrichment/cluster.txt \\\n",
    "    --out ${path}/$prefix/07.Enrichment"
   ]
  },
  {
   "cell_type": "markdown",
   "id": "91c79650-f7fc-486f-b93c-464802792c57",
   "metadata": {},
   "source": [
    "**Note** clustereProfiler compareCluster() will raise error when there are few commong enrichments in different cluster/cells"
   ]
  },
  {
   "cell_type": "markdown",
   "id": "148bd74e-0afa-4dc6-9c04-6eb62d42847e",
   "metadata": {
    "jp-MarkdownHeadingCollapsed": true,
    "tags": []
   },
   "source": [
    "## Trajectory"
   ]
  },
  {
   "cell_type": "code",
   "execution_count": 5,
   "id": "87e3aa4a-ecb4-4277-8cbd-4c0b4d7d6275",
   "metadata": {
    "execution": {
     "iopub.execute_input": "2023-04-10T06:52:41.856169Z",
     "iopub.status.busy": "2023-04-10T06:52:41.854825Z",
     "iopub.status.idle": "2023-04-10T06:55:12.293600Z",
     "shell.execute_reply": "2023-04-10T06:55:12.292792Z",
     "shell.execute_reply.started": "2023-04-10T06:52:41.856090Z"
    },
    "tags": []
   },
   "outputs": [
    {
     "name": "stdout",
     "output_type": "stream",
     "text": [
      "  |======================================================================| 100%\n",
      "  |======================================================================| 100%\n",
      "  |======================================================================| 100%\n",
      "  |======================================================================| 100%\n",
      "  |======================================================================| 100%\n",
      "  |======================================================================| 100%\n",
      "  |======================================================================| 100%\n",
      "NULL\n"
     ]
    },
    {
     "name": "stderr",
     "output_type": "stream",
     "text": [
      "Error: 'rBind' is defunct; 'base::rbind' handles S4 objects since R 3.2.0\n",
      "In addition: There were 14 warnings (use warnings() to see them)\n",
      "Execution halted\n"
     ]
    }
   ],
   "source": [
    "%%sh\n",
    "\n",
    "path=/data/work/previous/ScAT_github\n",
    "scat=${path}/bin/ScAT.py\n",
    "\n",
    "rscript=/opt/conda/bin/Rscript\n",
    "kidney_dir=/data/work/previous/ScAT_github/data/kidney/counts_mtx\n",
    "prefix=kidney\n",
    "\n",
    "python3 $scat Trajectory \\\n",
    "    --Rscript $rscript \\\n",
    "    --input ${path}/$prefix/01.Clustering/${prefix}_filt_norm_cluster_seuratObject.rds \\\n",
    "    --out ${path}/$prefix/02.trajectory \\\n",
    "    --prefix $prefix \\\n",
    "    --mDEG"
   ]
  },
  {
   "cell_type": "markdown",
   "id": "65d9a6bd-d939-4696-bf3e-84b05c5815df",
   "metadata": {
    "execution": {
     "iopub.execute_input": "2023-04-10T07:20:54.469152Z",
     "iopub.status.busy": "2023-04-10T07:20:54.468314Z",
     "iopub.status.idle": "2023-04-10T07:20:54.481250Z",
     "shell.execute_reply": "2023-04-10T07:20:54.479069Z",
     "shell.execute_reply.started": "2023-04-10T07:20:54.469073Z"
    }
   },
   "source": [
    "**Note** error of graph_test()　https://groups.google.com/g/monocle-3-users/c/tBjYuAxwyEo"
   ]
  },
  {
   "cell_type": "markdown",
   "id": "a24a7dd4-bad4-4d0b-b58c-f6df98cc5953",
   "metadata": {
    "jp-MarkdownHeadingCollapsed": true,
    "tags": []
   },
   "source": [
    "## Annotation"
   ]
  },
  {
   "cell_type": "code",
   "execution_count": 5,
   "id": "f6e5580b-8f89-4c22-9d26-146fdea71258",
   "metadata": {
    "execution": {
     "iopub.execute_input": "2023-04-10T08:21:12.853032Z",
     "iopub.status.busy": "2023-04-10T08:21:12.852573Z",
     "iopub.status.idle": "2023-04-10T09:16:33.498291Z",
     "shell.execute_reply": "2023-04-10T09:16:33.497063Z",
     "shell.execute_reply.started": "2023-04-10T08:21:12.852986Z"
    },
    "tags": []
   },
   "outputs": [
    {
     "name": "stdout",
     "output_type": "stream",
     "text": [
      "$cluster\n",
      "[1] \"/data/work/previous/ScAT_github/kidney/01.Clustering/kidney_clusterInfo.txt\"\n",
      "\n",
      "$input\n",
      "[1] \"/data/work/previous/ScAT_github/kidney/00.QC/step2/kidney_filt_norm_matrix.txt.gz\"\n",
      "\n",
      "$out\n",
      "[1] \"/data/work/previous/ScAT_github/kidney/03.Annotation\"\n",
      "\n",
      "$prefix\n",
      "[1] \"kidney\"\n",
      "\n",
      "$ref\n",
      "[1] \"/data/work/previous/ScAT_github/docs/celldex/MouseRNAseqData.rds\"\n",
      "\n",
      "$ref_col\n",
      "[1] \"/data/work/previous/ScAT_github/docs/celldex/MouseRNAseqData_coldata.rds\"\n",
      "\n",
      "[1] 17\n"
     ]
    },
    {
     "name": "stderr",
     "output_type": "stream",
     "text": [
      "Warning messages:\n",
      "1: In rm.NA == \"rows\" || rm.NA == \"both\" :\n",
      "  'length(x) = 4 > 1' in coercion to 'logical(1)'\n",
      "2: In rm.NA == \"cols\" || rm.NA == \"both\" :\n",
      "  'length(x) = 4 > 1' in coercion to 'logical(1)'\n",
      "3: In rm.NA == \"cols\" || rm.NA == \"both\" :\n",
      "  'length(x) = 4 > 1' in coercion to 'logical(1)'\n"
     ]
    }
   ],
   "source": [
    "%%sh\n",
    "\n",
    "path=/data/work/previous/ScAT_github\n",
    "scat=${path}/bin/ScAT.py\n",
    "\n",
    "rscript=/opt/conda/bin/Rscript\n",
    "kidney_dir=/data/work/previous/ScAT_github/data/kidney/counts_mtx\n",
    "prefix=kidney\n",
    "\n",
    "####################03 Annotation#############################\n",
    "python3 $scat Annotation \\\n",
    "    --Rscript $rscript \\\n",
    "    --input ${path}/$prefix/00.QC/step2/${prefix}_filt_norm_matrix.txt.gz \\\n",
    "    --prefix $prefix \\\n",
    "    --ref_name  'MouseRNAseqData' \\\n",
    "    --cluster ${path}/$prefix/01.Clustering/${prefix}_clusterInfo.txt\\\n",
    "    --out ${path}/$prefix/03.Annotation\n",
    "\n",
    "\n",
    "####################03 Annotation#############################"
   ]
  },
  {
   "cell_type": "markdown",
   "id": "7afe7cc0-0e44-4f03-aaef-3ec37da3c875",
   "metadata": {},
   "source": [
    "## AnnotscCATCH"
   ]
  },
  {
   "cell_type": "code",
   "execution_count": 13,
   "id": "37267313-d2fc-4b9e-961c-4c6a47918b20",
   "metadata": {
    "execution": {
     "iopub.execute_input": "2023-04-10T14:07:50.755102Z",
     "iopub.status.busy": "2023-04-10T14:07:50.754489Z",
     "iopub.status.idle": "2023-04-10T14:07:51.201192Z",
     "shell.execute_reply": "2023-04-10T14:07:51.199367Z",
     "shell.execute_reply.started": "2023-04-10T14:07:50.755049Z"
    },
    "tags": []
   },
   "outputs": [
    {
     "name": "stderr",
     "output_type": "stream",
     "text": [
      "Error: object 'f' not found\n",
      "Execution halted\n"
     ]
    }
   ],
   "source": [
    "%%sh\n",
    "\n",
    "path=/data/work/previous/ScAT_github\n",
    "scat=${path}/bin/ScAT.py\n",
    "\n",
    "rscript=/opt/conda/bin/Rscript\n",
    "kidney_dir=/data/work/previous/ScAT_github/data/kidney/counts_mtx\n",
    "prefix=kidney\n",
    "\n",
    "####################03 Annotation#############################\n",
    "python3 $scat AnnotscCATCH \\\n",
    "    --Rscript $rscript \\\n",
    "    --input ${path}/kidney/01.Clustering/kidney_filt_norm_cluster_seuratObject.rds \\\n",
    "    --tissue Kidney \\\n",
    "    --species Mouse \\\n",
    "    --prefix $prefix \\\n",
    "    --out ${path}/$prefix/04.AnnotscCATCH\n",
    "\n",
    "####################03 Annotation#############################"
   ]
  },
  {
   "cell_type": "code",
   "execution_count": null,
   "id": "b9283042-ff36-4fe5-a5b2-256a32d914ec",
   "metadata": {
    "tags": []
   },
   "outputs": [],
   "source": [
    "# https://www.jianshu.com/p/bcba46f63ec8"
   ]
  },
  {
   "cell_type": "markdown",
   "id": "f63567d8-4639-4303-ae0c-58a44ea5e5a6",
   "metadata": {
    "jp-MarkdownHeadingCollapsed": true,
    "tags": []
   },
   "source": [
    "## Overview of kidney snRNAseq data"
   ]
  },
  {
   "cell_type": "code",
   "execution_count": 1,
   "id": "51b19874-82a0-477b-94e6-0220a78b28c7",
   "metadata": {
    "execution": {
     "iopub.execute_input": "2023-03-31T03:05:24.307151Z",
     "iopub.status.busy": "2023-03-31T03:05:24.301725Z",
     "iopub.status.idle": "2023-03-31T03:05:27.047213Z",
     "shell.execute_reply": "2023-03-31T03:05:27.046003Z"
    },
    "tags": []
   },
   "outputs": [
    {
     "name": "stderr",
     "output_type": "stream",
     "text": [
      "Attaching SeuratObject\n",
      "\n"
     ]
    }
   ],
   "source": [
    "library(Seurat)"
   ]
  },
  {
   "cell_type": "code",
   "execution_count": 2,
   "id": "7426a571-1ddc-468b-8827-f77caae2dc88",
   "metadata": {
    "execution": {
     "iopub.execute_input": "2023-03-31T03:05:47.250453Z",
     "iopub.status.busy": "2023-03-31T03:05:47.216623Z",
     "iopub.status.idle": "2023-03-31T03:05:47.265673Z",
     "shell.execute_reply": "2023-03-31T03:05:47.264333Z"
    },
    "tags": []
   },
   "outputs": [
    {
     "data": {
      "text/html": [
       "'/data/work/previous/ScAT_github/tutorial'"
      ],
      "text/latex": [
       "'/data/work/previous/ScAT\\_github/tutorial'"
      ],
      "text/markdown": [
       "'/data/work/previous/ScAT_github/tutorial'"
      ],
      "text/plain": [
       "[1] \"/data/work/previous/ScAT_github/tutorial\""
      ]
     },
     "metadata": {},
     "output_type": "display_data"
    }
   ],
   "source": [
    "getwd()"
   ]
  },
  {
   "cell_type": "code",
   "execution_count": 5,
   "id": "9e44af19-74dd-4036-bf45-a909a3c457dd",
   "metadata": {
    "execution": {
     "iopub.execute_input": "2023-03-31T03:06:55.940340Z",
     "iopub.status.busy": "2023-03-31T03:06:55.937220Z",
     "iopub.status.idle": "2023-03-31T03:07:01.182116Z",
     "shell.execute_reply": "2023-03-31T03:07:01.180685Z"
    },
    "tags": []
   },
   "outputs": [
    {
     "name": "stdout",
     "output_type": "stream",
     "text": [
      "[1] \"/data/work/previous/ScAT_github/data/sce.rds\"\n"
     ]
    }
   ],
   "source": [
    "path = '/data/work/previous/ScAT_github'\n",
    "rds_file = file.path(path, 'data','sce.rds')\n",
    "print(rds_file)\n",
    "sc <- readRDS(rds_file)"
   ]
  },
  {
   "cell_type": "code",
   "execution_count": 6,
   "id": "f92fe7d2-6814-4ebc-b3f2-1debb9d82ad8",
   "metadata": {
    "execution": {
     "iopub.execute_input": "2023-03-31T03:07:02.545498Z",
     "iopub.status.busy": "2023-03-31T03:07:02.544373Z",
     "iopub.status.idle": "2023-03-31T03:07:02.575138Z",
     "shell.execute_reply": "2023-03-31T03:07:02.573883Z"
    },
    "tags": []
   },
   "outputs": [
    {
     "data": {
      "text/plain": [
       "An object of class Seurat \n",
       "18894 features across 24853 samples within 1 assay \n",
       "Active assay: RNA (18894 features, 0 variable features)\n",
       " 1 dimensional reduction calculated: umap"
      ]
     },
     "metadata": {},
     "output_type": "display_data"
    }
   ],
   "source": [
    "sc"
   ]
  },
  {
   "cell_type": "code",
   "execution_count": 7,
   "id": "bdcb42fa-fe70-4694-9082-66640acb20d1",
   "metadata": {
    "execution": {
     "iopub.execute_input": "2023-03-31T03:07:13.801487Z",
     "iopub.status.busy": "2023-03-31T03:07:13.799489Z",
     "iopub.status.idle": "2023-03-31T03:07:13.834573Z",
     "shell.execute_reply": "2023-03-31T03:07:13.832834Z"
    },
    "tags": []
   },
   "outputs": [
    {
     "data": {
      "text/html": [
       "<table class=\"dataframe\">\n",
       "<caption>A data.frame: 6 × 11</caption>\n",
       "<thead>\n",
       "\t<tr><th></th><th scope=col>n_genes_by_counts</th><th scope=col>total_counts</th><th scope=col>total_counts_mt</th><th scope=col>pct_counts_mt</th><th scope=col>total_counts_ribo</th><th scope=col>pct_counts_ribo</th><th scope=col>total_counts_hb</th><th scope=col>pct_counts_hb</th><th scope=col>batch</th><th scope=col>n_genes</th><th scope=col>celltype</th></tr>\n",
       "\t<tr><th></th><th scope=col>&lt;int&gt;</th><th scope=col>&lt;dbl&gt;</th><th scope=col>&lt;dbl&gt;</th><th scope=col>&lt;dbl&gt;</th><th scope=col>&lt;dbl&gt;</th><th scope=col>&lt;dbl&gt;</th><th scope=col>&lt;dbl&gt;</th><th scope=col>&lt;dbl&gt;</th><th scope=col>&lt;fct&gt;</th><th scope=col>&lt;int&gt;</th><th scope=col>&lt;fct&gt;</th></tr>\n",
       "</thead>\n",
       "<tbody>\n",
       "\t<tr><th scope=row>CELL621_N1-SPF</th><td>2700</td><td> 8840</td><td> 33</td><td>0.3733032</td><td> 70</td><td>0.7918553</td><td>0</td><td>0.00000000</td><td>SPF</td><td>2700</td><td>PTS3   </td></tr>\n",
       "\t<tr><th scope=row>CELL1872_N1-SPF</th><td>1677</td><td> 4685</td><td> 17</td><td>0.3628602</td><td> 47</td><td>1.0032017</td><td>0</td><td>0.00000000</td><td>SPF</td><td>1677</td><td>PTS3   </td></tr>\n",
       "\t<tr><th scope=row>CELL677_N1-SPF</th><td>2782</td><td> 8378</td><td>238</td><td>2.8407733</td><td>144</td><td>1.7187873</td><td>1</td><td>0.01193602</td><td>SPF</td><td>2782</td><td>PTS3   </td></tr>\n",
       "\t<tr><th scope=row>CELL94_N2-SPF</th><td>5368</td><td>21827</td><td>191</td><td>0.8750629</td><td>249</td><td>1.1407889</td><td>5</td><td>0.02290741</td><td>SPF</td><td>5368</td><td>PTS1-S2</td></tr>\n",
       "\t<tr><th scope=row>CELL604_N1-SPF</th><td>2944</td><td> 9227</td><td> 72</td><td>0.7803186</td><td> 86</td><td>0.9320472</td><td>0</td><td>0.00000000</td><td>SPF</td><td>2944</td><td>PTS1-S2</td></tr>\n",
       "\t<tr><th scope=row>CELL539_N1-SPF</th><td>2950</td><td> 9847</td><td> 21</td><td>0.2132629</td><td> 99</td><td>1.0053824</td><td>0</td><td>0.00000000</td><td>SPF</td><td>2950</td><td>PTS3   </td></tr>\n",
       "</tbody>\n",
       "</table>\n"
      ],
      "text/latex": [
       "A data.frame: 6 × 11\n",
       "\\begin{tabular}{r|lllllllllll}\n",
       "  & n\\_genes\\_by\\_counts & total\\_counts & total\\_counts\\_mt & pct\\_counts\\_mt & total\\_counts\\_ribo & pct\\_counts\\_ribo & total\\_counts\\_hb & pct\\_counts\\_hb & batch & n\\_genes & celltype\\\\\n",
       "  & <int> & <dbl> & <dbl> & <dbl> & <dbl> & <dbl> & <dbl> & <dbl> & <fct> & <int> & <fct>\\\\\n",
       "\\hline\n",
       "\tCELL621\\_N1-SPF & 2700 &  8840 &  33 & 0.3733032 &  70 & 0.7918553 & 0 & 0.00000000 & SPF & 2700 & PTS3   \\\\\n",
       "\tCELL1872\\_N1-SPF & 1677 &  4685 &  17 & 0.3628602 &  47 & 1.0032017 & 0 & 0.00000000 & SPF & 1677 & PTS3   \\\\\n",
       "\tCELL677\\_N1-SPF & 2782 &  8378 & 238 & 2.8407733 & 144 & 1.7187873 & 1 & 0.01193602 & SPF & 2782 & PTS3   \\\\\n",
       "\tCELL94\\_N2-SPF & 5368 & 21827 & 191 & 0.8750629 & 249 & 1.1407889 & 5 & 0.02290741 & SPF & 5368 & PTS1-S2\\\\\n",
       "\tCELL604\\_N1-SPF & 2944 &  9227 &  72 & 0.7803186 &  86 & 0.9320472 & 0 & 0.00000000 & SPF & 2944 & PTS1-S2\\\\\n",
       "\tCELL539\\_N1-SPF & 2950 &  9847 &  21 & 0.2132629 &  99 & 1.0053824 & 0 & 0.00000000 & SPF & 2950 & PTS3   \\\\\n",
       "\\end{tabular}\n"
      ],
      "text/markdown": [
       "\n",
       "A data.frame: 6 × 11\n",
       "\n",
       "| <!--/--> | n_genes_by_counts &lt;int&gt; | total_counts &lt;dbl&gt; | total_counts_mt &lt;dbl&gt; | pct_counts_mt &lt;dbl&gt; | total_counts_ribo &lt;dbl&gt; | pct_counts_ribo &lt;dbl&gt; | total_counts_hb &lt;dbl&gt; | pct_counts_hb &lt;dbl&gt; | batch &lt;fct&gt; | n_genes &lt;int&gt; | celltype &lt;fct&gt; |\n",
       "|---|---|---|---|---|---|---|---|---|---|---|---|\n",
       "| CELL621_N1-SPF | 2700 |  8840 |  33 | 0.3733032 |  70 | 0.7918553 | 0 | 0.00000000 | SPF | 2700 | PTS3    |\n",
       "| CELL1872_N1-SPF | 1677 |  4685 |  17 | 0.3628602 |  47 | 1.0032017 | 0 | 0.00000000 | SPF | 1677 | PTS3    |\n",
       "| CELL677_N1-SPF | 2782 |  8378 | 238 | 2.8407733 | 144 | 1.7187873 | 1 | 0.01193602 | SPF | 2782 | PTS3    |\n",
       "| CELL94_N2-SPF | 5368 | 21827 | 191 | 0.8750629 | 249 | 1.1407889 | 5 | 0.02290741 | SPF | 5368 | PTS1-S2 |\n",
       "| CELL604_N1-SPF | 2944 |  9227 |  72 | 0.7803186 |  86 | 0.9320472 | 0 | 0.00000000 | SPF | 2944 | PTS1-S2 |\n",
       "| CELL539_N1-SPF | 2950 |  9847 |  21 | 0.2132629 |  99 | 1.0053824 | 0 | 0.00000000 | SPF | 2950 | PTS3    |\n",
       "\n"
      ],
      "text/plain": [
       "                n_genes_by_counts total_counts total_counts_mt pct_counts_mt\n",
       "CELL621_N1-SPF  2700               8840         33             0.3733032    \n",
       "CELL1872_N1-SPF 1677               4685         17             0.3628602    \n",
       "CELL677_N1-SPF  2782               8378        238             2.8407733    \n",
       "CELL94_N2-SPF   5368              21827        191             0.8750629    \n",
       "CELL604_N1-SPF  2944               9227         72             0.7803186    \n",
       "CELL539_N1-SPF  2950               9847         21             0.2132629    \n",
       "                total_counts_ribo pct_counts_ribo total_counts_hb pct_counts_hb\n",
       "CELL621_N1-SPF   70               0.7918553       0               0.00000000   \n",
       "CELL1872_N1-SPF  47               1.0032017       0               0.00000000   \n",
       "CELL677_N1-SPF  144               1.7187873       1               0.01193602   \n",
       "CELL94_N2-SPF   249               1.1407889       5               0.02290741   \n",
       "CELL604_N1-SPF   86               0.9320472       0               0.00000000   \n",
       "CELL539_N1-SPF   99               1.0053824       0               0.00000000   \n",
       "                batch n_genes celltype\n",
       "CELL621_N1-SPF  SPF   2700    PTS3    \n",
       "CELL1872_N1-SPF SPF   1677    PTS3    \n",
       "CELL677_N1-SPF  SPF   2782    PTS3    \n",
       "CELL94_N2-SPF   SPF   5368    PTS1-S2 \n",
       "CELL604_N1-SPF  SPF   2944    PTS1-S2 \n",
       "CELL539_N1-SPF  SPF   2950    PTS3    "
      ]
     },
     "metadata": {},
     "output_type": "display_data"
    }
   ],
   "source": [
    "head(sc@meta.data)"
   ]
  },
  {
   "cell_type": "code",
   "execution_count": 9,
   "id": "ba637828-8cf8-44ec-b48a-e96df51881c2",
   "metadata": {
    "execution": {
     "iopub.execute_input": "2023-03-31T03:09:27.543792Z",
     "iopub.status.busy": "2023-03-31T03:09:27.542358Z",
     "iopub.status.idle": "2023-03-31T03:09:27.555126Z",
     "shell.execute_reply": "2023-03-31T03:09:27.553932Z"
    },
    "tags": []
   },
   "outputs": [
    {
     "data": {
      "text/plain": [
       "\n",
       "  CD-PC     DCT DCT-CNT      EC     Fib    IC-A    IC-B LOH(AL) LOH(DL)      MΦ \n",
       "    560    1154     797    1692    1006     366     181    4849     572      78 \n",
       "PTS1-S2    PTS3     Pod     Uro \n",
       "   9937    3437      71     153 "
      ]
     },
     "metadata": {},
     "output_type": "display_data"
    }
   ],
   "source": [
    "table(sc@meta.data$celltype)"
   ]
  },
  {
   "cell_type": "code",
   "execution_count": null,
   "id": "397e288e-ebeb-4211-a090-cc598324c21d",
   "metadata": {},
   "outputs": [],
   "source": [
    "## ScAT annotation"
   ]
  },
  {
   "cell_type": "code",
   "execution_count": null,
   "id": "1465e70f-1538-4ce1-8a42-f8581dce61dd",
   "metadata": {},
   "outputs": [],
   "source": []
  },
  {
   "cell_type": "code",
   "execution_count": null,
   "id": "02cb25c4-ccd2-43ea-a456-872100d8ff84",
   "metadata": {},
   "outputs": [],
   "source": []
  },
  {
   "cell_type": "code",
   "execution_count": null,
   "id": "1efe69a6-bfda-4b1b-be8c-181154109c1a",
   "metadata": {},
   "outputs": [],
   "source": [
    "## ScAT trajectory"
   ]
  },
  {
   "cell_type": "code",
   "execution_count": null,
   "id": "9fb9f993-edf3-49ba-aa85-ead0f57a9f40",
   "metadata": {},
   "outputs": [],
   "source": []
  },
  {
   "cell_type": "code",
   "execution_count": null,
   "id": "1f1ec143-03b3-4061-bd80-1e148ab06ecf",
   "metadata": {},
   "outputs": [],
   "source": [
    "## ScAT CellCellInteration"
   ]
  },
  {
   "cell_type": "code",
   "execution_count": null,
   "id": "32be54cd-90b4-4e0d-ba80-ddb42bcb0bb8",
   "metadata": {},
   "outputs": [],
   "source": []
  },
  {
   "cell_type": "code",
   "execution_count": null,
   "id": "edaeaa89-b3e0-45f3-a22b-7c2395ebc0e8",
   "metadata": {},
   "outputs": [],
   "source": [
    "## "
   ]
  },
  {
   "cell_type": "code",
   "execution_count": 2,
   "id": "f5f8a6ce-49b3-4b45-81a0-92ffba037e18",
   "metadata": {
    "execution": {
     "iopub.execute_input": "2023-04-07T11:34:18.520601Z",
     "iopub.status.busy": "2023-04-07T11:34:18.489061Z",
     "iopub.status.idle": "2023-04-07T11:34:21.055401Z",
     "shell.execute_reply": "2023-04-07T11:34:21.054066Z"
    },
    "tags": []
   },
   "outputs": [],
   "source": [
    "suppressPackageStartupMessages({\n",
    "    library(Seurat)\n",
    "    library(SeuratObject)\n",
    "    library(Matrix)\n",
    "    library(ggplot2)\n",
    "    library(tictoc)\n",
    "})\n"
   ]
  },
  {
   "cell_type": "code",
   "execution_count": 8,
   "id": "548c3dfb-6b47-40c2-b378-ee9a970602b6",
   "metadata": {
    "execution": {
     "iopub.execute_input": "2023-04-07T11:37:43.033498Z",
     "iopub.status.busy": "2023-04-07T11:37:43.030907Z",
     "iopub.status.idle": "2023-04-07T11:42:17.181662Z",
     "shell.execute_reply": "2023-04-07T11:42:17.179965Z"
    },
    "tags": []
   },
   "outputs": [
    {
     "name": "stdout",
     "output_type": "stream",
     "text": [
      "[1] \"/data/work/previous/ScAT_github/data/kidney/counts_mtx\"\n"
     ]
    }
   ],
   "source": [
    "seuratObj_to_sparseMatrix <- function(object = sce, prefix = 'sample', output_path = NULL){\n",
    "    output_path = file.path(output_path, prefix, 'counts_mtx')\n",
    "    print(output_path)\n",
    "    dir.create(output_path, recursive = T, showWarnings = F)\n",
    "\n",
    "    ### save as 10x sparse matrix\n",
    "    mtx_file = paste(output_path,'matrix.mtx', sep = '/')\n",
    "    features_file = paste(output_path,'features.tsv', sep = '/')\n",
    "    barcodes_file = paste(output_path,'barcodes.tsv', sep = '/')\n",
    "    \n",
    "    ### Write gene expression in mtx format\n",
    "    writeMM(sce@assays$RNA@data, file = mtx_file)\n",
    "    # save gene and cell names\n",
    "    write(x = rownames(sce@assays$RNA@data), file = features_file)\n",
    "    write(x = colnames(sce@assays$RNA@data), file = barcodes_file)\n",
    "}\n",
    "\n",
    "output_path = '/data/work/previous/ScAT_github/data'\n",
    "prefix = 'kidney'\n",
    "sce <- readRDS('/data/work/previous/ScAT_github/data/sce.rds')\n",
    "DefaultAssay(sce) <- 'RNA'\n",
    "\n",
    "seuratObj_to_sparseMatrix(object = sce, prefix = prefix, output_path = output_path)"
   ]
  },
  {
   "cell_type": "code",
   "execution_count": 10,
   "id": "c206a553-1f08-4be2-b969-bf42238943e1",
   "metadata": {
    "execution": {
     "iopub.execute_input": "2023-04-07T11:44:57.748046Z",
     "iopub.status.busy": "2023-04-07T11:44:57.746256Z",
     "iopub.status.idle": "2023-04-07T11:45:23.373364Z",
     "shell.execute_reply": "2023-04-07T11:45:23.371028Z"
    },
    "tags": []
   },
   "outputs": [
    {
     "data": {
      "text/html": [],
      "text/latex": [],
      "text/markdown": [],
      "text/plain": [
       "character(0)"
      ]
     },
     "metadata": {},
     "output_type": "display_data"
    }
   ],
   "source": [
    "output_path = '/data/work/previous/ScAT_github/data'\n",
    "output_path = file.path(output_path, prefix, 'counts_mtx')\n",
    "command = paste0('gzip', ' ',output_path, '/*')\n",
    "system(command = command, intern = TRUE)"
   ]
  },
  {
   "cell_type": "code",
   "execution_count": null,
   "id": "217fdd87-e3e8-48f7-a5c1-a0bdb47be70a",
   "metadata": {
    "tags": []
   },
   "outputs": [],
   "source": []
  }
 ],
 "metadata": {
  "kernelspec": {
   "display_name": "Python 3 (ipykernel)",
   "language": "python",
   "name": "python3"
  },
  "language_info": {
   "codemirror_mode": {
    "name": "ipython",
    "version": 3
   },
   "file_extension": ".py",
   "mimetype": "text/x-python",
   "name": "python",
   "nbconvert_exporter": "python",
   "pygments_lexer": "ipython3",
   "version": "3.8.14"
  }
 },
 "nbformat": 4,
 "nbformat_minor": 5
}
