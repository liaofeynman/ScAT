{
 "cells": [
  {
   "cell_type": "code",
   "execution_count": null,
   "id": "d7fa0487-21be-4ffb-ba9e-99fb88c94e25",
   "metadata": {},
   "outputs": [],
   "source": [
    "# ScAT的写法参考了STRIDE主程序\n",
    "# /ldfssz1/ST_OCEAN/USER/liaoshangfeng/software/anaconda3/envs/py38_dev/bin/STRIDE"
   ]
  },
  {
   "cell_type": "markdown",
   "id": "40519f1f-b818-4cae-b9f7-35400d5d9a92",
   "metadata": {
    "tags": []
   },
   "source": [
    "# ScAT -h "
   ]
  },
  {
   "cell_type": "code",
   "execution_count": 1,
   "id": "dd91173d-10d5-4370-9083-5785202b4c1f",
   "metadata": {
    "execution": {
     "iopub.execute_input": "2023-03-30T17:37:39.688035Z",
     "iopub.status.busy": "2023-03-30T17:37:39.687243Z",
     "iopub.status.idle": "2023-03-30T17:37:39.931558Z",
     "shell.execute_reply": "2023-03-30T17:37:39.929595Z",
     "shell.execute_reply.started": "2023-03-30T17:37:39.687880Z"
    },
    "tags": []
   },
   "outputs": [
    {
     "name": "stdout",
     "output_type": "stream",
     "text": [
      "/data/work/previous/ScAT_github/tutorial\n"
     ]
    }
   ],
   "source": [
    "!pwd"
   ]
  },
  {
   "cell_type": "code",
   "execution_count": 1,
   "id": "83e6ebcd-8475-4bea-bb1d-0ea7ef8d610f",
   "metadata": {
    "execution": {
     "iopub.execute_input": "2023-04-03T17:45:38.050071Z",
     "iopub.status.busy": "2023-04-03T17:45:38.048892Z",
     "iopub.status.idle": "2023-04-03T17:45:38.172895Z",
     "shell.execute_reply": "2023-04-03T17:45:38.170972Z",
     "shell.execute_reply.started": "2023-04-03T17:45:38.049881Z"
    },
    "tags": []
   },
   "outputs": [
    {
     "name": "stdout",
     "output_type": "stream",
     "text": [
      "/data/work/previous/ScAT_github/core/bin/ScAT.py\n",
      "usage: ScAT [-h] [-v]\n",
      "            {QcControl,Clustering,Annotation,AnnotscCATCH,Enrichment,CellCellInteraction,TFregulon,SpatialCluster,DeconvSpot,SpatialPatternGene}\n",
      "            ...\n",
      "\n",
      "ScAT - a python xxxxxxxxxxxxxxxxxx\n",
      "\n",
      "positional arguments:\n",
      "  {QcControl,Clustering,Annotation,AnnotscCATCH,Enrichment,CellCellInteraction,TFregulon,SpatialCluster,DeconvSpot,SpatialPatternGene}\n",
      "    QcControl           Perform QC control by Seurat\n",
      "    Clustering          Perform cell cluster by Seurat\n",
      "    Annotation          Perform cell annotation by SingleR\n",
      "    AnnotscCATCH        Perform cell annotation by scCATCH\n",
      "    Enrichment          Perform go enrichment by clusterProfiler\n",
      "    CellCellInteraction\n",
      "                        Perform cell-cell communication analysis by CellChat\n",
      "    TFregulon           Perform single-cell regulatory network inference.\n",
      "    SpatialCluster      Perform spatial cluster by BayeSpaces\n",
      "    DeconvSpot          Perform deconvolution of cell types by SPOTlight\n",
      "    SpatialPatternGene  Statistical analysis of spatial expression pattern by\n",
      "                        SPARK\n",
      "\n",
      "optional arguments:\n",
      "  -h, --help            show this help message and exit\n",
      "  -v, --version         print version info.\n",
      "\n",
      "Use ScAT {command} -h to get help on individual commands\n"
     ]
    }
   ],
   "source": [
    "%%sh\n",
    "path=/data/work/previous/ScAT_github\n",
    "scat=${path}/core/bin/ScAT.py\n",
    "echo $scat\n",
    "python3 $scat -h"
   ]
  },
  {
   "cell_type": "markdown",
   "id": "404e2070-6624-4866-8113-93e05edd63a0",
   "metadata": {},
   "source": [
    "# PART I: ScAT Spatial transcriptome"
   ]
  },
  {
   "cell_type": "markdown",
   "id": "8506c7b0-4359-4d09-af4b-684eade94d44",
   "metadata": {
    "tags": []
   },
   "source": [
    "## ScAT QcControl"
   ]
  },
  {
   "cell_type": "code",
   "execution_count": 3,
   "id": "b0bb8d04-c9dc-4b86-b8d4-022503ef9a18",
   "metadata": {
    "execution": {
     "iopub.execute_input": "2023-03-30T17:44:55.904428Z",
     "iopub.status.busy": "2023-03-30T17:44:55.903983Z",
     "iopub.status.idle": "2023-03-30T17:47:15.520136Z",
     "shell.execute_reply": "2023-03-30T17:47:15.518342Z",
     "shell.execute_reply.started": "2023-03-30T17:44:55.904407Z"
    },
    "tags": []
   },
   "outputs": [
    {
     "name": "stdout",
     "output_type": "stream",
     "text": [
      "$binsize\n",
      "[1] 50\n",
      "\n",
      "$fileType\n",
      "[1] \"gem\"\n",
      "\n",
      "$geneColumn\n",
      "[1] 2\n",
      "\n",
      "$hbPattern\n",
      "[1] \"^Hb[^(p)]\"\n",
      "\n",
      "$hbRatio\n",
      "[1] 100\n",
      "\n",
      "$input\n",
      "[1] \"/data/work/previous/ScAT_github/data/FP200000553BL_F2.bin1.Lasso.gem.gz\"\n",
      "\n",
      "$mFilter\n",
      "[1] FALSE\n",
      "\n",
      "$maxCount\n",
      "[1] 1000000\n",
      "\n",
      "$maxFeature\n",
      "[1] 100000\n",
      "\n",
      "$minCell\n",
      "[1] 3\n",
      "\n",
      "$minCount\n",
      "[1] 0\n",
      "\n",
      "$minFeature\n",
      "[1] 0\n",
      "\n",
      "$mtPattern\n",
      "[1] \"^Mt\"\n",
      "\n",
      "$mtRatio\n",
      "[1] 100\n",
      "\n",
      "$out\n",
      "[1] \"/data/work/previous/ScAT_github/FP200000553BL_F2/50/00.QC/step1\"\n",
      "\n",
      "$platPattern\n",
      "[1] \"Pecam1|Pf4\"\n",
      "\n",
      "$platRatio\n",
      "[1] 100\n",
      "\n",
      "$prefix\n",
      "[1] \"FP200000553BL_F2\"\n",
      "\n",
      "$ptsize\n",
      "[1] 5\n",
      "\n",
      "$rbPattern\n",
      "[1] \"^Rp[sl]\"\n",
      "\n",
      "$rbRatio\n",
      "[1] 100\n",
      "\n"
     ]
    },
    {
     "name": "stderr",
     "output_type": "stream",
     "text": [
      "\n",
      "Attaching package: ‘psych’\n",
      "\n",
      "The following objects are masked from ‘package:ggplot2’:\n",
      "\n",
      "    %+%, alpha\n",
      "\n",
      "Warning message:\n",
      "In fread(file = data) : Discarded single-line footer: <<Cox8a\t>>\n"
     ]
    }
   ],
   "source": [
    "%%sh\n",
    "\n",
    "path=/data/work/previous/ScAT_github\n",
    "scat=${path}/core/bin/ScAT.py\n",
    "\n",
    "rscript=/opt/conda/bin/Rscript\n",
    "gem_file=${path}/data/FP200000553BL_F2.bin1.Lasso.gem.gz\n",
    "prefix=FP200000553BL_F2\n",
    "binsize=50\n",
    "\n",
    "###################00 QC Control#############################\n",
    "# step 1 Preview the data and obtain raw_seurat_object.rds\n",
    "# python3 $scat QcControl -h \n",
    "\n",
    "python3 $scat QcControl \\\n",
    "    --Rscript $rscript \\\n",
    "    --input $gem_file \\\n",
    "    --out ${path}/$prefix/$binsize/00.QC/step1 \\\n",
    "    --binsize $binsize \\\n",
    "    --prefix $prefix \\\n",
    "    --mtPattern '^Mt' \\\n",
    "    --rbPattern '^Rp[sl]' \\\n",
    "    --hbPattern '^Hb[^(p)]' \\\n",
    "    --platPattern 'Pecam1|Pf4' \\\n",
    "    --ptsize 5"
   ]
  },
  {
   "cell_type": "code",
   "execution_count": 8,
   "id": "9174c007-c632-4547-a910-4b612ddbd065",
   "metadata": {
    "execution": {
     "iopub.execute_input": "2023-03-30T18:19:16.847717Z",
     "iopub.status.busy": "2023-03-30T18:19:16.846988Z",
     "iopub.status.idle": "2023-03-30T18:34:26.692283Z",
     "shell.execute_reply": "2023-03-30T18:34:26.691031Z",
     "shell.execute_reply.started": "2023-03-30T18:19:16.847653Z"
    },
    "tags": []
   },
   "outputs": [
    {
     "name": "stdout",
     "output_type": "stream",
     "text": [
      "$binsize\n",
      "[1] 1\n",
      "\n",
      "$fileType\n",
      "[1] \"gem\"\n",
      "\n",
      "$geneColumn\n",
      "[1] 2\n",
      "\n",
      "$hbPattern\n",
      "[1] \"^HB[^(P)]\"\n",
      "\n",
      "$hbRatio\n",
      "[1] 100\n",
      "\n",
      "$input\n",
      "[1] \"/data/work/previous/ScAT_github/FP200000553BL_F2/50/00.QC/step1/FP200000553BL_F2_raw_seuratObject.rds\"\n",
      "\n",
      "$mFilter\n",
      "[1] FALSE\n",
      "\n",
      "$maxCount\n",
      "[1] 1000000\n",
      "\n",
      "$maxFeature\n",
      "[1] 100000\n",
      "\n",
      "$minCell\n",
      "[1] 3\n",
      "\n",
      "$minCount\n",
      "[1] 0\n",
      "\n",
      "$minFeature\n",
      "[1] 0\n",
      "\n",
      "$mtPattern\n",
      "[1] \"^MT-\"\n",
      "\n",
      "$mtRatio\n",
      "[1] 100\n",
      "\n",
      "$out\n",
      "[1] \"/data/work/previous/ScAT_github/FP200000553BL_F2/50/00.QC/step2\"\n",
      "\n",
      "$platPattern\n",
      "[1] \"PECAM1|PF4\"\n",
      "\n",
      "$platRatio\n",
      "[1] 100\n",
      "\n",
      "$prefix\n",
      "[1] \"FP200000553BL_F2\"\n",
      "\n",
      "$ptsize\n",
      "[1] 5\n",
      "\n",
      "$rbPattern\n",
      "[1] \"^RP[SL]\"\n",
      "\n",
      "$rbRatio\n",
      "[1] 100\n",
      "\n"
     ]
    },
    {
     "name": "stderr",
     "output_type": "stream",
     "text": [
      "\n",
      "Attaching package: ‘psych’\n",
      "\n",
      "The following objects are masked from ‘package:ggplot2’:\n",
      "\n",
      "    %+%, alpha\n",
      "\n",
      "Warning messages:\n",
      "1: In asMethod(object) :\n",
      "  sparse->dense coercion: allocating vector of size 1.1 GiB\n",
      "2: In asMethod(object) :\n",
      "  sparse->dense coercion: allocating vector of size 1.1 GiB\n"
     ]
    }
   ],
   "source": [
    "%%sh\n",
    "\n",
    "path=/data/work/previous/ScAT_github\n",
    "scat=${path}/core/bin/ScAT.py\n",
    "\n",
    "rscript=/opt/conda/bin/Rscript\n",
    "gem_file=/data/work/previous/ScAT_github/data/FP200000553BL_F2.bin1.Lasso.gem.gz\n",
    "prefix=FP200000553BL_F2\n",
    "binsize=50\n",
    "\n",
    "###################00 QC Control#############################\n",
    "# step 2 Perform filteraion and normalization \n",
    "# Note! You need to manually set the filter parameters based on the QC metrics generated in the previous step.\n",
    "# ~2.2G\n",
    "python3 $scat QcControl \\\n",
    "    --Rscript $rscript \\\n",
    "    --input ${path}/$prefix/$binsize/00.QC/step1/${prefix}_raw_seuratObject.rds \\\n",
    "    --out ${path}/$prefix/$binsize/00.QC/step2 \\\n",
    "    --prefix $prefix \\\n",
    "    --ptsize 5\n",
    "\n",
    "###################00 QC Control#############################"
   ]
  },
  {
   "cell_type": "markdown",
   "id": "043297f5-f768-442d-9f80-88221eb64018",
   "metadata": {
    "tags": []
   },
   "source": [
    "## ScAT Clustering"
   ]
  },
  {
   "cell_type": "code",
   "execution_count": 1,
   "id": "79d4fcac-5812-4b3d-914d-3798ce157fc8",
   "metadata": {
    "execution": {
     "iopub.execute_input": "2023-03-31T02:49:11.892797Z",
     "iopub.status.busy": "2023-03-31T02:49:11.892008Z",
     "iopub.status.idle": "2023-03-31T03:02:25.605641Z",
     "shell.execute_reply": "2023-03-31T03:02:25.603955Z",
     "shell.execute_reply.started": "2023-03-31T02:49:11.892633Z"
    },
    "tags": []
   },
   "outputs": [
    {
     "name": "stdout",
     "output_type": "stream",
     "text": [
      "$input\n",
      "[1] \"/data/work/previous/ScAT_github/FP200000553BL_F2/50/00.QC/step2/FP200000553BL_F2_filt_norm_seuratObject.rds\"\n",
      "\n",
      "$mSpatialVar\n",
      "[1] FALSE\n",
      "\n",
      "$out\n",
      "[1] \"/data/work/previous/ScAT_github/FP200000553BL_F2/50/01.Clustering\"\n",
      "\n",
      "$pc\n",
      "[1] 30\n",
      "\n",
      "$prefix\n",
      "[1] \"FP200000553BL_F2\"\n",
      "\n",
      "$ptsize\n",
      "[1] 1\n",
      "\n",
      "$resolution\n",
      "[1] 0.8\n",
      "\n",
      "$topN\n",
      "[1] 3\n",
      "\n"
     ]
    },
    {
     "name": "stderr",
     "output_type": "stream",
     "text": [
      "Computing nearest neighbor graph\n",
      "Computing SNN\n"
     ]
    },
    {
     "name": "stdout",
     "output_type": "stream",
     "text": [
      "Modularity Optimizer version 1.3.0 by Ludo Waltman and Nees Jan van Eck\n",
      "\n",
      "Number of nodes: 37513\n",
      "Number of edges: 848600\n",
      "\n",
      "Running Louvain algorithm...\n"
     ]
    },
    {
     "name": "stderr",
     "output_type": "stream",
     "text": [
      "0%   10   20   30   40   50   60   70   80   90   100%\n",
      "[----|----|----|----|----|----|----|----|----|----|\n",
      "**************************************************|\n"
     ]
    },
    {
     "name": "stdout",
     "output_type": "stream",
     "text": [
      "Maximum modularity in 10 random starts: 0.8194\n",
      "Number of communities: 23\n",
      "Elapsed time: 7 seconds\n"
     ]
    },
    {
     "name": "stderr",
     "output_type": "stream",
     "text": [
      "1 singletons identified. 22 final clusters.\n",
      "Warning: The default method for RunUMAP has changed from calling Python UMAP via reticulate to the R-native UWOT using the cosine metric\n",
      "To use Python UMAP via reticulate, set umap.method to 'umap-learn' and metric to 'correlation'\n",
      "This message will be shown once per session\n",
      "Using method 'umap'\n",
      "0%   10   20   30   40   50   60   70   80   90   100%\n",
      "[----|----|----|----|----|----|----|----|----|----|\n",
      "**************************************************|\n"
     ]
    },
    {
     "name": "stdout",
     "output_type": "stream",
     "text": [
      "NULL\n"
     ]
    },
    {
     "name": "stderr",
     "output_type": "stream",
     "text": [
      "Warning: The following features are not present in the object: MCM5, PCNA, TYMS, FEN1, MCM2, MCM4, RRM1, UNG, GINS2, MCM6, CDCA7, DTL, PRIM1, UHRF1, MLF1IP, HELLS, RFC2, RPA2, NASP, RAD51AP1, GMNN, WDR76, SLBP, CCNE2, UBR7, POLD3, MSH2, ATAD2, RAD51, RRM2, CDC45, CDC6, EXO1, TIPIN, DSCC1, BLM, CASP8AP2, USP1, CLSPN, POLA1, CHAF1B, BRIP1, E2F8, not searching for symbol synonyms\n",
      "Warning: The following features are not present in the object: HMGB2, CDK1, NUSAP1, UBE2C, BIRC5, TPX2, TOP2A, NDC80, CKS2, NUF2, CKS1B, MKI67, TMPO, CENPF, TACC3, FAM64A, SMC4, CCNB2, CKAP2L, CKAP2, AURKB, BUB1, KIF11, ANP32E, TUBB4B, GTSE1, KIF20B, HJURP, CDCA3, HN1, CDC20, TTK, CDC25C, KIF2C, RANGAP1, NCAPD2, DLGAP5, CDCA2, CDCA8, ECT2, KIF23, HMMR, AURKA, PSRC1, ANLN, LBR, CKAP5, CENPE, CTCF, NEK2, G2E3, GAS2L3, CBX5, CENPA, not searching for symbol synonyms\n",
      "Error in palette(...) : \n",
      "  Insufficient values in manual scale. 4 needed but only 3 provided.\n",
      "In addition: Warning message:\n",
      "In AddModuleScore(object = object, features = features, name = name,  :\n",
      "  Could not find enough features in the object from the following feature lists: S.Score Attempting to match case...Could not find enough features in the object from the following feature lists: G2M.Score Attempting to match case...\n",
      "Performing log-normalization\n",
      "0%   10   20   30   40   50   60   70   80   90   100%\n",
      "[----|----|----|----|----|----|----|----|----|----|\n",
      "**************************************************|\n",
      "Calculating gene variances\n",
      "0%   10   20   30   40   50   60   70   80   90   100%\n",
      "[----|----|----|----|----|----|----|----|----|----|\n",
      "**************************************************|\n",
      "Calculating feature variances of standardized and clipped values\n",
      "0%   10   20   30   40   50   60   70   80   90   100%\n",
      "[----|----|----|----|----|----|----|----|----|----|\n",
      "**************************************************|\n",
      "Centering and scaling data matrix\n",
      "  |======================================================================| 100%\n",
      "Calculating cluster 0\n",
      "Calculating cluster 1\n",
      "Calculating cluster 2\n",
      "Calculating cluster 3\n",
      "Calculating cluster 4\n",
      "Calculating cluster 5\n",
      "Calculating cluster 6\n",
      "Calculating cluster 7\n",
      "Calculating cluster 8\n",
      "Calculating cluster 9\n",
      "Calculating cluster 10\n",
      "Calculating cluster 11\n",
      "Calculating cluster 12\n",
      "Calculating cluster 13\n",
      "Calculating cluster 14\n",
      "Calculating cluster 15\n",
      "Calculating cluster 16\n",
      "Calculating cluster 17\n",
      "Calculating cluster 18\n",
      "Calculating cluster 19\n",
      "Calculating cluster 20\n",
      "Calculating cluster 21\n"
     ]
    },
    {
     "name": "stdout",
     "output_type": "stream",
     "text": [
      "[1] \"Warning! Only 40 target genes were selected!\"\n"
     ]
    }
   ],
   "source": [
    "%%sh\n",
    "\n",
    "####################01 Clustering#############################\n",
    "# input: flt_norm_seurat_object.rds, assays: SCT\n",
    "path=/data/work/previous/ScAT_github\n",
    "scat=${path}/core/bin/ScAT.py\n",
    "\n",
    "rscript=/opt/conda/bin/Rscript\n",
    "gem_file=/data/work/previous/ScAT_github/data/FP200000553BL_F2.bin1.Lasso.gem.gz\n",
    "prefix=FP200000553BL_F2\n",
    "binsize=50\n",
    "\n",
    "\n",
    "python3 $scat Clustering \\\n",
    "    --Rscript $rscript \\\n",
    "    --input ${path}/$prefix/$binsize/00.QC/step2/${prefix}_filt_norm_seuratObject.rds \\\n",
    "    --out ${path}/$prefix/$binsize/01.Clustering \\\n",
    "    --prefix $prefix\n",
    "\n",
    "####################01 Clustering#############################"
   ]
  },
  {
   "cell_type": "code",
   "execution_count": null,
   "id": "5cd7ff14-93e6-4d53-8dfa-acd35938069c",
   "metadata": {},
   "outputs": [],
   "source": []
  },
  {
   "cell_type": "markdown",
   "id": "7379b828-40f9-4db6-9f7e-b91b572c61e7",
   "metadata": {
    "jp-MarkdownHeadingCollapsed": true,
    "tags": []
   },
   "source": [
    "## ScAT SpatialCluster"
   ]
  },
  {
   "cell_type": "code",
   "execution_count": 2,
   "id": "908be1da-59be-4351-a24d-2f49608d742d",
   "metadata": {
    "execution": {
     "iopub.execute_input": "2023-03-31T08:43:57.139453Z",
     "iopub.status.busy": "2023-03-31T08:43:57.139015Z",
     "iopub.status.idle": "2023-03-31T10:11:54.416539Z",
     "shell.execute_reply": "2023-03-31T10:11:54.414653Z",
     "shell.execute_reply.started": "2023-03-31T08:43:57.139408Z"
    },
    "tags": []
   },
   "outputs": [
    {
     "name": "stderr",
     "output_type": "stream",
     "text": [
      "Neighbors were identified for 0 out of 37513 spots.\n",
      "Fitting model...\n",
      "Calculating labels using iterations 200 through 5000.\n"
     ]
    },
    {
     "name": "stdout",
     "output_type": "stream",
     "text": [
      "[1] 5\n",
      "null device \n",
      "          1 \n"
     ]
    }
   ],
   "source": [
    "%%sh\n",
    "\n",
    "######################09 SpatialCluster###############################\n",
    "\n",
    "path=/data/work/previous/ScAT_github\n",
    "scat=${path}/core/bin/ScAT.py\n",
    "\n",
    "rscript=/opt/conda/bin/Rscript\n",
    "gem_file=/data/work/previous/ScAT_github/data/FP200000553BL_F2.bin1.Lasso.gem.gz\n",
    "prefix=FP200000553BL_F2\n",
    "binsize=50\n",
    "\n",
    "st_rds=${path}/$prefix/$binsize/00.QC/step1/${prefix}_raw_seuratObject.rds\n",
    "\n",
    "# python3 $scat SpatialCluster -h\n",
    "python3 $scat SpatialCluster \\\n",
    "    --Rscript $rscript \\\n",
    "    --Stdata $st_rds \\\n",
    "    --clusterNumber 5 \\\n",
    "    --iterations 5000 \\\n",
    "    --out ${path}/$prefix/$binsize/09.SpatialCluster\n",
    "\n",
    "######################09 SpatialCluster###############################\n"
   ]
  },
  {
   "cell_type": "markdown",
   "id": "d33d39cc-22fd-43b5-95e7-4b179c879cce",
   "metadata": {},
   "source": [
    "## ScAT DeconvSpot(TO DO)"
   ]
  },
  {
   "cell_type": "code",
   "execution_count": 4,
   "id": "a6708ca6-c01c-47fc-ac1f-4954e6f45b30",
   "metadata": {
    "execution": {
     "iopub.execute_input": "2023-04-10T11:02:48.113366Z",
     "iopub.status.busy": "2023-04-10T11:02:48.112929Z",
     "iopub.status.idle": "2023-04-10T11:02:48.214583Z",
     "shell.execute_reply": "2023-04-10T11:02:48.211809Z",
     "shell.execute_reply.started": "2023-04-10T11:02:48.113333Z"
    },
    "tags": []
   },
   "outputs": [
    {
     "name": "stdout",
     "output_type": "stream",
     "text": [
      "usage: ScAT DeconvSpot [-h] --Rscript RSCRIPT --sc_rds SC_RDS --st_rds ST_RDS\n",
      "                       [--piescale PIESCALE] [--ClusterFile CLUSTERFILE] --out\n",
      "                       OUT\n",
      "\n",
      "optional arguments:\n",
      "  -h, --help            show this help message and exit\n",
      "\n",
      "input arguments:\n",
      "  --Rscript RSCRIPT     Rscript path (default: None)\n",
      "  --sc_rds SC_RDS       Input seurate rds single-cell data after cell cluster\n",
      "                        annotation.\n",
      "  --st_rds ST_RDS       Input seurate rds spatial transcriptome data.\n",
      "  --piescale PIESCALE   Pie spot size.\n",
      "  --ClusterFile CLUSTERFILE\n",
      "                        View a set of specific cluster locations.\n",
      "\n",
      "output arguments:\n",
      "  --out OUT             Directory to save file\n"
     ]
    }
   ],
   "source": [
    "%%sh\n",
    "\n",
    "######################09 SpatialCluster###############################\n",
    "\n",
    "path=/data/work/previous/ScAT_github\n",
    "scat=${path}/bin/ScAT.py\n",
    "\n",
    "rscript=/opt/conda/bin/Rscript\n",
    "prefix=FP200000553BL_F2\n",
    "binsize=50\n",
    "st_rds=${path}/$prefix/$binsize/00.QC/step1/${prefix}_raw_seuratObject.rds\n",
    "sc_rds=${path}/kidney/01.Clustering/kidney_filt_norm_cluster_seuratObject.rds \\\n",
    "\n",
    "\n",
    "######################08 DeconvSpot###############################\n",
    "python3 $scat DeconvSpot -h\n",
    "    # --Rscript $rscript \\\n",
    "    # --sc_rds $sc_rds\\\n",
    "    # --st_rds $st_rds\\\n",
    "    # --piescale 1.2\\\n",
    "    # --out ${path}/$prefix/$binsize/08.DeconvSpot\n",
    "\n",
    "######################08 DeconvSpot###############################"
   ]
  },
  {
   "cell_type": "code",
   "execution_count": null,
   "id": "8bd9b425-4c61-4198-9bb4-b7be648d20da",
   "metadata": {},
   "outputs": [],
   "source": []
  },
  {
   "cell_type": "code",
   "execution_count": null,
   "id": "072db362-721c-4fd5-aed1-648111eabf91",
   "metadata": {},
   "outputs": [],
   "source": []
  },
  {
   "cell_type": "code",
   "execution_count": null,
   "id": "896d0cef-cdff-4983-b02c-6a05ae7d49c9",
   "metadata": {},
   "outputs": [],
   "source": []
  },
  {
   "cell_type": "markdown",
   "id": "198c8863-2190-4730-926f-346f4c847a44",
   "metadata": {
    "tags": []
   },
   "source": [
    "## ScAT SpatialPatternGene(TO DO)"
   ]
  },
  {
   "cell_type": "code",
   "execution_count": 2,
   "id": "b7701be1-9ca4-4585-83cf-b4e9c19e2916",
   "metadata": {
    "execution": {
     "iopub.execute_input": "2023-04-10T13:51:38.684633Z",
     "iopub.status.busy": "2023-04-10T13:51:38.683992Z",
     "iopub.status.idle": "2023-04-10T13:51:39.104794Z",
     "shell.execute_reply": "2023-04-10T13:51:39.103314Z",
     "shell.execute_reply.started": "2023-04-10T13:51:38.684595Z"
    },
    "tags": []
   },
   "outputs": [
    {
     "name": "stderr",
     "output_type": "stream",
     "text": [
      "Error in library(argparse, quietly = TRUE) : \n",
      "  there is no package called ‘argparse’\n",
      "Execution halted\n"
     ]
    }
   ],
   "source": [
    "%%sh\n",
    "\n",
    "######################09 SpatialCluster###############################\n",
    "\n",
    "path=/data/work/previous/ScAT_github\n",
    "scat=${path}/bin/ScAT.py\n",
    "\n",
    "rscript=/opt/conda/bin/Rscript\n",
    "gem_file=/data/work/previous/ScAT_github/data/FP200000553BL_F2.bin1.Lasso.gem.gz\n",
    "prefix=FP200000553BL_F2\n",
    "binsize=50\n",
    "\n",
    "st_rds=${path}/$prefix/$binsize/00.QC/step1/${prefix}_raw_seuratObject.rds\n",
    "\n",
    "######################10 SpatialPatternGene###############################\n",
    "python3 $scat SpatialPatternGene \\\n",
    "    --Rscript $rscript \\\n",
    "    --input $st_rds \\\n",
    "    --prefix $prefix \\\n",
    "    --out ${path}/$prefix/10.SpatialPatternGene\n",
    "\n",
    "######################10 SpatialPatternGene###############################"
   ]
  },
  {
   "cell_type": "code",
   "execution_count": null,
   "id": "e22cc05d-b6a7-4986-96d0-398acc3ca773",
   "metadata": {},
   "outputs": [],
   "source": []
  },
  {
   "cell_type": "code",
   "execution_count": null,
   "id": "5942c736-fbdf-4cd8-9474-0e227071e165",
   "metadata": {},
   "outputs": [],
   "source": []
  },
  {
   "cell_type": "code",
   "execution_count": 5,
   "id": "1f01ac4f-2d9c-4d6a-b6b8-f03130d34915",
   "metadata": {
    "collapsed": true,
    "execution": {
     "iopub.execute_input": "2023-04-10T10:21:29.778364Z",
     "iopub.status.busy": "2023-04-10T10:21:29.777925Z",
     "iopub.status.idle": "2023-04-10T11:18:04.402068Z",
     "shell.execute_reply": "2023-04-10T11:18:04.400141Z",
     "shell.execute_reply.started": "2023-04-10T10:21:29.778324Z"
    },
    "jupyter": {
     "outputs_hidden": true
    },
    "tags": []
   },
   "outputs": [
    {
     "name": "stderr",
     "output_type": "stream",
     "text": [
      "Attaching SeuratObject\n",
      "\n",
      "Attaching package: ‘dplyr’\n",
      "\n",
      "The following objects are masked from ‘package:data.table’:\n",
      "\n",
      "    between, first, last\n",
      "\n",
      "The following objects are masked from ‘package:stats’:\n",
      "\n",
      "    filter, lag\n",
      "\n",
      "The following objects are masked from ‘package:base’:\n",
      "\n",
      "    intersect, setdiff, setequal, union\n",
      "\n",
      "\n",
      "Attaching package: ‘igraph’\n",
      "\n",
      "The following objects are masked from ‘package:BiocGenerics’:\n",
      "\n",
      "    normalize, path, union\n",
      "\n",
      "The following objects are masked from ‘package:dplyr’:\n",
      "\n",
      "    as_data_frame, groups, union\n",
      "\n",
      "The following objects are masked from ‘package:stats’:\n",
      "\n",
      "    decompose, spectrum\n",
      "\n",
      "The following object is masked from ‘package:base’:\n",
      "\n",
      "    union\n",
      "\n",
      "Warning: Invalid name supplied, making object name syntactically valid. New object name is Seurat..SCTransform.Spatial; see ?make.names for more details on syntax validity\n",
      "Warning: The default method for RunUMAP has changed from calling Python UMAP via reticulate to the R-native UWOT using the cosine metric\n",
      "To use Python UMAP via reticulate, set umap.method to 'umap-learn' and metric to 'correlation'\n",
      "This message will be shown once per session\n",
      "Scale for fill is already present.\n",
      "Adding another scale for fill, which will replace the existing scale.\n",
      "Calculating cluster 0\n",
      "Calculating cluster 1\n",
      "Calculating cluster 2\n",
      "Calculating cluster 3\n",
      "Calculating cluster 4\n",
      "Calculating cluster 5\n",
      "Calculating cluster 6\n",
      "Calculating cluster 7\n",
      "Calculating cluster 8\n",
      "Calculating cluster 9\n",
      "Calculating cluster 10\n",
      "Calculating cluster 11\n",
      "Calculating cluster 12\n",
      "Calculating cluster 13\n",
      "Calculating cluster 14\n",
      "Calculating cluster 15\n",
      "Calculating cluster 16\n",
      "Calculating cluster 17\n",
      "Calculating cluster 18\n",
      "Calculating cluster 19\n",
      "Calculating cluster 20\n",
      "Calculating cluster 21\n",
      "Calculating cluster 22\n",
      "Calculating cluster 23\n",
      "Calculating cluster 24\n",
      "Calculating cluster 25\n",
      "Calculating cluster 26\n",
      "Calculating cluster 27\n",
      "Calculating cluster 28\n",
      "Calculating cluster 29\n",
      "Calculating cluster 30\n",
      "Error in trainNMF(x, y, groups, mgs, n_top, gene_id, group_id, weight_id,  : \n",
      "  argument \"mgs\" is missing, with no default\n",
      "Calls: Main_Fun -> Deconv_Spot_fun -> SPOTlight -> trainNMF -> table\n",
      "Execution halted\n"
     ]
    }
   ],
   "source": [
    "%%sh\n",
    "\n",
    "#######################08 DeconvSpot###############################\n",
    "\n",
    "path=/data/work/previous/ScAT_github\n",
    "scat=${path}/bin/ScAT.py\n",
    "\n",
    "rscript=/opt/conda/bin/Rscript\n",
    "prefix=FP200000553BL_F2\n",
    "binsize=50\n",
    "st_rds=${path}/$prefix/$binsize/00.QC/step1/${prefix}_raw_seuratObject.rds\n",
    "sc_rds=${path}/kidney/01.Clustering/kidney_filt_norm_cluster_seuratObject.rds \\\n",
    "\n",
    "\n",
    "######################08 DeconvSpot###############################\n",
    "python3 $scat DeconvSpot \\\n",
    "    --Rscript $rscript \\\n",
    "    --sc_rds $sc_rds\\\n",
    "    --st_rds $st_rds\\\n",
    "    --piescale 1.2\\\n",
    "    --out ${path}/$prefix/$binsize/08.DeconvSpot\n",
    "\n",
    "######################08 DeconvSpot###############################"
   ]
  },
  {
   "cell_type": "code",
   "execution_count": null,
   "id": "58d647e2-1e61-4c1c-8afb-0094a9705a0d",
   "metadata": {
    "tags": []
   },
   "outputs": [],
   "source": []
  },
  {
   "cell_type": "code",
   "execution_count": null,
   "id": "8640aad1-14f7-46fc-8f16-e456816a3956",
   "metadata": {
    "tags": []
   },
   "outputs": [],
   "source": []
  },
  {
   "cell_type": "code",
   "execution_count": null,
   "id": "19e205ac-e086-4330-b67e-ece03af61ea4",
   "metadata": {},
   "outputs": [],
   "source": []
  },
  {
   "cell_type": "markdown",
   "id": "d4cff2a7-cc13-4bf4-8cd7-38c684a75272",
   "metadata": {},
   "source": [
    "# PART II: ScAT Single Cell Analysis"
   ]
  },
  {
   "cell_type": "markdown",
   "id": "7d6187c2-a30a-4eea-b146-d3b98b2f5080",
   "metadata": {
    "jp-MarkdownHeadingCollapsed": true,
    "tags": []
   },
   "source": [
    "## ScAT TFregulon(TO DO)"
   ]
  },
  {
   "cell_type": "code",
   "execution_count": null,
   "id": "c0e76d5a-85a0-4479-b068-5cf4e30d1ea0",
   "metadata": {},
   "outputs": [],
   "source": []
  },
  {
   "cell_type": "markdown",
   "id": "eb667069-52b4-4859-8e47-1921db0416a6",
   "metadata": {
    "jp-MarkdownHeadingCollapsed": true,
    "tags": []
   },
   "source": [
    "## ScAT Trajectory(DONE)"
   ]
  },
  {
   "cell_type": "code",
   "execution_count": null,
   "id": "a89e9172-a5c0-4c57-bb10-e0cb7cc8787c",
   "metadata": {
    "execution": {
     "iopub.status.busy": "2023-03-30T18:34:27.245311Z",
     "iopub.status.idle": "2023-03-30T18:34:27.245571Z",
     "shell.execute_reply": "2023-03-30T18:34:27.245456Z",
     "shell.execute_reply.started": "2023-03-30T18:34:27.245443Z"
    },
    "tags": []
   },
   "outputs": [],
   "source": [
    "%%sh\n",
    "\n",
    "####################02 Trajectory#############################\n",
    "# input: flt_norm_seurat_object.rds, assays: SCT\n",
    "path=/data/work/previous/ScAT_github\n",
    "scat=${path}/core/bin/ScAT.py\n",
    "\n",
    "rscript=/opt/conda/bin/Rscript\n",
    "gem_file=/data/work/previous/ScAT_github/data/FP200000553BL_F2.bin1.Lasso.gem.gz\n",
    "prefix=FP200000553BL_F2\n",
    "binsize=50\n",
    "\n",
    "\n",
    "python3 $scat Trajectory \\\n",
    "    --Rscript $rscript \\\n",
    "    --input ${path}/$prefix/$binsize/01.Clustering/${prefix}_filt_norm_cluster_seuratObject.rds \\\n",
    "    --out ${path}/$prefix/$binsize/02.trajectory \\\n",
    "    --prefix $prefix \\\n",
    "    --mDEG\n",
    "\n",
    "####################02 Trajectory#############################"
   ]
  },
  {
   "cell_type": "markdown",
   "id": "d025d2b7-bb2d-4a45-a845-e06b86d4ce63",
   "metadata": {
    "jp-MarkdownHeadingCollapsed": true,
    "tags": []
   },
   "source": [
    "## ScAT Annotation(TO DO)"
   ]
  },
  {
   "cell_type": "code",
   "execution_count": null,
   "id": "1ca27e67-98c0-439b-bfd5-81a05d46e9c4",
   "metadata": {
    "execution": {
     "iopub.status.busy": "2023-03-30T18:34:27.246495Z",
     "iopub.status.idle": "2023-03-30T18:34:27.246729Z",
     "shell.execute_reply": "2023-03-30T18:34:27.246622Z",
     "shell.execute_reply.started": "2023-03-30T18:34:27.246612Z"
    }
   },
   "outputs": [],
   "source": [
    "%%sh\n",
    "\n",
    "####################03 Annotation#############################\n",
    "# input: flt_norm_seurat_object.rds, assays: SCT\n",
    "path=/data/work/previous/ScAT_github\n",
    "scat=${path}/core/bin/ScAT.py\n",
    "\n",
    "rscript=/opt/conda/bin/Rscript\n",
    "gem_file=/data/work/previous/ScAT_github/data/FP200000553BL_F2.bin1.Lasso.gem.gz\n",
    "prefix=FP200000553BL_F2\n",
    "binsize=50\n",
    "\n",
    "\n",
    "python3 $scat Annotation \\\n",
    "    --Rscript $rscript \\\n",
    "    --input ${path}/$prefix/$binsize/00.QC/sc1_out/flt_norm/brain_filt_norm_matrix.txt.gz \\\n",
    "    --out ${path}/$prefix/$binsize/03.annotation/sc1_out \\\n",
    "    --prefix $prefix \\\n",
    "    --ref_name  'MouseRNAseqData' \\\n",
    "    --cluster ${path}/$prefix/$binsize/01.Clustering/sc1_out/brain_clusterInfo.txt \n",
    "\n",
    "####################03 Annotation#############################"
   ]
  },
  {
   "cell_type": "markdown",
   "id": "284504cb-6e88-4e59-b9fe-97ee47ecaa13",
   "metadata": {
    "jp-MarkdownHeadingCollapsed": true,
    "tags": []
   },
   "source": [
    "## ScAT AnnotscCATCH(TO DO)"
   ]
  },
  {
   "cell_type": "code",
   "execution_count": null,
   "id": "b8cf5ab5-7bf1-4fef-b438-265a08a08735",
   "metadata": {},
   "outputs": [],
   "source": []
  },
  {
   "cell_type": "markdown",
   "id": "0ac64095-a453-4e89-b8d0-47011d608221",
   "metadata": {
    "jp-MarkdownHeadingCollapsed": true,
    "tags": []
   },
   "source": [
    "## ScAT CellCellInteraction(DONE)"
   ]
  },
  {
   "cell_type": "code",
   "execution_count": null,
   "id": "322a9a67-42f9-4d15-b603-44ea3982bc41",
   "metadata": {},
   "outputs": [],
   "source": [
    "%%sh\n",
    "\n",
    "# input: flt_norm_seurat_object.rds, assays: SCT\n",
    "path=/data/work/previous/ScAT_github\n",
    "scat=${path}/core/bin/ScAT.py\n",
    "\n",
    "rscript=/opt/conda/bin/Rscript\n",
    "gem_file=/data/work/previous/ScAT_github/data/FP200000553BL_F2.bin1.Lasso.gem.gz\n",
    "prefix=FP200000553BL_F2\n",
    "binsize=50\n",
    "\n",
    "####################05 CellCellInteraction#############################\n",
    "python3 $scat CellCellInteraction \\\n",
    "    --Rscript $rscript \\\n",
    "    --input ${path}/$prefix/$binsize/00.QC/step1/${prefix}_filt_norm_matrix.txt.gz \\\n",
    "    --out ${path}/$prefix/$binsize/04.CellCellInteraction/sc1_out \\\n",
    "    --meta ${path}/$prefix/$binsize/01.Clustering/${prefix}_clusterInfo_CCI.txt \\\n",
    "    --species 'Mouse' \\\n",
    "    --prefix $prefix\n",
    "\n",
    "####################05 CellCellInteraction#############################"
   ]
  },
  {
   "cell_type": "code",
   "execution_count": null,
   "id": "49aef1d0-96b7-4953-a748-0ef47d0f1127",
   "metadata": {},
   "outputs": [],
   "source": []
  },
  {
   "cell_type": "markdown",
   "id": "e6a3a7ef-7a94-4cc1-a66c-34548e062f20",
   "metadata": {
    "jp-MarkdownHeadingCollapsed": true,
    "tags": []
   },
   "source": [
    "# Reference"
   ]
  },
  {
   "cell_type": "code",
   "execution_count": null,
   "id": "fcc84b4f-ecd3-44dc-9c0a-22baba3f4dba",
   "metadata": {},
   "outputs": [],
   "source": [
    "# 0 and 1 are the exit codes.\n",
    "\n",
    "# exit(0) means a clean exit without any errors / problems\n",
    "# exit(1) means there was some issue / error / problem and that is why the program is exiting."
   ]
  }
 ],
 "metadata": {
  "kernelspec": {
   "display_name": "Python 3 (ipykernel)",
   "language": "python",
   "name": "python3"
  },
  "language_info": {
   "codemirror_mode": {
    "name": "ipython",
    "version": 3
   },
   "file_extension": ".py",
   "mimetype": "text/x-python",
   "name": "python",
   "nbconvert_exporter": "python",
   "pygments_lexer": "ipython3",
   "version": "3.8.14"
  }
 },
 "nbformat": 4,
 "nbformat_minor": 5
}
