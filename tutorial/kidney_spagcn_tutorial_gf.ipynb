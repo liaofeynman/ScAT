{
 "cells": [
  {
   "cell_type": "code",
   "execution_count": 1,
   "id": "58805279-b2e7-444d-aba8-16fa975cb053",
   "metadata": {
    "execution": {
     "iopub.execute_input": "2023-04-07T06:44:37.633551Z",
     "iopub.status.busy": "2023-04-07T06:44:37.631778Z",
     "iopub.status.idle": "2023-04-07T06:44:44.166810Z",
     "shell.execute_reply": "2023-04-07T06:44:44.165002Z",
     "shell.execute_reply.started": "2023-04-07T06:44:37.633370Z"
    },
    "tags": []
   },
   "outputs": [],
   "source": [
    "import os,csv,re\n",
    "import pandas as pd\n",
    "import numpy as np\n",
    "import scanpy as sc\n",
    "import math\n",
    "import SpaGCN as spg\n",
    "from scipy.sparse import issparse\n",
    "import random, torch\n",
    "import warnings\n",
    "warnings.filterwarnings(\"ignore\")\n",
    "import matplotlib.colors as clr\n",
    "import matplotlib.pyplot as plt\n",
    "import SpaGCN as spg\n",
    "#In order to read in image data, we need to install some package. Here we recommend package \"opencv\"\n",
    "#inatll opencv in python\n",
    "#!pip3 install opencv-python\n",
    "import cv2"
   ]
  },
  {
   "cell_type": "code",
   "execution_count": 2,
   "id": "a3ed3d1e-1856-488d-b1ad-b29a57eb56b7",
   "metadata": {
    "execution": {
     "iopub.execute_input": "2023-04-07T06:45:02.137933Z",
     "iopub.status.busy": "2023-04-07T06:45:02.136085Z",
     "iopub.status.idle": "2023-04-07T06:45:02.159163Z",
     "shell.execute_reply": "2023-04-07T06:45:02.158141Z",
     "shell.execute_reply.started": "2023-04-07T06:45:02.137863Z"
    },
    "tags": []
   },
   "outputs": [
    {
     "data": {
      "text/plain": [
       "'1.2.2'"
      ]
     },
     "execution_count": 2,
     "metadata": {},
     "output_type": "execute_result"
    }
   ],
   "source": [
    "spg.__version__"
   ]
  },
  {
   "cell_type": "code",
   "execution_count": 1,
   "id": "cb18fdec-f495-4927-878b-79b9add352e7",
   "metadata": {
    "execution": {
     "iopub.execute_input": "2023-04-07T06:42:13.388745Z",
     "iopub.status.busy": "2023-04-07T06:42:13.387943Z",
     "iopub.status.idle": "2023-04-07T06:42:13.636338Z",
     "shell.execute_reply": "2023-04-07T06:42:13.634620Z",
     "shell.execute_reply.started": "2023-04-07T06:42:13.388587Z"
    },
    "tags": []
   },
   "outputs": [
    {
     "name": "stdout",
     "output_type": "stream",
     "text": [
      "/data/work/previous/ScAT_github/tutorial\n"
     ]
    }
   ],
   "source": [
    "!pwd"
   ]
  },
  {
   "cell_type": "code",
   "execution_count": 3,
   "id": "093306d0-10e1-44b2-bd87-f236b3b8a2af",
   "metadata": {
    "execution": {
     "iopub.execute_input": "2023-04-07T06:45:58.640474Z",
     "iopub.status.busy": "2023-04-07T06:45:58.638849Z",
     "iopub.status.idle": "2023-04-07T06:45:59.269609Z",
     "shell.execute_reply": "2023-04-07T06:45:59.268685Z",
     "shell.execute_reply.started": "2023-04-07T06:45:58.640409Z"
    },
    "tags": []
   },
   "outputs": [
    {
     "data": {
      "text/plain": [
       "AnnData object with n_obs × n_vars = 34092 × 22747\n",
       "    obs: 'x', 'y'\n",
       "    uns: 'sample_info'\n",
       "    obsm: 'spatial'"
      ]
     },
     "execution_count": 3,
     "metadata": {},
     "output_type": "execute_result"
    }
   ],
   "source": [
    "#Read in gene expression and spatial location\n",
    "adata=sc.read(\"../data/GF_spatial.h5ad\")\n",
    "adata"
   ]
  },
  {
   "cell_type": "code",
   "execution_count": 11,
   "id": "0961654e-e3ba-4148-ac30-a9d8021997f0",
   "metadata": {
    "execution": {
     "iopub.execute_input": "2023-04-07T07:40:04.678520Z",
     "iopub.status.busy": "2023-04-07T07:40:04.677650Z",
     "iopub.status.idle": "2023-04-07T07:40:04.693758Z",
     "shell.execute_reply": "2023-04-07T07:40:04.692317Z",
     "shell.execute_reply.started": "2023-04-07T07:40:04.678453Z"
    },
    "tags": []
   },
   "outputs": [],
   "source": [
    "adata.obs[\"x_pixel\"] = adata.obsm['spatial'][:, 0] - 0\n",
    "adata.obs[\"y_pixel\"] = adata.obsm['spatial'][:, 1] - 0\n",
    "adata.obs['x_array'] = adata.obsm['spatial'][:, 0]\n",
    "adata.obs['y_array'] = adata.obsm['spatial'][:, 1] "
   ]
  },
  {
   "cell_type": "code",
   "execution_count": 12,
   "id": "1df59044-babf-43e6-8dca-c2066ac5e3c6",
   "metadata": {
    "execution": {
     "iopub.execute_input": "2023-04-07T07:40:15.067134Z",
     "iopub.status.busy": "2023-04-07T07:40:15.066225Z",
     "iopub.status.idle": "2023-04-07T07:40:15.086544Z",
     "shell.execute_reply": "2023-04-07T07:40:15.085117Z",
     "shell.execute_reply.started": "2023-04-07T07:40:15.067068Z"
    },
    "tags": []
   },
   "outputs": [],
   "source": [
    "x_array = adata.obs[\"x_array\"].tolist()\n",
    "y_array = adata.obs[\"y_array\"].tolist()\n",
    "x_pixel = adata.obs[\"x_pixel\"].tolist()\n",
    "y_pixel = adata.obs[\"y_pixel\"].tolist()"
   ]
  },
  {
   "cell_type": "code",
   "execution_count": 13,
   "id": "62527ad3-00c8-45fa-9621-7865a3c8d8fb",
   "metadata": {
    "execution": {
     "iopub.execute_input": "2023-04-07T07:41:40.272908Z",
     "iopub.status.busy": "2023-04-07T07:41:40.271975Z",
     "iopub.status.idle": "2023-04-07T07:41:43.976178Z",
     "shell.execute_reply": "2023-04-07T07:41:43.974732Z",
     "shell.execute_reply.started": "2023-04-07T07:41:40.272844Z"
    },
    "tags": []
   },
   "outputs": [
    {
     "name": "stdout",
     "output_type": "stream",
     "text": [
      "Calculateing adj matrix using xy only...\n"
     ]
    }
   ],
   "source": [
    "s = 1\n",
    "b = 49\n",
    "# adj=spg.calculate_adj_matrix(x=x_pixel,y=y_pixel, x_pixel=x_pixel, y_pixel=y_pixel, image=img, beta=b, alpha=s, histology=True)\n",
    "adj = spg.calculate_adj_matrix(x=x_pixel,y=y_pixel, histology=False)"
   ]
  },
  {
   "cell_type": "code",
   "execution_count": null,
   "id": "f155984d-d7ee-4933-8669-f1aac64d3e27",
   "metadata": {},
   "outputs": [],
   "source": [
    "## adj.csv 可以不保存，有些占空间"
   ]
  },
  {
   "cell_type": "code",
   "execution_count": 16,
   "id": "86b88cf3-6c47-4754-8616-be7d94df0757",
   "metadata": {
    "execution": {
     "iopub.execute_input": "2023-04-07T07:50:03.641920Z",
     "iopub.status.busy": "2023-04-07T07:50:03.641054Z",
     "iopub.status.idle": "2023-04-07T07:50:03.649133Z",
     "shell.execute_reply": "2023-04-07T07:50:03.647552Z",
     "shell.execute_reply.started": "2023-04-07T07:50:03.641852Z"
    },
    "tags": []
   },
   "outputs": [],
   "source": [
    "# np.savetxt('../data/adj.csv', adj, delimiter=',')"
   ]
  },
  {
   "cell_type": "code",
   "execution_count": 17,
   "id": "ba859e93-a5d9-4466-8d73-5606b3be909d",
   "metadata": {
    "execution": {
     "iopub.execute_input": "2023-04-07T07:50:19.950101Z",
     "iopub.status.busy": "2023-04-07T07:50:19.949237Z",
     "iopub.status.idle": "2023-04-07T07:50:20.766740Z",
     "shell.execute_reply": "2023-04-07T07:50:20.765660Z",
     "shell.execute_reply.started": "2023-04-07T07:50:19.950037Z"
    },
    "tags": []
   },
   "outputs": [],
   "source": [
    "adata.var_names_make_unique()\n",
    "spg.prefilter_genes(adata, min_cells=3) # avoiding all genes are zeros\n",
    "spg.prefilter_specialgenes(adata)"
   ]
  },
  {
   "cell_type": "code",
   "execution_count": 18,
   "id": "6fadbcda-bff2-473b-be02-2aa6ee2f1fea",
   "metadata": {
    "execution": {
     "iopub.execute_input": "2023-04-07T07:50:22.268185Z",
     "iopub.status.busy": "2023-04-07T07:50:22.267187Z",
     "iopub.status.idle": "2023-04-07T07:50:22.931344Z",
     "shell.execute_reply": "2023-04-07T07:50:22.930291Z",
     "shell.execute_reply.started": "2023-04-07T07:50:22.268117Z"
    },
    "tags": []
   },
   "outputs": [],
   "source": [
    "sc.pp.normalize_per_cell(adata)\n",
    "sc.pp.log1p(adata)"
   ]
  },
  {
   "cell_type": "code",
   "execution_count": 19,
   "id": "c5e37dc1-1478-47d3-b6ac-6e595b52e429",
   "metadata": {
    "execution": {
     "iopub.execute_input": "2023-04-07T07:50:25.971729Z",
     "iopub.status.busy": "2023-04-07T07:50:25.970822Z",
     "iopub.status.idle": "2023-04-07T07:52:13.029417Z",
     "shell.execute_reply": "2023-04-07T07:52:13.028179Z",
     "shell.execute_reply.started": "2023-04-07T07:50:25.971664Z"
    },
    "tags": []
   },
   "outputs": [
    {
     "name": "stdout",
     "output_type": "stream",
     "text": [
      "Run 1: l [0.01, 1000], p [0.0, 33887.555647638044]\n",
      "Run 2: l [0.01, 500.005], p [0.0, 33290.22265625]\n",
      "Run 3: l [0.01, 250.0075], p [0.0, 31081.642578125]\n",
      "Run 4: l [0.01, 125.00874999999999], p [0.0, 24446.515625]\n",
      "Run 5: l [0.01, 62.509375], p [0.0, 13029.0673828125]\n",
      "Run 6: l [0.01, 31.2596875], p [0.0, 4620.94970703125]\n",
      "Run 7: l [0.01, 15.63484375], p [0.0, 1342.0965576171875]\n",
      "Run 8: l [0.01, 7.822421875], p [0.0, 359.1611633300781]\n",
      "Run 9: l [0.01, 3.9162109375], p [0.0, 92.30227661132812]\n",
      "Run 10: l [0.01, 1.9631054687499998], p [0.0, 22.829200744628906]\n",
      "Run 11: l [0.01, 0.9865527343749999], p [0.0, 5.068014144897461]\n",
      "Run 12: l [0.01, 0.49827636718749996], p [0.0, 0.6026670932769775]\n",
      "Run 13: l [0.25413818359374996, 0.49827636718749996], p [0.0017273426055908203, 0.6026670932769775]\n",
      "Run 14: l [0.37620727539062493, 0.49827636718749996], p [0.1195368766784668, 0.6026670932769775]\n",
      "Run 15: l [0.4372418212890624, 0.49827636718749996], p [0.3120381832122803, 0.6026670932769775]\n",
      "Run 16: l [0.4677590942382812, 0.49827636718749996], p [0.44595324993133545, 0.6026670932769775]\n",
      "Run 17: l [0.4677590942382812, 0.48301773071289056], p [0.44595324993133545, 0.5216039419174194]\n",
      "Run 18: l [0.4753884124755859, 0.48301773071289056], p [0.4830840826034546, 0.5216039419174194]\n",
      "recommended l =  0.47920307159423825\n"
     ]
    }
   ],
   "source": [
    "## set hyper-parameters\n",
    "p=0.5 \n",
    "#Find the l value given p\n",
    "l=spg.search_l(p, adj, start=0.01, end=1000, tol=0.01, max_run=100)"
   ]
  },
  {
   "cell_type": "code",
   "execution_count": 20,
   "id": "5b41287d-aabb-4040-b00f-90a841e67655",
   "metadata": {
    "execution": {
     "iopub.execute_input": "2023-04-07T07:52:13.032129Z",
     "iopub.status.busy": "2023-04-07T07:52:13.031240Z",
     "iopub.status.idle": "2023-04-07T07:55:32.479237Z",
     "shell.execute_reply": "2023-04-07T07:55:32.476167Z",
     "shell.execute_reply.started": "2023-04-07T07:52:13.032104Z"
    }
   },
   "outputs": [
    {
     "name": "stdout",
     "output_type": "stream",
     "text": [
      "Start at res =  0.7 step =  0.1\n",
      "Initializing cluster centers with louvain, resolution =  0.7\n"
     ]
    },
    {
     "name": "stderr",
     "output_type": "stream",
     "text": [
      "2023-04-07 07:53:08.993191: I tensorflow/core/platform/cpu_feature_guard.cc:193] This TensorFlow binary is optimized with oneAPI Deep Neural Network Library (oneDNN) to use the following CPU instructions in performance-critical operations:  AVX2 AVX512F AVX512_VNNI FMA\n",
      "To enable them in other operations, rebuild TensorFlow with the appropriate compiler flags.\n",
      "2023-04-07 07:53:09.503688: I tensorflow/core/util/port.cc:104] oneDNN custom operations are on. You may see slightly different numerical results due to floating-point round-off errors from different computation orders. To turn them off, set the environment variable `TF_ENABLE_ONEDNN_OPTS=0`.\n",
      "2023-04-07 07:53:11.218983: W tensorflow/compiler/xla/stream_executor/platform/default/dso_loader.cc:64] Could not load dynamic library 'libnvinfer.so.7'; dlerror: libnvinfer.so.7: cannot open shared object file: No such file or directory; LD_LIBRARY_PATH: /opt/conda/lib/python3.8/site-packages/cv2/../../lib64:\n",
      "2023-04-07 07:53:11.219235: W tensorflow/compiler/xla/stream_executor/platform/default/dso_loader.cc:64] Could not load dynamic library 'libnvinfer_plugin.so.7'; dlerror: libnvinfer_plugin.so.7: cannot open shared object file: No such file or directory; LD_LIBRARY_PATH: /opt/conda/lib/python3.8/site-packages/cv2/../../lib64:\n",
      "2023-04-07 07:53:11.219265: W tensorflow/compiler/tf2tensorrt/utils/py_utils.cc:38] TF-TRT Warning: Cannot dlopen some TensorRT libraries. If you would like to use Nvidia GPU with TensorRT, please make sure the missing libraries mentioned above are installed properly.\n"
     ]
    },
    {
     "name": "stdout",
     "output_type": "stream",
     "text": [
      "Epoch  0\n",
      "Epoch  10\n",
      "Res =  0.7 Num of clusters =  7\n",
      "recommended res =  0.7\n"
     ]
    }
   ],
   "source": [
    "#For this toy data, we set the number of clusters=7 since this tissue has 7 layers\n",
    "n_clusters=7\n",
    "#Set seed\n",
    "r_seed=t_seed=n_seed=100\n",
    "#Search for suitable resolution\n",
    "res=spg.search_res(adata, adj, l, n_clusters, start=0.7, step=0.1, tol=5e-3, lr=0.05, max_epochs=20, r_seed=r_seed, t_seed=t_seed, n_seed=n_seed)"
   ]
  },
  {
   "cell_type": "code",
   "execution_count": 21,
   "id": "28fc9a24-c86b-467a-be65-b11c24f4a500",
   "metadata": {
    "execution": {
     "iopub.execute_input": "2023-04-07T07:55:32.487262Z",
     "iopub.status.busy": "2023-04-07T07:55:32.483147Z",
     "iopub.status.idle": "2023-04-07T08:15:40.558663Z",
     "shell.execute_reply": "2023-04-07T08:15:40.557067Z",
     "shell.execute_reply.started": "2023-04-07T07:55:32.487189Z"
    }
   },
   "outputs": [
    {
     "name": "stdout",
     "output_type": "stream",
     "text": [
      "Initializing cluster centers with louvain, resolution =  0.7\n",
      "Epoch  0\n",
      "Epoch  10\n",
      "Epoch  20\n",
      "Epoch  30\n",
      "Epoch  40\n",
      "Epoch  50\n",
      "Epoch  60\n",
      "Epoch  70\n",
      "Epoch  80\n",
      "Epoch  90\n",
      "Epoch  100\n",
      "Epoch  110\n",
      "Epoch  120\n",
      "Epoch  130\n",
      "Epoch  140\n",
      "Epoch  150\n",
      "Epoch  160\n",
      "Epoch  170\n",
      "Epoch  180\n",
      "Epoch  190\n"
     ]
    }
   ],
   "source": [
    "## Run SpaGCN\n",
    "clf=spg.SpaGCN()\n",
    "clf.set_l(l)\n",
    "#Set seed\n",
    "random.seed(r_seed)\n",
    "torch.manual_seed(t_seed)\n",
    "np.random.seed(n_seed)\n",
    "#Run\n",
    "clf.train(adata,adj,init_spa=True,init=\"louvain\",res=res, tol=5e-3, lr=0.05, max_epochs=200)\n",
    "y_pred, prob=clf.predict()\n",
    "adata.obs[\"pred\"]= y_pred\n",
    "adata.obs[\"pred\"]=adata.obs[\"pred\"].astype('category')\n",
    "#Do cluster refinement(optional)\n",
    "#shape=\"hexagon\" for Visium data, \"square\" for ST data.\n",
    "adj_2d=spg.calculate_adj_matrix(x=x_array,y=y_array, histology=False)\n",
    "refined_pred=spg.refine(sample_id=adata.obs.index.tolist(), pred=adata.obs[\"pred\"].tolist(), dis=adj_2d, shape=\"hexagon\")\n",
    "adata.obs[\"refined_pred\"]=refined_pred\n",
    "adata.obs[\"refined_pred\"]=adata.obs[\"refined_pred\"].astype('category')\n",
    "#Save results\n",
    "adata.write_h5ad(\"../GF_SpaGCN_results.h5ad\")"
   ]
  },
  {
   "cell_type": "code",
   "execution_count": 23,
   "id": "2579e0ff-56c7-4cba-94a9-c43c05205e89",
   "metadata": {
    "execution": {
     "iopub.execute_input": "2023-04-07T08:28:18.850263Z",
     "iopub.status.busy": "2023-04-07T08:28:18.849395Z",
     "iopub.status.idle": "2023-04-07T08:28:18.863477Z",
     "shell.execute_reply": "2023-04-07T08:28:18.862262Z",
     "shell.execute_reply.started": "2023-04-07T08:28:18.850194Z"
    },
    "tags": []
   },
   "outputs": [
    {
     "data": {
      "text/plain": [
       "{0, 1, 2, 3, 4, 5, 6}"
      ]
     },
     "execution_count": 23,
     "metadata": {},
     "output_type": "execute_result"
    }
   ],
   "source": [
    "set(adata.obs['pred'])"
   ]
  },
  {
   "cell_type": "code",
   "execution_count": 29,
   "id": "70a22cf9-7284-4e0c-8561-ef014fc6357c",
   "metadata": {
    "execution": {
     "iopub.execute_input": "2023-04-07T08:29:10.171172Z",
     "iopub.status.busy": "2023-04-07T08:29:10.170309Z",
     "iopub.status.idle": "2023-04-07T08:29:10.185197Z",
     "shell.execute_reply": "2023-04-07T08:29:10.183721Z",
     "shell.execute_reply.started": "2023-04-07T08:29:10.171102Z"
    },
    "tags": []
   },
   "outputs": [
    {
     "data": {
      "text/plain": [
       "{0, 1, 2, 3, 4, 5, 6}"
      ]
     },
     "execution_count": 29,
     "metadata": {},
     "output_type": "execute_result"
    }
   ],
   "source": [
    "set(adata.obs['refined_pred'])"
   ]
  },
  {
   "cell_type": "code",
   "execution_count": 30,
   "id": "42fc0bd8-f2d6-4084-9cb9-3e583776e7e8",
   "metadata": {
    "execution": {
     "iopub.execute_input": "2023-04-07T08:29:42.785376Z",
     "iopub.status.busy": "2023-04-07T08:29:42.784470Z",
     "iopub.status.idle": "2023-04-07T08:29:47.168603Z",
     "shell.execute_reply": "2023-04-07T08:29:47.167520Z",
     "shell.execute_reply.started": "2023-04-07T08:29:42.785305Z"
    },
    "tags": []
   },
   "outputs": [],
   "source": [
    "adata=sc.read(\"../GF_SpaGCN_results.h5ad\")\n",
    "#adata.obs should contain two columns for x_pixel and y_pixel\n",
    "#Set colors used\n",
    "# plot_color=[\"#F56867\",\"#FEB915\",\"#C798EE\",\"#59BE86\",\"#7495D3\",\"#D1D1D1\",\"#6D1A9C\",\"#15821E\",\"#3A84E6\",\"#997273\",\"#787878\",\"#DB4C6C\",\"#9E7A7A\",\"#554236\",\"#AF5F3C\",\"#93796C\",\"#F9BD3F\",\"#DAB370\",\"#877F6C\",\"#268785\"]\n",
    "plot_color=[\"#F56867\",\"#FEB915\",\"#C798EE\",\"#59BE86\",\"#7495D3\",\"#D1D1D1\",\"#6D1A9C\"]\n",
    "\n",
    "#Plot spatial domains\n",
    "domains=\"pred\"\n",
    "num_celltype=len(adata.obs[domains].unique())\n",
    "adata.uns[domains+\"_colors\"]=list(plot_color[:num_celltype])\n",
    "ax=sc.pl.scatter(adata,alpha=1,x=\"y_pixel\",y=\"x_pixel\",color=domains,title=domains,color_map=plot_color,show=False,size=100000/adata.shape[0])\n",
    "ax.set_aspect('equal', 'box')\n",
    "ax.axes.invert_yaxis()\n",
    "plt.savefig(\"../pred.png\", dpi=600)\n",
    "plt.close()\n",
    "\n",
    "#Plot refined spatial domains\n",
    "domains=\"refined_pred\"\n",
    "num_celltype=len(adata.obs[domains].unique())\n",
    "adata.uns[domains+\"_colors\"]=list(plot_color[:num_celltype])\n",
    "ax=sc.pl.scatter(adata,alpha=1,x=\"y_pixel\",y=\"x_pixel\",color=domains,title=domains,color_map=plot_color,show=False,size=100000/adata.shape[0])\n",
    "ax.set_aspect('equal', 'box')\n",
    "ax.axes.invert_yaxis()\n",
    "plt.savefig(\"../refined_pred.png\", dpi=600)\n",
    "plt.close()"
   ]
  },
  {
   "cell_type": "code",
   "execution_count": null,
   "id": "1fb46bc5-4093-4846-af5d-ec06f44b6bce",
   "metadata": {},
   "outputs": [],
   "source": []
  },
  {
   "cell_type": "code",
   "execution_count": null,
   "id": "8ced942c-dcb1-4c31-aef7-c30a7f09ade0",
   "metadata": {
    "jupyter": {
     "source_hidden": true
    },
    "tags": []
   },
   "outputs": [],
   "source": [
    "def run_spagcn(adata, clu_num, img=None, offset=(0, 0), random_seed=100, p=0.5, normalize=False, filtered=False): # for stereo data which must have spatial imfo in .obsm [optional]:image that map to spatial\n",
    "    \n",
    "    import SpaGCN as spg\n",
    "    import torch \n",
    "    import random\n",
    "    import scanpy as sc\n",
    "    \n",
    "    adata.obs[\"x_pixel\"] = adata.obsm['spatial'][:, 0] - offset[0]\n",
    "    adata.obs[\"y_pixel\"] = adata.obsm['spatial'][:, 1] - offset[1]\n",
    "    adata.obs['x_array'] = adata.obsm['spatial'][:, 0]\n",
    "    adata.obs['y_array'] = adata.obsm['spatial'][:, 1] \n",
    "    \n",
    "    x_array = adata.obs[\"x_array\"].tolist()\n",
    "    y_array = adata.obs[\"y_array\"].tolist()\n",
    "    x_pixel = adata.obs[\"x_pixel\"].tolist()\n",
    "    y_pixel = adata.obs[\"y_pixel\"].tolist()\n",
    "    \n",
    "        \n",
    "    #Calculate adjacent matrix\n",
    "    s = 1\n",
    "    b = 49\n",
    "    adj = spg.calculate_adj_matrix(x=x_pixel,y=y_pixel, \n",
    "                                   x_pixel=x_pixel, y_pixel=y_pixel, \n",
    "                                   image=img, beta=b, alpha=s, \n",
    "                                   histology=True) if img \\\n",
    "        else spg.calculate_adj_matrix(x=x_pixel,y=y_pixel, histology=False)\n",
    "        \n",
    "    #If histlogy image is not available, SpaGCN can calculate the adjacent matrix using the fnction below\n",
    "    # adj = spg.calculate_adj_matrix(x=x_pixel,y=y_pixel, histology=False)\n",
    "    if not filtered:\n",
    "        adata.var_names_make_unique()\n",
    "        spg.prefilter_genes(adata, min_cells=3) # avoiding all genes are zeros\n",
    "        spg.prefilter_specialgenes(adata)\n",
    "        \n",
    "    #Normalize and take log for UMI\n",
    "    if not normalize:\n",
    "        sc.pp.normalize_per_cell(adata)\n",
    "        sc.pp.log1p(adata)\n",
    "        \n",
    "    print('**********************************')\n",
    "    p = p \n",
    "    #Find the l value given p\n",
    "    l = spg.search_l(p, adj, start=0.01, \n",
    "                     end=50, tol=0.01, max_run=100)\n",
    "    \n",
    "    print('**********************************')\n",
    "    # If the number of clusters known, we can use the spg.search_res() fnction to search for suitable resolution(optional)\n",
    "    # eg. set the number of clusters=7 since the tissue has 7 layers\n",
    "    n_clusters = clu_num\n",
    "    #Set seed\n",
    "    r_seed = t_seed = n_seed = random_seed\n",
    "    #Seaech for suitable resolution\n",
    "    res = spg.search_res(adata, adj, l, n_clusters, \n",
    "                         start=0.7, step=0.1, tol=5e-3, \n",
    "                         lr=0.05, max_epochs=20, r_seed=r_seed, \n",
    "                         t_seed=t_seed, n_seed=n_seed)\n",
    "    \n",
    "    print('**********************************')\n",
    "    clf = spg.SpaGCN()\n",
    "    clf.set_l(l)\n",
    "    #Set seed\n",
    "    random.seed(r_seed)\n",
    "    torch.manual_seed(t_seed)\n",
    "    np.random.seed(n_seed)\n",
    "    #Run\n",
    "    clf.train(adata, adj, init_spa=True, init=\"louvain\",\n",
    "            res=res, tol=5e-3, lr=0.05, max_epochs=300)\n",
    "    \n",
    "    y_pred, prob = clf.predict()\n",
    "    adata.obs[f\"pred_{clu_num}\"] = y_pred\n",
    "    adata.obs[f\"pred_{clu_num}\"] = adata.obs[f\"pred_{clu_num}\"].astype('category')\n",
    "    \n",
    "    print('**********************************')\n",
    "    #Do cluster refinement(optional)\n",
    "    #shape=\"hexagon\" for Visium data, \"square\" for ST data.\n",
    "    adj_2d = spg.calculate_adj_matrix(x=x_array, y=y_array, histology=False)\n",
    "    refined_pred = spg.refine(sample_id=adata.obs.index.tolist(), pred=adata.obs[f\"pred_{clu_num}\"].tolist(), dis=adj_2d, shape=\"hexagon\")\n",
    "    adata.obs[f\"refined_pred_{clu_num}\"] = refined_pred\n",
    "    adata.obs[f\"refined_pred_{clu_num}\"] = adata.obs[f\"refined_pred_{clu_num}\"].astype('category')\n",
    "    \n",
    "    return adata"
   ]
  }
 ],
 "metadata": {
  "kernelspec": {
   "display_name": "Python 3 (ipykernel)",
   "language": "python",
   "name": "python3"
  },
  "language_info": {
   "codemirror_mode": {
    "name": "ipython",
    "version": 3
   },
   "file_extension": ".py",
   "mimetype": "text/x-python",
   "name": "python",
   "nbconvert_exporter": "python",
   "pygments_lexer": "ipython3",
   "version": "3.8.14"
  }
 },
 "nbformat": 4,
 "nbformat_minor": 5
}
