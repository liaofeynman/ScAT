{
 "cells": [
  {
   "cell_type": "markdown",
   "id": "6b3e912e-8192-4380-9611-45379d5e3230",
   "metadata": {},
   "source": [
    "# main function"
   ]
  },
  {
   "cell_type": "code",
   "execution_count": null,
   "id": "b262aaa8-46aa-4cb2-8b08-1d22eebf3bf1",
   "metadata": {},
   "outputs": [],
   "source": []
  },
  {
   "cell_type": "code",
   "execution_count": 1,
   "id": "814752a5-ac61-4d4c-a843-d10546cbbb0c",
   "metadata": {
    "execution": {
     "iopub.execute_input": "2023-04-05T07:01:58.120238Z",
     "iopub.status.busy": "2023-04-05T07:01:58.119445Z",
     "iopub.status.idle": "2023-04-05T07:01:58.397538Z",
     "shell.execute_reply": "2023-04-05T07:01:58.395781Z",
     "shell.execute_reply.started": "2023-04-05T07:01:58.120079Z"
    },
    "tags": []
   },
   "outputs": [
    {
     "name": "stdout",
     "output_type": "stream",
     "text": [
      "2.1\n"
     ]
    }
   ],
   "source": [
    "%%bash\n",
    "\n",
    "python ScAT.py -v"
   ]
  },
  {
   "cell_type": "code",
   "execution_count": 3,
   "id": "a3f84b20-7b26-44b6-a2c6-23d56640cf2c",
   "metadata": {
    "execution": {
     "iopub.execute_input": "2023-04-05T07:02:09.110776Z",
     "iopub.status.busy": "2023-04-05T07:02:09.110075Z",
     "iopub.status.idle": "2023-04-05T07:02:09.224657Z",
     "shell.execute_reply": "2023-04-05T07:02:09.222959Z",
     "shell.execute_reply.started": "2023-04-05T07:02:09.110713Z"
    },
    "tags": []
   },
   "outputs": [
    {
     "name": "stdout",
     "output_type": "stream",
     "text": [
      "usage: ScAT [-h] [-v]\n",
      "            {QcControl,Clustering,Annotation,AnnotscCATCH,Enrichment,CellCellInteraction,TFregulon,SpatialCluster,DeconvSpot,SpatialPatternGene}\n",
      "            ...\n",
      "\n",
      "Stereo-seq and scRNA-seq Analysis Toolkit (ScAT), a user-friendly Python\n",
      "package that provides multiple modules for scRNA-seq and Stereo-seq data\n",
      "analysis.\n",
      "\n",
      "positional arguments:\n",
      "  {QcControl,Clustering,Annotation,AnnotscCATCH,Enrichment,CellCellInteraction,TFregulon,SpatialCluster,DeconvSpot,SpatialPatternGene}\n",
      "    QcControl           Perform QC control by Seurat\n",
      "    Clustering          Perform cell cluster by Seurat\n",
      "    Annotation          Perform cell annotation by SingleR\n",
      "    AnnotscCATCH        Perform cell annotation by scCATCH\n",
      "    Enrichment          Perform go enrichment by clusterProfiler\n",
      "    CellCellInteraction\n",
      "                        Perform cell-cell communication analysis by CellChat\n",
      "    TFregulon           Perform single-cell regulatory network inference.\n",
      "    SpatialCluster      Perform spatial cluster by BayeSpaces\n",
      "    DeconvSpot          Perform deconvolution of cell types by SPOTlight\n",
      "    SpatialPatternGene  Statistical analysis of spatial expression pattern by\n",
      "                        SPARK\n",
      "\n",
      "optional arguments:\n",
      "  -h, --help            show this help message and exit\n",
      "  -v, --version         print version info.\n",
      "\n",
      "Use ScAT {command} -h to get help on individual commands\n"
     ]
    }
   ],
   "source": [
    "%%bash\n",
    "\n",
    "python ScAT.py -h"
   ]
  },
  {
   "cell_type": "markdown",
   "id": "b271fd7d-3d20-4348-9eea-603ba330b26c",
   "metadata": {
    "jp-MarkdownHeadingCollapsed": true,
    "tags": []
   },
   "source": [
    " ***Comment:***     ScAT contains xxx modules including, ...,  "
   ]
  },
  {
   "cell_type": "markdown",
   "id": "9e82a9e5-fb02-4bf5-958a-9b95e67c4294",
   "metadata": {},
   "source": [
    "# TO DO \n",
    "输入文件格式和输出文件的格式"
   ]
  },
  {
   "cell_type": "code",
   "execution_count": 32,
   "id": "812954f3-05e1-4c96-97b0-0265c6b14468",
   "metadata": {
    "execution": {
     "iopub.execute_input": "2023-04-03T18:47:56.010715Z",
     "iopub.status.busy": "2023-04-03T18:47:56.009967Z",
     "iopub.status.idle": "2023-04-03T18:47:56.187683Z",
     "shell.execute_reply": "2023-04-03T18:47:56.186160Z",
     "shell.execute_reply.started": "2023-04-03T18:47:56.010644Z"
    },
    "tags": []
   },
   "outputs": [
    {
     "name": "stdout",
     "output_type": "stream",
     "text": [
      "usage: ScAT QcControl [-h] --Rscript RSCRIPT --input INPUT [--binsize BINSIZE]\n",
      "                      [--geneColumn GENECOLUMN] [--fileType {gem,matrix}]\n",
      "                      --out OUT [--prefix PREFIX] [--ptsize PTSIZE]\n",
      "                      [--mtPattern MTPATTERN] [--rbPattern RBPATTERN]\n",
      "                      [--hbPattern HBPATTERN] [--platPattern PLATPATTERN]\n",
      "                      [--mFilter] [--minCount MINCOUNT] [--maxCount MAXCOUNT]\n",
      "                      [--minFeature MINFEATURE] [--maxFeature MAXFEATURE]\n",
      "                      [--minCell MINCELL] [--mtRatio MTRATIO]\n",
      "                      [--rbRatio RBRATIO] [--hbRatio HBRATIO]\n",
      "                      [--platRatio PLATRATIO]\n",
      "\n",
      "optional arguments:\n",
      "  -h, --help            show this help message and exit\n",
      "\n",
      "input arguments:\n",
      "  --Rscript RSCRIPT     Rscript path (default: None)\n",
      "  --input INPUT         Input Stereo-seq *.gem; 10X single cell directory;\n",
      "                        raw_matrix.txt.gz; raw_seuratObj.rds filename\n",
      "  --binsize BINSIZE     Bin size to binning, your input should be in binSize1\n",
      "                        if you set this (default 1)\n",
      "  --geneColumn GENECOLUMN\n",
      "                        Specify which column of genes.tsv or features.tsv to\n",
      "                        use for gene names (default 2)\n",
      "  --fileType {gem,matrix}\n",
      "                        Set as matrix to support *.matrix.txt.gz, otherwise,\n",
      "                        no need to change (default gem)\n",
      "\n",
      "output arguments:\n",
      "  --out OUT             Directory to save file\n",
      "  --prefix PREFIX       sample ID, will be used as output prefix and seurat\n",
      "                        object ident (default sample)\n",
      "  --ptsize PTSIZE       Point size for spatial dim plot (default 1)\n",
      "\n",
      "quality control arguments:\n",
      "  --mtPattern MTPATTERN\n",
      "                        Mitochondria gene pattern (default ^MT-)\n",
      "  --rbPattern RBPATTERN\n",
      "                        Ribosome gene pattern (default ^RP[SL])\n",
      "  --hbPattern HBPATTERN\n",
      "                        Hemoglobin gene pattern (default ^HB[^(P)])\n",
      "  --platPattern PLATPATTERN\n",
      "                        platelet gene pattern (default PECAM1|PF4)\n",
      "\n",
      "filter arguements:\n",
      "  --mFilter             Add \"--mTop_markers\" to allow filteration (default:\n",
      "                        False)\n",
      "  --minCount MINCOUNT   Minimum UMI number per cell/BIN [default 0]\n",
      "  --maxCount MAXCOUNT   Maximum UMI number per cell/BIN [default 1000000]\n",
      "  --minFeature MINFEATURE\n",
      "                        Minimum feature number per cell/BIN [default 0]\n",
      "  --maxFeature MAXFEATURE\n",
      "                        Maximum feature number per cell/BIN [default 100000]\n",
      "  --minCell MINCELL     Minimum cell or BIN number express the gene (for genes\n",
      "                        filterationn) (default 3)\n",
      "  --mtRatio MTRATIO     Maximum mitochondria gene UMI ratio per cell/BIN\n",
      "                        (default 100)\n",
      "  --rbRatio RBRATIO     Maximum ribosome gene UMI ratio per cell/BIN (default\n",
      "                        100)\n",
      "  --hbRatio HBRATIO     Maximum hemoglobin gene UMI ratio per cell/BIN\n",
      "                        (default 100)\n",
      "  --platRatio PLATRATIO\n",
      "                        Maximum platelet gene UMI ratio per cell/BIN (default\n",
      "                        100)\n"
     ]
    }
   ],
   "source": [
    "%%sh\n",
    "\n",
    "python ScAT.py QcControl -h"
   ]
  },
  {
   "cell_type": "code",
   "execution_count": 34,
   "id": "4b563f4b-53ee-45da-8f7c-c9dd09b2d3b3",
   "metadata": {
    "execution": {
     "iopub.execute_input": "2023-04-03T18:49:30.935737Z",
     "iopub.status.busy": "2023-04-03T18:49:30.935014Z",
     "iopub.status.idle": "2023-04-03T18:49:31.050765Z",
     "shell.execute_reply": "2023-04-03T18:49:31.049086Z",
     "shell.execute_reply.started": "2023-04-03T18:49:30.935671Z"
    },
    "tags": []
   },
   "outputs": [
    {
     "name": "stdout",
     "output_type": "stream",
     "text": [
      "usage: ScAT Annotation [-h] --Rscript RSCRIPT --input INPUT\n",
      "                       [--ref_name {BlueprintEncodeData,DatabaseImmuneCellExpressionData,HumanPrimaryCellAtlasData,ImmGenData,MonacoImmuneData,MouseRNAseqData,NovershternHematopoieticData}]\n",
      "                       [--cluster CLUSTER] --out OUT [--prefix PREFIX]\n",
      "\n",
      "optional arguments:\n",
      "  -h, --help            show this help message and exit\n",
      "\n",
      "input arguments:\n",
      "  --Rscript RSCRIPT     Rscript path (default: None)\n",
      "  --input INPUT         Input normalized data (*txt.gz)\n",
      "  --ref_name {BlueprintEncodeData,DatabaseImmuneCellExpressionData,HumanPrimaryCellAtlasData,ImmGenData,MonacoImmuneData,MouseRNAseqData,NovershternHematopoieticData}\n",
      "                        Ref database name (default: HumanPrimaryCellAtlasData)\n",
      "  --cluster CLUSTER     cluster file generated by Seurat workflow (default:\n",
      "                        None)\n",
      "\n",
      "output arguments:\n",
      "  --out OUT             Directory to save file\n",
      "  --prefix PREFIX       sample ID, will be used as output file prefix\n",
      "                        (default: sample)\n"
     ]
    }
   ],
   "source": [
    "%%sh\n",
    "\n",
    "python ScAT.py Annotation -h"
   ]
  },
  {
   "cell_type": "code",
   "execution_count": 36,
   "id": "2e1f9a03-8b97-4aba-aa50-80354ffe823e",
   "metadata": {
    "execution": {
     "iopub.execute_input": "2023-04-03T18:50:55.095732Z",
     "iopub.status.busy": "2023-04-03T18:50:55.095016Z",
     "iopub.status.idle": "2023-04-03T18:50:55.193678Z",
     "shell.execute_reply": "2023-04-03T18:50:55.191760Z",
     "shell.execute_reply.started": "2023-04-03T18:50:55.095664Z"
    },
    "tags": []
   },
   "outputs": [
    {
     "name": "stdout",
     "output_type": "stream",
     "text": [
      "usage: ScAT AnnotscCATCH [-h] --Rscript RSCRIPT --input INPUT --species\n",
      "                         SPECIES --tissue TISSUE --cancer CANCER --out OUT\n",
      "                         [--prefix PREFIX]\n",
      "\n",
      "optional arguments:\n",
      "  -h, --help         show this help message and exit\n",
      "\n",
      "input arguments:\n",
      "  --Rscript RSCRIPT  Rscript path (default: None)\n",
      "  --input INPUT      Rds file of gene expression\n",
      "  --species SPECIES  Select species, support Human or Mouse (default: None)\n",
      "  --tissue TISSUE    tiisue type: https://github.com/ZJUFanLab/scCATCH/wiki\n",
      "                     (default: None)\n",
      "  --cancer CANCER    cancer type:https://github.com/ZJUFanLab/scCATCH/wiki\n",
      "                     (default: None)\n",
      "\n",
      "output arguments:\n",
      "  --out OUT          Directory to save file\n",
      "  --prefix PREFIX    sample ID, will be used as output file prefix (default:\n",
      "                     sample)\n"
     ]
    }
   ],
   "source": [
    "%%sh\n",
    "\n",
    "python ScAT.py AnnotscCATCH -h"
   ]
  },
  {
   "cell_type": "code",
   "execution_count": 35,
   "id": "e3c1d09b-e79a-4731-b704-9a77d2494fc4",
   "metadata": {
    "execution": {
     "iopub.execute_input": "2023-04-03T18:50:31.248953Z",
     "iopub.status.busy": "2023-04-03T18:50:31.248203Z",
     "iopub.status.idle": "2023-04-03T18:50:31.378985Z",
     "shell.execute_reply": "2023-04-03T18:50:31.377301Z",
     "shell.execute_reply.started": "2023-04-03T18:50:31.248858Z"
    },
    "tags": []
   },
   "outputs": [
    {
     "name": "stdout",
     "output_type": "stream",
     "text": [
      "usage: ScAT Clustering [-h] --Rscript RSCRIPT --input INPUT [--pc PC]\n",
      "                       [--resolution RESOLUTION] [--ptsize PTSIZE]\n",
      "                       [--topN {1,2,3,4,5,6,7,8,9}] --out OUT\n",
      "                       [--prefix PREFIX] [--findSpatialVar]\n",
      "\n",
      "optional arguments:\n",
      "  -h, --help            show this help message and exit\n",
      "\n",
      "input arguments:\n",
      "  --Rscript RSCRIPT     Rscript path (default: None)\n",
      "  --input INPUT         Input *_seuratObj.rds with SCT assay\n",
      "  --pc PC               PCA dimensionality for clustering. (default: 30)\n",
      "  --resolution RESOLUTION\n",
      "                        Resolution for clustering, use a value above (below)\n",
      "                        1.0 if you want obtain a larger (smaller) number of\n",
      "                        communities. (default: 0.8)\n",
      "  --ptsize PTSIZE       Point size for spatil dim plot\n",
      "  --topN {1,2,3,4,5,6,7,8,9}\n",
      "                        Select top N makers in each cluster for further\n",
      "                        visualization (default: 3)\n",
      "\n",
      "output arguments:\n",
      "  --out OUT             Directory to save file\n",
      "  --prefix PREFIX       sample ID, will be used as output file prefix\n",
      "                        (default: sample)\n",
      "\n",
      "boolean arguments:\n",
      "  --findSpatialVar      Add \"--findSpatialVar\" to find spatial variable\n",
      "                        features by Seurat (default: False)\n"
     ]
    }
   ],
   "source": [
    "%%sh\n",
    "\n",
    "python ScAT.py Clustering -h"
   ]
  },
  {
   "cell_type": "code",
   "execution_count": 37,
   "id": "d7ca8e45-6a13-49ab-bed4-acd4998b31a8",
   "metadata": {
    "execution": {
     "iopub.execute_input": "2023-04-03T18:51:39.675200Z",
     "iopub.status.busy": "2023-04-03T18:51:39.674446Z",
     "iopub.status.idle": "2023-04-03T18:51:39.794255Z",
     "shell.execute_reply": "2023-04-03T18:51:39.792454Z",
     "shell.execute_reply.started": "2023-04-03T18:51:39.675134Z"
    },
    "tags": []
   },
   "outputs": [
    {
     "name": "stdout",
     "output_type": "stream",
     "text": [
      "usage: ScAT Enrichment [-h] --Rscript RSCRIPT --input INPUT --species\n",
      "                       {Human,Mouse} --cluster CLUSTER --out OUT\n",
      "\n",
      "optional arguments:\n",
      "  -h, --help            show this help message and exit\n",
      "\n",
      "input arguments:\n",
      "  --Rscript RSCRIPT     Rscript path (default: None)\n",
      "  --input INPUT         Input markerGene filename which generated by Seurat\n",
      "                        workflow.\n",
      "  --species {Human,Mouse}\n",
      "                        Species name\n",
      "  --cluster CLUSTER     Cluser file name to compare go enrichment (one column)\n",
      "\n",
      "output arguments:\n",
      "  --out OUT             Directory to save file\n"
     ]
    }
   ],
   "source": [
    "%%sh\n",
    "\n",
    "python ScAT.py Enrichment -h"
   ]
  },
  {
   "cell_type": "code",
   "execution_count": null,
   "id": "85c441a2-5f09-46bc-bbb8-2249537ba22d",
   "metadata": {},
   "outputs": [],
   "source": []
  },
  {
   "cell_type": "code",
   "execution_count": 38,
   "id": "532713f5-1019-4521-b48e-f4658304eb26",
   "metadata": {
    "execution": {
     "iopub.execute_input": "2023-04-03T18:51:54.716154Z",
     "iopub.status.busy": "2023-04-03T18:51:54.715448Z",
     "iopub.status.idle": "2023-04-03T18:51:54.809348Z",
     "shell.execute_reply": "2023-04-03T18:51:54.807662Z",
     "shell.execute_reply.started": "2023-04-03T18:51:54.716092Z"
    },
    "tags": []
   },
   "outputs": [
    {
     "name": "stdout",
     "output_type": "stream",
     "text": [
      "usage: ScAT CellCellInteraction [-h] --Rscript RSCRIPT --input INPUT\n",
      "                                [--species {Human,Mouse}] --meta META --out\n",
      "                                OUT [--prefix PREFIX]\n",
      "\n",
      "optional arguments:\n",
      "  -h, --help            show this help message and exit\n",
      "\n",
      "input arguments:\n",
      "  --Rscript RSCRIPT     Rscript path (default: None)\n",
      "  --input INPUT         Input raw data file (*.txt.gz)\n",
      "  --species {Human,Mouse}\n",
      "                        Species name (default: Human)\n",
      "  --meta META           Cell labels (Recommand the cell types results\n",
      "                        generated by Annotation module (default: None)\n",
      "\n",
      "output arguments:\n",
      "  --out OUT             Directory to save file\n",
      "  --prefix PREFIX       Sample ID, will be used as output prefix and seuratObj\n",
      "                        ident\n"
     ]
    }
   ],
   "source": [
    "%%sh\n",
    "\n",
    "python ScAT.py CellCellInteraction -h"
   ]
  },
  {
   "cell_type": "code",
   "execution_count": 39,
   "id": "3323a467-37ae-48e6-9486-9494d78ced59",
   "metadata": {
    "execution": {
     "iopub.execute_input": "2023-04-03T18:52:12.519386Z",
     "iopub.status.busy": "2023-04-03T18:52:12.518677Z",
     "iopub.status.idle": "2023-04-03T18:52:12.622784Z",
     "shell.execute_reply": "2023-04-03T18:52:12.621133Z",
     "shell.execute_reply.started": "2023-04-03T18:52:12.519321Z"
    },
    "tags": []
   },
   "outputs": [
    {
     "name": "stdout",
     "output_type": "stream",
     "text": [
      "usage: ScAT TFregulon [-h] --GeneMatrix GENEMATRIX --species SPECIES\n",
      "                      [--annot ANNOT] [--TFDataset TFDATASET] [--TFName TF]\n",
      "                      [--NetFile NET] [--SCENICloom SCENICLOOM] [--h5ad H5AD]\n",
      "                      [--TFreglist TFREGLIST] [--cpu CPU] --outdir OUTDIR\n",
      "\n",
      "optional arguments:\n",
      "  -h, --help            show this help message and exit\n",
      "\n",
      "input arguments:\n",
      "  --GeneMatrix GENEMATRIX\n",
      "                        Gene expression matrix of single cell.\n",
      "  --species SPECIES     Human or mouse.\n",
      "  --annot ANNOT         Cell type annotation file.\n",
      "  --TFDataset TFDATASET\n",
      "                        TF dataset.\n",
      "  --TFName TF           Provide a TF name.\n",
      "  --NetFile NET         Co-expression network inferred by pyscenic named\n",
      "                        '02.Network.Adj.tsv' in the outdir.\n",
      "  --SCENICloom SCENICLOOM\n",
      "                        Loom file outputed by SCENIC named\n",
      "                        'SCENIC.Regulon.AUC.loom '.\n",
      "  --h5ad H5AD           h5ad file including AdataExpression and regulonAUC\n",
      "                        value info named 'Adata.Expression.Regulon.AUC.h5ad'.\n",
      "  --TFreglist TFREGLIST\n",
      "                        TF regulons list file;One column.\n",
      "  --cpu CPU             Cpu numbers.\n",
      "\n",
      "output arguments:\n",
      "  --outdir OUTDIR       Output result directory\n"
     ]
    }
   ],
   "source": [
    "%%sh\n",
    "\n",
    "python ScAT.py TFregulon -h"
   ]
  },
  {
   "cell_type": "code",
   "execution_count": 40,
   "id": "e32edb40-6fc9-445b-9188-c64a342b42d4",
   "metadata": {
    "execution": {
     "iopub.execute_input": "2023-04-03T18:52:25.907534Z",
     "iopub.status.busy": "2023-04-03T18:52:25.906790Z",
     "iopub.status.idle": "2023-04-03T18:52:26.022912Z",
     "shell.execute_reply": "2023-04-03T18:52:26.020342Z",
     "shell.execute_reply.started": "2023-04-03T18:52:25.907467Z"
    },
    "tags": []
   },
   "outputs": [
    {
     "name": "stdout",
     "output_type": "stream",
     "text": [
      "usage: ScAT SpatialCluster [-h] --Rscript RSCRIPT --Stdata STDATA\n",
      "                           [--clusterNumber CLUSTERNUMBER] --iterations\n",
      "                           ITERATIONS --out OUT\n",
      "\n",
      "optional arguments:\n",
      "  -h, --help            show this help message and exit\n",
      "\n",
      "input arguments:\n",
      "  --Rscript RSCRIPT     Rscript path (default: None)\n",
      "  --Stdata STDATA       Seurat rds before clustering...\n",
      "  --clusterNumber CLUSTERNUMBER\n",
      "                        Set cluster number of BayesSpace spatial cluster\n",
      "  --iterations ITERATIONS\n",
      "                        iterations number of MCMC\n",
      "\n",
      "output arguments:\n",
      "  --out OUT             Directory to save file\n"
     ]
    }
   ],
   "source": [
    "%%sh\n",
    "\n",
    "python ScAT.py SpatialCluster -h"
   ]
  },
  {
   "cell_type": "code",
   "execution_count": 46,
   "id": "e8da139a-ca2b-45b6-a500-97562be42b2a",
   "metadata": {
    "execution": {
     "iopub.execute_input": "2023-04-03T19:02:21.812874Z",
     "iopub.status.busy": "2023-04-03T19:02:21.812148Z",
     "iopub.status.idle": "2023-04-03T19:02:21.909633Z",
     "shell.execute_reply": "2023-04-03T19:02:21.908286Z",
     "shell.execute_reply.started": "2023-04-03T19:02:21.812812Z"
    },
    "tags": []
   },
   "outputs": [
    {
     "name": "stdout",
     "output_type": "stream",
     "text": [
      "usage: ScAT DeconvSpot [-h] --Rscript RSCRIPT --Scdata SCDATA --Stdata STDATA\n",
      "                       [--piescale PIESCALE] [--ClusterFile CLUSTERFILE] --out\n",
      "                       OUT\n",
      "\n",
      "optional arguments:\n",
      "  -h, --help            show this help message and exit\n",
      "\n",
      "input arguments:\n",
      "  --Rscript RSCRIPT     Rscript path (default: None)\n",
      "  --Scdata SCDATA       Input seurate rds single-cell data after cell cluster\n",
      "                        annotation.\n",
      "  --Stdata STDATA       Input seurate rds spatial transcriptome data.\n",
      "  --piescale PIESCALE   Pie spot size.\n",
      "  --ClusterFile CLUSTERFILE\n",
      "                        View a set of specific cluster locations.\n",
      "\n",
      "output arguments:\n",
      "  --out OUT             Directory to save file\n"
     ]
    }
   ],
   "source": [
    "%%sh\n",
    "\n",
    "python ScAT.py DeconvSpot -h"
   ]
  },
  {
   "cell_type": "code",
   "execution_count": 45,
   "id": "51613a8b-8577-4113-90ef-ced13fd02619",
   "metadata": {
    "execution": {
     "iopub.execute_input": "2023-04-03T18:58:56.417844Z",
     "iopub.status.busy": "2023-04-03T18:58:56.417000Z",
     "iopub.status.idle": "2023-04-03T18:58:56.523250Z",
     "shell.execute_reply": "2023-04-03T18:58:56.521533Z",
     "shell.execute_reply.started": "2023-04-03T18:58:56.417776Z"
    },
    "tags": []
   },
   "outputs": [
    {
     "name": "stdout",
     "output_type": "stream",
     "text": [
      "usage: ScAT SpatialPatternGene [-h] --Rscript RSCRIPT --input INPUT --genefile\n",
      "                               GENEFILE --out OUT\n",
      "\n",
      "optional arguments:\n",
      "  -h, --help           show this help message and exit\n",
      "\n",
      "input arguments:\n",
      "  --Rscript RSCRIPT    Rscript path.(default: None)\n",
      "  --input INPUT        Seurat rds after clustering.\n",
      "  --genefile GENEFILE  One column file including genes you want to show.\n",
      "\n",
      "output arguments:\n",
      "  --out OUT            Directory to save file\n"
     ]
    }
   ],
   "source": [
    "%%sh\n",
    "\n",
    "python ScAT.py SpatialPatternGene -h"
   ]
  },
  {
   "cell_type": "code",
   "execution_count": null,
   "id": "66b81e8f-0b86-4bfb-8fd9-e41e3f969a5b",
   "metadata": {},
   "outputs": [],
   "source": [
    "# 后续再加\n",
    "\n",
    "ScAT Convert \n",
    "\n",
    "用notebook做展示\n",
    "\n",
    "我们在github提供了Convert module demo，后续加进来。\n",
    "- h5ad\n",
    "- RDS\n",
    "- matrix\n",
    "- dir(10x, C4)\n",
    "- loom\n",
    "- RDS-> matrix  dir\n",
    "# - bayesSpace singleCellExperiments\n",
    "\n",
    "ScAT MultiSlice\n",
    "多切片整合\n",
    "添加两个模块＋1个数据（肾）+文章修改（重点解释为什么用这些软件）"
   ]
  },
  {
   "cell_type": "markdown",
   "id": "83b96f3b-1bf6-4591-b80a-066e7765c295",
   "metadata": {
    "jp-MarkdownHeadingCollapsed": true,
    "tags": []
   },
   "source": [
    "##　Rest"
   ]
  },
  {
   "cell_type": "code",
   "execution_count": 5,
   "id": "97fd28ab-1e8f-4086-a824-ba8d2f29faea",
   "metadata": {
    "execution": {
     "iopub.execute_input": "2023-03-02T08:43:28.266163Z",
     "iopub.status.busy": "2023-03-02T08:43:28.265402Z",
     "iopub.status.idle": "2023-03-02T08:43:31.732513Z",
     "shell.execute_reply": "2023-03-02T08:43:31.730503Z",
     "shell.execute_reply.started": "2023-03-02T08:43:28.266093Z"
    },
    "tags": []
   },
   "outputs": [
    {
     "name": "stderr",
     "output_type": "stream",
     "text": [
      "Attaching SeuratObject\n"
     ]
    }
   ],
   "source": [
    "%%sh\n",
    "Rscript -e 'library(Seurat)'"
   ]
  },
  {
   "cell_type": "code",
   "execution_count": 34,
   "id": "fccd54b1-bc1d-449b-b1b9-cadf521b0835",
   "metadata": {
    "collapsed": true,
    "execution": {
     "iopub.execute_input": "2023-02-26T18:24:09.765402Z",
     "iopub.status.busy": "2023-02-26T18:24:09.764326Z",
     "iopub.status.idle": "2023-02-26T18:24:09.886188Z",
     "shell.execute_reply": "2023-02-26T18:24:09.884953Z",
     "shell.execute_reply.started": "2023-02-26T18:24:09.765357Z"
    },
    "jupyter": {
     "outputs_hidden": true
    },
    "tags": []
   },
   "outputs": [
    {
     "name": "stdout",
     "output_type": "stream",
     "text": [
      "usage: ScAT QcControl [-h] --Rscript RSCRIPT --input INPUT [--binsize BINSIZE]\n",
      "                      [--geneColumn GENECOLUMN] [--fileType {gem,matrix}]\n",
      "                      --out OUT [--prefix PREFIX] [--ptsize PTSIZE]\n",
      "                      [--mtPattern MTPATTERN] [--rbPattern RBPATTERN]\n",
      "                      [--hbPattern HBPATTERN] [--platPattern PLATPATTERN]\n",
      "                      [--mFilter] [--minCount MINCOUNT] [--maxCount MAXCOUNT]\n",
      "                      [--minFeature MINFEATURE] [--maxFeature MAXFEATURE]\n",
      "                      [--minCell MINCELL] [--mtRatio MTRATIO]\n",
      "                      [--rbRatio RBRATIO] [--hbRatio HBRATIO]\n",
      "                      [--platRatio PLATRATIO]\n",
      "\n",
      "optional arguments:\n",
      "  -h, --help            show this help message and exit\n",
      "\n",
      "Input arguments:\n",
      "  --Rscript RSCRIPT     Rscript path (default: None)\n",
      "  --input INPUT         Input Stereo-seq *.gem; 10X single cell directory;\n",
      "                        raw_matrix.txt.gz; raw_seuratObj.rds filename\n",
      "  --binsize BINSIZE     Bin size to binning, your input should be in binSize1\n",
      "                        if you set this (default 1)\n",
      "  --geneColumn GENECOLUMN\n",
      "                        Specify which column of genes.tsv or features.tsv to\n",
      "                        use for gene names (default 2)\n",
      "  --fileType {gem,matrix}\n",
      "                        Set as matrix to support *.matrix.txt.gz, otherwise,\n",
      "                        no need to change (default gem)\n",
      "\n",
      "Output arguments:\n",
      "  --out OUT             Directory to save file\n",
      "  --prefix PREFIX       sample ID, will be used as output prefix and seurat\n",
      "                        object ident (default sample)\n",
      "  --ptsize PTSIZE       Point size for spatial dim plot (default 1)\n",
      "\n",
      "Quality control arguments:\n",
      "  --mtPattern MTPATTERN\n",
      "                        Mitochondria gene pattern (default ^MT-)\n",
      "  --rbPattern RBPATTERN\n",
      "                        Ribosome gene pattern (default ^RP[SL])\n",
      "  --hbPattern HBPATTERN\n",
      "                        Hemoglobin gene pattern (default ^HB[^(P)])\n",
      "  --platPattern PLATPATTERN\n",
      "                        platelet gene pattern (default PECAM1|PF4)\n",
      "\n",
      "Filter arguements:\n",
      "  --mFilter             Add \"--mTop_markers\" to allow filteration (default:\n",
      "                        False)\n",
      "  --minCount MINCOUNT   Minimum UMI number per cell/BIN [default 0]\n",
      "  --maxCount MAXCOUNT   Maximum UMI number per cell/BIN [default 1000000]\n",
      "  --minFeature MINFEATURE\n",
      "                        Minimum feature number per cell/BIN [default 0]\n",
      "  --maxFeature MAXFEATURE\n",
      "                        Maximum feature number per cell/BIN [default 100000]\n",
      "  --minCell MINCELL     Minimum cell or BIN number express the gene (for genes\n",
      "                        filterationn) (default 3)\n",
      "  --mtRatio MTRATIO     Maximum mitochondria gene UMI ratio per cell/BIN\n",
      "                        (default 100)\n",
      "  --rbRatio RBRATIO     Maximum ribosome gene UMI ratio per cell/BIN (default\n",
      "                        100)\n",
      "  --hbRatio HBRATIO     Maximum hemoglobin gene UMI ratio per cell/BIN\n",
      "                        (default 100)\n",
      "  --platRatio PLATRATIO\n",
      "                        Maximum platelet gene UMI ratio per cell/BIN (default\n",
      "                        100)\n"
     ]
    }
   ],
   "source": [
    "%%sh\n",
    "python ScAT.py QcControl -h"
   ]
  },
  {
   "cell_type": "code",
   "execution_count": 36,
   "id": "ed10f440-4951-4ec6-a591-a2912b1cb5b0",
   "metadata": {
    "execution": {
     "iopub.execute_input": "2023-02-26T18:24:51.149625Z",
     "iopub.status.busy": "2023-02-26T18:24:51.148930Z",
     "iopub.status.idle": "2023-02-26T18:24:51.265492Z",
     "shell.execute_reply": "2023-02-26T18:24:51.264266Z",
     "shell.execute_reply.started": "2023-02-26T18:24:51.149582Z"
    },
    "tags": []
   },
   "outputs": [
    {
     "name": "stdout",
     "output_type": "stream",
     "text": [
      "usage: ScAT Clustering [-h] --Rscript RSCRIPT --input INPUT [--pc PC]\n",
      "                       [--resolution RESOLUTION] [--ptsize PTSIZE]\n",
      "                       [--topN {1,2,3,4,5,6,7,8,9}] --out OUT\n",
      "                       [--prefix PREFIX] [--findSpatialVar]\n",
      "\n",
      "optional arguments:\n",
      "  -h, --help            show this help message and exit\n",
      "\n",
      "input arguments:\n",
      "  --Rscript RSCRIPT     Rscript path (default: None)\n",
      "  --input INPUT         Input *_seuratObj.rds with SCT assay\n",
      "  --pc PC               PCA dimensionality for clustering. (default: 30)\n",
      "  --resolution RESOLUTION\n",
      "                        Resolution for clustering, use a value above (below)\n",
      "                        1.0 if you want obtain a larger (smaller) number of\n",
      "                        communities. (default: 0.8)\n",
      "  --ptsize PTSIZE       Point size for spatil dim plot\n",
      "  --topN {1,2,3,4,5,6,7,8,9}\n",
      "                        Select top N makers in each cluster for further\n",
      "                        visualization (default: 3)\n",
      "\n",
      "output arguments:\n",
      "  --out OUT             Directory to save file\n",
      "  --prefix PREFIX       sample ID, will be used as output file prefix\n",
      "                        (default: sample)\n",
      "\n",
      "boolean arguments:\n",
      "  --findSpatialVar      Add \"--findSpatialVar\" to find spatial variable\n",
      "                        features by Seurat (default: False)\n"
     ]
    }
   ],
   "source": [
    "%%sh\n",
    "python ScAT.py Clustering -h"
   ]
  },
  {
   "cell_type": "code",
   "execution_count": 39,
   "id": "44d76656-746f-4e8e-ae75-4893f6548485",
   "metadata": {
    "execution": {
     "iopub.execute_input": "2023-02-26T18:26:05.867215Z",
     "iopub.status.busy": "2023-02-26T18:26:05.866359Z",
     "iopub.status.idle": "2023-02-26T18:26:05.979841Z",
     "shell.execute_reply": "2023-02-26T18:26:05.978815Z",
     "shell.execute_reply.started": "2023-02-26T18:26:05.867175Z"
    },
    "tags": []
   },
   "outputs": [
    {
     "name": "stdout",
     "output_type": "stream",
     "text": [
      "usage: ScAT Clustering [-h] --Rscript RSCRIPT --input INPUT [--pc PC]\n",
      "                       [--resolution RESOLUTION] [--ptsize PTSIZE]\n",
      "                       [--topN {1,2,3,4,5,6,7,8,9}] --out OUT\n",
      "                       [--prefix PREFIX] [--findSpatialVar]\n",
      "\n",
      "optional arguments:\n",
      "  -h, --help            show this help message and exit\n",
      "\n",
      "input arguments:\n",
      "  --Rscript RSCRIPT     Rscript path (default: None)\n",
      "  --input INPUT         Input *_seuratObj.rds with SCT assay\n",
      "  --pc PC               PCA dimensionality for clustering. (default: 30)\n",
      "  --resolution RESOLUTION\n",
      "                        Resolution for clustering, use a value above (below)\n",
      "                        1.0 if you want obtain a larger (smaller) number of\n",
      "                        communities. (default: 0.8)\n",
      "  --ptsize PTSIZE       Point size for spatil dim plot\n",
      "  --topN {1,2,3,4,5,6,7,8,9}\n",
      "                        Select top N makers in each cluster for further\n",
      "                        visualization (default: 3)\n",
      "\n",
      "output arguments:\n",
      "  --out OUT             Directory to save file\n",
      "  --prefix PREFIX       sample ID, will be used as output file prefix\n",
      "                        (default: sample)\n",
      "\n",
      "boolean arguments:\n",
      "  --findSpatialVar      Add \"--findSpatialVar\" to find spatial variable\n",
      "                        features by Seurat (default: False)\n"
     ]
    }
   ],
   "source": [
    "%%sh\n",
    "python scatClustering.py Clustering -h"
   ]
  },
  {
   "cell_type": "code",
   "execution_count": 42,
   "id": "74272ea9-c865-485c-b425-4a5beef90d3d",
   "metadata": {
    "execution": {
     "iopub.execute_input": "2023-02-26T18:44:30.187339Z",
     "iopub.status.busy": "2023-02-26T18:44:30.185930Z",
     "iopub.status.idle": "2023-02-26T18:44:30.327129Z",
     "shell.execute_reply": "2023-02-26T18:44:30.326103Z",
     "shell.execute_reply.started": "2023-02-26T18:44:30.187271Z"
    },
    "tags": []
   },
   "outputs": [
    {
     "name": "stdout",
     "output_type": "stream",
     "text": [
      "usage: ScAT SpatialCluster [-h] --Rscript RSCRIPT --Stdata STDATA\n",
      "                           [--clusterNumber CLUSTERNUMBER] --iterations\n",
      "                           ITERATIONS --out OUT\n",
      "\n",
      "optional arguments:\n",
      "  -h, --help            show this help message and exit\n",
      "\n",
      "input arguments:\n",
      "  --Rscript RSCRIPT     Rscript path (default: None)\n",
      "  --Stdata STDATA       Seurat rds before clustering...\n",
      "  --clusterNumber CLUSTERNUMBER\n",
      "                        Set cluster number of BayesSpace spatial cluster\n",
      "  --iterations ITERATIONS\n",
      "                        iterations number of MCMC\n",
      "\n",
      "output arguments:\n",
      "  --out OUT             Directory to save file\n"
     ]
    }
   ],
   "source": [
    "%%sh\n",
    "python ScAT.py SpatialCluster -h"
   ]
  },
  {
   "cell_type": "code",
   "execution_count": 44,
   "id": "f70c7a5c-da8e-454e-ae15-b22791b4d0cd",
   "metadata": {
    "execution": {
     "iopub.execute_input": "2023-02-27T10:11:18.179130Z",
     "iopub.status.busy": "2023-02-27T10:11:18.178460Z",
     "iopub.status.idle": "2023-02-27T10:11:18.345648Z",
     "shell.execute_reply": "2023-02-27T10:11:18.344452Z",
     "shell.execute_reply.started": "2023-02-27T10:11:18.179087Z"
    },
    "tags": []
   },
   "outputs": [
    {
     "name": "stdout",
     "output_type": "stream",
     "text": [
      "usage: ScAT Annotation [-h] --Rscript RSCRIPT --input INPUT\n",
      "                       [--ref_name {BlueprintEncodeData,DatabaseImmuneCellExpressionData,HumanPrimaryCellAtlasData,ImmGenData,MonacoImmuneData,MouseRNAseqData,NovershternHematopoieticData}]\n",
      "                       [--cluster CLUSTER] --out OUT [--prefix PREFIX]\n",
      "\n",
      "optional arguments:\n",
      "  -h, --help            show this help message and exit\n",
      "\n",
      "input arguments:\n",
      "  --Rscript RSCRIPT     Rscript path (default: None)\n",
      "  --input INPUT         Input normalized data (*txt.gz)\n",
      "  --ref_name {BlueprintEncodeData,DatabaseImmuneCellExpressionData,HumanPrimaryCellAtlasData,ImmGenData,MonacoImmuneData,MouseRNAseqData,NovershternHematopoieticData}\n",
      "                        Ref database name (default: HumanPrimaryCellAtlasData)\n",
      "  --cluster CLUSTER     cluster file generated by Seurat workflow (default:\n",
      "                        None)\n",
      "\n",
      "output arguments:\n",
      "  --out OUT             Directory to save file\n",
      "  --prefix PREFIX       sample ID, will be used as output file prefix\n",
      "                        (default: sample)\n"
     ]
    }
   ],
   "source": [
    "%%sh\n",
    "python ScAT.py Annotation -h"
   ]
  },
  {
   "cell_type": "code",
   "execution_count": 25,
   "id": "b6e3e300-097f-4dbd-ba85-7ca5e495c031",
   "metadata": {
    "execution": {
     "iopub.execute_input": "2023-02-24T10:13:45.168370Z",
     "iopub.status.busy": "2023-02-24T10:13:45.167726Z",
     "iopub.status.idle": "2023-02-24T10:13:45.938697Z",
     "shell.execute_reply": "2023-02-24T10:13:45.937435Z",
     "shell.execute_reply.started": "2023-02-24T10:13:45.168330Z"
    },
    "tags": []
   },
   "outputs": [
    {
     "name": "stdout",
     "output_type": "stream",
     "text": [
      "/ldfssz1/ST_OCEAN/USER/liaoshangfeng/Project/Scat_v3/core/bin\n",
      "__pycache__\t   ScAT_demo.ipynb   scatQcControl.pyc\n",
      "R\t\t   ScAT.py\t     version.py\n",
      "scatClustering.py  scatQcControl.py  version.pyc\n"
     ]
    }
   ],
   "source": [
    "!pwd\n",
    "!ls"
   ]
  },
  {
   "cell_type": "code",
   "execution_count": 31,
   "id": "f2e3a127-c22f-4915-afed-aa87b3607227",
   "metadata": {
    "collapsed": true,
    "execution": {
     "iopub.execute_input": "2023-02-24T10:20:47.380302Z",
     "iopub.status.busy": "2023-02-24T10:20:47.378947Z",
     "iopub.status.idle": "2023-02-24T10:20:47.614275Z",
     "shell.execute_reply": "2023-02-24T10:20:47.612323Z",
     "shell.execute_reply.started": "2023-02-24T10:20:47.380261Z"
    },
    "jupyter": {
     "outputs_hidden": true,
     "source_hidden": true
    },
    "tags": []
   },
   "outputs": [
    {
     "name": "stderr",
     "output_type": "stream",
     "text": [
      "Traceback (most recent call last):\n",
      "  File \"ScAT.py\", line 52, in <module>\n",
      "    main()      \n",
      "  File \"ScAT.py\", line 43, in main\n",
      "    QcControl(args)\n",
      "  File \"/ldfssz1/ST_OCEAN/USER/liaoshangfeng/Project/Scat_v3/core/bin/scatQcControl.py\", line 85, in QcControl\n",
      "    subprocess.run([str(i) for i in commands])\n",
      "AttributeError: 'module' object has no attribute 'run'\n"
     ]
    },
    {
     "ename": "CalledProcessError",
     "evalue": "Command 'b\"# source /YOUR_CONDA_PATH/anaconda3/bin/activate\\n# conda activate py3\\n# rscript=/YOUR_CONDA_PATH/anaconda3/envs/R411/bin/Rscript\\n# scat=/PATH_to_ScAT/ScAT/core/ScAT\\nrscript=/ldfssz1/ST_OCEAN/USER/liaoshangfeng/software/anaconda3/envs/R411/bin/Rscript\\nscat=ScAT.py\\n\\n# gem_file=/YOUR_PATH/FP200000571BR_A2_1_bin50.gem\\ngem_file=/jdfssz1/ST_TSCBI/P22Z10200N0433/USER/liaoshangfeng/software/jupyter/01.DEAF/25.cell_bin/data/raw_data/raw_gem/FP200000571BR_A1/FP200000571BR_A1.gem.gz\\n\\npath=`pwd`\\nprefix=mouse_brain_bin50\\n\\n###################00 QC Control#############################\\n# step 1 Preview the data and obtain raw_seurat_object.rds\\npython $scat QcControl \\\\\\n    --Rscript $rscript \\\\\\n    --input $gem_file \\\\\\n    --out ${path}/00.QC/step1 \\\\\\n    --binsize 50 \\\\\\n    --prefix $prefix \\\\\\n    --mtPattern '^Mt' \\\\\\n    --rbPattern '^Rp[sl]' \\\\\\n    --hbPattern '^Hb[^(p)]' \\\\\\n    --platPattern 'Pecam1|Pf4' \\\\\\n    --ptsize 50\\n\"' returned non-zero exit status 1.",
     "output_type": "error",
     "traceback": [
      "\u001b[0;31m---------------------------------------------------------------------------\u001b[0m",
      "\u001b[0;31mCalledProcessError\u001b[0m                        Traceback (most recent call last)",
      "\u001b[0;32m/tmp/ipykernel_20260/2785568980.py\u001b[0m in \u001b[0;36m<module>\u001b[0;34m\u001b[0m\n\u001b[0;32m----> 1\u001b[0;31m \u001b[0mget_ipython\u001b[0m\u001b[0;34m(\u001b[0m\u001b[0;34m)\u001b[0m\u001b[0;34m.\u001b[0m\u001b[0mrun_cell_magic\u001b[0m\u001b[0;34m(\u001b[0m\u001b[0;34m'sh'\u001b[0m\u001b[0;34m,\u001b[0m \u001b[0;34m''\u001b[0m\u001b[0;34m,\u001b[0m \u001b[0;34m\"# source /YOUR_CONDA_PATH/anaconda3/bin/activate\\n# conda activate py3\\n# rscript=/YOUR_CONDA_PATH/anaconda3/envs/R411/bin/Rscript\\n# scat=/PATH_to_ScAT/ScAT/core/ScAT\\nrscript=/ldfssz1/ST_OCEAN/USER/liaoshangfeng/software/anaconda3/envs/R411/bin/Rscript\\nscat=ScAT.py\\n\\n# gem_file=/YOUR_PATH/FP200000571BR_A2_1_bin50.gem\\ngem_file=/jdfssz1/ST_TSCBI/P22Z10200N0433/USER/liaoshangfeng/software/jupyter/01.DEAF/25.cell_bin/data/raw_data/raw_gem/FP200000571BR_A1/FP200000571BR_A1.gem.gz\\n\\npath=`pwd`\\nprefix=mouse_brain_bin50\\n\\n###################00 QC Control#############################\\n# step 1 Preview the data and obtain raw_seurat_object.rds\\npython $scat QcControl \\\\\\n    --Rscript $rscript \\\\\\n    --input $gem_file \\\\\\n    --out ${path}/00.QC/step1 \\\\\\n    --binsize 50 \\\\\\n    --prefix $prefix \\\\\\n    --mtPattern '^Mt' \\\\\\n    --rbPattern '^Rp[sl]' \\\\\\n    --hbPattern '^Hb[^(p)]' \\\\\\n    --platPattern 'Pecam1|Pf4' \\\\\\n    --ptsize 50\\n\"\u001b[0m\u001b[0;34m)\u001b[0m\u001b[0;34m\u001b[0m\u001b[0;34m\u001b[0m\u001b[0m\n\u001b[0m",
      "\u001b[0;32m/ldfssz1/ST_OCEAN/USER/liaoshangfeng/software/anaconda3/envs/py3/lib/python3.8/site-packages/IPython/core/interactiveshell.py\u001b[0m in \u001b[0;36mrun_cell_magic\u001b[0;34m(self, magic_name, line, cell)\u001b[0m\n\u001b[1;32m   2404\u001b[0m             \u001b[0;32mwith\u001b[0m \u001b[0mself\u001b[0m\u001b[0;34m.\u001b[0m\u001b[0mbuiltin_trap\u001b[0m\u001b[0;34m:\u001b[0m\u001b[0;34m\u001b[0m\u001b[0;34m\u001b[0m\u001b[0m\n\u001b[1;32m   2405\u001b[0m                 \u001b[0margs\u001b[0m \u001b[0;34m=\u001b[0m \u001b[0;34m(\u001b[0m\u001b[0mmagic_arg_s\u001b[0m\u001b[0;34m,\u001b[0m \u001b[0mcell\u001b[0m\u001b[0;34m)\u001b[0m\u001b[0;34m\u001b[0m\u001b[0;34m\u001b[0m\u001b[0m\n\u001b[0;32m-> 2406\u001b[0;31m                 \u001b[0mresult\u001b[0m \u001b[0;34m=\u001b[0m \u001b[0mfn\u001b[0m\u001b[0;34m(\u001b[0m\u001b[0;34m*\u001b[0m\u001b[0margs\u001b[0m\u001b[0;34m,\u001b[0m \u001b[0;34m**\u001b[0m\u001b[0mkwargs\u001b[0m\u001b[0;34m)\u001b[0m\u001b[0;34m\u001b[0m\u001b[0;34m\u001b[0m\u001b[0m\n\u001b[0m\u001b[1;32m   2407\u001b[0m             \u001b[0;32mreturn\u001b[0m \u001b[0mresult\u001b[0m\u001b[0;34m\u001b[0m\u001b[0;34m\u001b[0m\u001b[0m\n\u001b[1;32m   2408\u001b[0m \u001b[0;34m\u001b[0m\u001b[0m\n",
      "\u001b[0;32m/ldfssz1/ST_OCEAN/USER/liaoshangfeng/software/anaconda3/envs/py3/lib/python3.8/site-packages/IPython/core/magics/script.py\u001b[0m in \u001b[0;36mnamed_script_magic\u001b[0;34m(line, cell)\u001b[0m\n\u001b[1;32m    140\u001b[0m             \u001b[0;32melse\u001b[0m\u001b[0;34m:\u001b[0m\u001b[0;34m\u001b[0m\u001b[0;34m\u001b[0m\u001b[0m\n\u001b[1;32m    141\u001b[0m                 \u001b[0mline\u001b[0m \u001b[0;34m=\u001b[0m \u001b[0mscript\u001b[0m\u001b[0;34m\u001b[0m\u001b[0;34m\u001b[0m\u001b[0m\n\u001b[0;32m--> 142\u001b[0;31m             \u001b[0;32mreturn\u001b[0m \u001b[0mself\u001b[0m\u001b[0;34m.\u001b[0m\u001b[0mshebang\u001b[0m\u001b[0;34m(\u001b[0m\u001b[0mline\u001b[0m\u001b[0;34m,\u001b[0m \u001b[0mcell\u001b[0m\u001b[0;34m)\u001b[0m\u001b[0;34m\u001b[0m\u001b[0;34m\u001b[0m\u001b[0m\n\u001b[0m\u001b[1;32m    143\u001b[0m \u001b[0;34m\u001b[0m\u001b[0m\n\u001b[1;32m    144\u001b[0m         \u001b[0;31m# write a basic docstring:\u001b[0m\u001b[0;34m\u001b[0m\u001b[0;34m\u001b[0m\u001b[0;34m\u001b[0m\u001b[0m\n",
      "\u001b[0;32m<decorator-gen-103>\u001b[0m in \u001b[0;36mshebang\u001b[0;34m(self, line, cell)\u001b[0m\n",
      "\u001b[0;32m/ldfssz1/ST_OCEAN/USER/liaoshangfeng/software/anaconda3/envs/py3/lib/python3.8/site-packages/IPython/core/magic.py\u001b[0m in \u001b[0;36m<lambda>\u001b[0;34m(f, *a, **k)\u001b[0m\n\u001b[1;32m    185\u001b[0m     \u001b[0;31m# but it's overkill for just that one bit of state.\u001b[0m\u001b[0;34m\u001b[0m\u001b[0;34m\u001b[0m\u001b[0;34m\u001b[0m\u001b[0m\n\u001b[1;32m    186\u001b[0m     \u001b[0;32mdef\u001b[0m \u001b[0mmagic_deco\u001b[0m\u001b[0;34m(\u001b[0m\u001b[0marg\u001b[0m\u001b[0;34m)\u001b[0m\u001b[0;34m:\u001b[0m\u001b[0;34m\u001b[0m\u001b[0;34m\u001b[0m\u001b[0m\n\u001b[0;32m--> 187\u001b[0;31m         \u001b[0mcall\u001b[0m \u001b[0;34m=\u001b[0m \u001b[0;32mlambda\u001b[0m \u001b[0mf\u001b[0m\u001b[0;34m,\u001b[0m \u001b[0;34m*\u001b[0m\u001b[0ma\u001b[0m\u001b[0;34m,\u001b[0m \u001b[0;34m**\u001b[0m\u001b[0mk\u001b[0m\u001b[0;34m:\u001b[0m \u001b[0mf\u001b[0m\u001b[0;34m(\u001b[0m\u001b[0;34m*\u001b[0m\u001b[0ma\u001b[0m\u001b[0;34m,\u001b[0m \u001b[0;34m**\u001b[0m\u001b[0mk\u001b[0m\u001b[0;34m)\u001b[0m\u001b[0;34m\u001b[0m\u001b[0;34m\u001b[0m\u001b[0m\n\u001b[0m\u001b[1;32m    188\u001b[0m \u001b[0;34m\u001b[0m\u001b[0m\n\u001b[1;32m    189\u001b[0m         \u001b[0;32mif\u001b[0m \u001b[0mcallable\u001b[0m\u001b[0;34m(\u001b[0m\u001b[0marg\u001b[0m\u001b[0;34m)\u001b[0m\u001b[0;34m:\u001b[0m\u001b[0;34m\u001b[0m\u001b[0;34m\u001b[0m\u001b[0m\n",
      "\u001b[0;32m/ldfssz1/ST_OCEAN/USER/liaoshangfeng/software/anaconda3/envs/py3/lib/python3.8/site-packages/IPython/core/magics/script.py\u001b[0m in \u001b[0;36mshebang\u001b[0;34m(self, line, cell)\u001b[0m\n\u001b[1;32m    243\u001b[0m             \u001b[0msys\u001b[0m\u001b[0;34m.\u001b[0m\u001b[0mstderr\u001b[0m\u001b[0;34m.\u001b[0m\u001b[0mflush\u001b[0m\u001b[0;34m(\u001b[0m\u001b[0;34m)\u001b[0m\u001b[0;34m\u001b[0m\u001b[0;34m\u001b[0m\u001b[0m\n\u001b[1;32m    244\u001b[0m         \u001b[0;32mif\u001b[0m \u001b[0margs\u001b[0m\u001b[0;34m.\u001b[0m\u001b[0mraise_error\u001b[0m \u001b[0;32mand\u001b[0m \u001b[0mp\u001b[0m\u001b[0;34m.\u001b[0m\u001b[0mreturncode\u001b[0m\u001b[0;34m!=\u001b[0m\u001b[0;36m0\u001b[0m\u001b[0;34m:\u001b[0m\u001b[0;34m\u001b[0m\u001b[0;34m\u001b[0m\u001b[0m\n\u001b[0;32m--> 245\u001b[0;31m             \u001b[0;32mraise\u001b[0m \u001b[0mCalledProcessError\u001b[0m\u001b[0;34m(\u001b[0m\u001b[0mp\u001b[0m\u001b[0;34m.\u001b[0m\u001b[0mreturncode\u001b[0m\u001b[0;34m,\u001b[0m \u001b[0mcell\u001b[0m\u001b[0;34m,\u001b[0m \u001b[0moutput\u001b[0m\u001b[0;34m=\u001b[0m\u001b[0mout\u001b[0m\u001b[0;34m,\u001b[0m \u001b[0mstderr\u001b[0m\u001b[0;34m=\u001b[0m\u001b[0merr\u001b[0m\u001b[0;34m)\u001b[0m\u001b[0;34m\u001b[0m\u001b[0;34m\u001b[0m\u001b[0m\n\u001b[0m\u001b[1;32m    246\u001b[0m \u001b[0;34m\u001b[0m\u001b[0m\n\u001b[1;32m    247\u001b[0m     \u001b[0;32mdef\u001b[0m \u001b[0m_run_script\u001b[0m\u001b[0;34m(\u001b[0m\u001b[0mself\u001b[0m\u001b[0;34m,\u001b[0m \u001b[0mp\u001b[0m\u001b[0;34m,\u001b[0m \u001b[0mcell\u001b[0m\u001b[0;34m,\u001b[0m \u001b[0mto_close\u001b[0m\u001b[0;34m)\u001b[0m\u001b[0;34m:\u001b[0m\u001b[0;34m\u001b[0m\u001b[0;34m\u001b[0m\u001b[0m\n",
      "\u001b[0;31mCalledProcessError\u001b[0m: Command 'b\"# source /YOUR_CONDA_PATH/anaconda3/bin/activate\\n# conda activate py3\\n# rscript=/YOUR_CONDA_PATH/anaconda3/envs/R411/bin/Rscript\\n# scat=/PATH_to_ScAT/ScAT/core/ScAT\\nrscript=/ldfssz1/ST_OCEAN/USER/liaoshangfeng/software/anaconda3/envs/R411/bin/Rscript\\nscat=ScAT.py\\n\\n# gem_file=/YOUR_PATH/FP200000571BR_A2_1_bin50.gem\\ngem_file=/jdfssz1/ST_TSCBI/P22Z10200N0433/USER/liaoshangfeng/software/jupyter/01.DEAF/25.cell_bin/data/raw_data/raw_gem/FP200000571BR_A1/FP200000571BR_A1.gem.gz\\n\\npath=`pwd`\\nprefix=mouse_brain_bin50\\n\\n###################00 QC Control#############################\\n# step 1 Preview the data and obtain raw_seurat_object.rds\\npython $scat QcControl \\\\\\n    --Rscript $rscript \\\\\\n    --input $gem_file \\\\\\n    --out ${path}/00.QC/step1 \\\\\\n    --binsize 50 \\\\\\n    --prefix $prefix \\\\\\n    --mtPattern '^Mt' \\\\\\n    --rbPattern '^Rp[sl]' \\\\\\n    --hbPattern '^Hb[^(p)]' \\\\\\n    --platPattern 'Pecam1|Pf4' \\\\\\n    --ptsize 50\\n\"' returned non-zero exit status 1."
     ]
    }
   ],
   "source": [
    "%%sh\n",
    "# source /YOUR_CONDA_PATH/anaconda3/bin/activate\n",
    "# conda activate py3\n",
    "# rscript=/YOUR_CONDA_PATH/anaconda3/envs/R411/bin/Rscript\n",
    "# scat=/PATH_to_ScAT/ScAT/core/ScAT\n",
    "rscript=/ldfssz1/ST_OCEAN/USER/liaoshangfeng/software/anaconda3/envs/R411/bin/Rscript\n",
    "scat=ScAT.py\n",
    "\n",
    "# gem_file=/YOUR_PATH/FP200000571BR_A2_1_bin50.gem\n",
    "gem_file=/jdfssz1/ST_TSCBI/P22Z10200N0433/USER/liaoshangfeng/software/jupyter/01.DEAF/25.cell_bin/data/raw_data/raw_gem/FP200000571BR_A1/FP200000571BR_A1.gem.gz\n",
    "\n",
    "path=`pwd`\n",
    "prefix=mouse_brain_bin50\n",
    "\n",
    "###################00 QC Control#############################\n",
    "# step 1 Preview the data and obtain raw_seurat_object.rds\n",
    "python $scat QcControl \\\n",
    "    --Rscript $rscript \\\n",
    "    --input $gem_file \\\n",
    "    --out ${path}/00.QC/step1 \\\n",
    "    --binsize 50 \\\n",
    "    --prefix $prefix \\\n",
    "    --mtPattern '^Mt' \\\n",
    "    --rbPattern '^Rp[sl]' \\\n",
    "    --hbPattern '^Hb[^(p)]' \\\n",
    "    --platPattern 'Pecam1|Pf4' \\\n",
    "    --ptsize 50"
   ]
  },
  {
   "cell_type": "code",
   "execution_count": 1,
   "id": "ac57a7fa-7dd0-422b-9149-5539d59da607",
   "metadata": {
    "execution": {
     "iopub.execute_input": "2023-03-14T10:06:29.165407Z",
     "iopub.status.busy": "2023-03-14T10:06:29.164418Z",
     "iopub.status.idle": "2023-03-14T10:06:29.271696Z",
     "shell.execute_reply": "2023-03-14T10:06:29.269691Z",
     "shell.execute_reply.started": "2023-03-14T10:06:29.165214Z"
    },
    "tags": []
   },
   "outputs": [
    {
     "name": "stdout",
     "output_type": "stream",
     "text": [
      "usage: ScAT CellCellInteraction [-h] --Rscript RSCRIPT --input INPUT\n",
      "                                [--species {Human,Mouse}] --meta META --out\n",
      "                                OUT [--prefix PREFIX]\n",
      "\n",
      "optional arguments:\n",
      "  -h, --help            show this help message and exit\n",
      "\n",
      "input arguments:\n",
      "  --Rscript RSCRIPT     Rscript path (default: None)\n",
      "  --input INPUT         Input raw data file (*.txt.gz)\n",
      "  --species {Human,Mouse}\n",
      "                        species name (default: Human)\n",
      "  --meta META           Cell labels (Recommand the cell types results\n",
      "                        generated by Annotation module (default: None)\n",
      "\n",
      "output arguments:\n",
      "  --out OUT             Directory to save file\n",
      "  --prefix PREFIX       Sample ID, will be used as output prefix and seuratObj\n",
      "                        ident\n"
     ]
    }
   ],
   "source": [
    "%%sh\n",
    "python scatCellCellInteraction.py CellCellInteraction -h"
   ]
  },
  {
   "cell_type": "code",
   "execution_count": null,
   "id": "62f3ed4f-0e4d-43c2-8efe-304a0e3f18d5",
   "metadata": {},
   "outputs": [],
   "source": []
  },
  {
   "cell_type": "code",
   "execution_count": null,
   "id": "60d204b0-87c7-48fd-ae89-8c8a5a351d42",
   "metadata": {},
   "outputs": [],
   "source": []
  },
  {
   "cell_type": "code",
   "execution_count": null,
   "id": "51913c82-a2fa-41c7-a92a-6a0b4a31fc0d",
   "metadata": {},
   "outputs": [],
   "source": []
  },
  {
   "cell_type": "code",
   "execution_count": null,
   "id": "2612936f-99cd-4411-ad25-fed571257823",
   "metadata": {},
   "outputs": [],
   "source": [
    "## update conda by yaml file\n",
    "# link:https://stackoverflow.com/questions/42352841/how-to-update-an-existing-conda-environment-with-a-yml-file\n",
    "conda activate myenv\n",
    "conda env update --file local.yml --prune\n",
    "conda env update -f local.yml --prune\n",
    "\n",
    "source deactivate;\n",
    "conda env update -f whatever.yml;\n",
    "source activate my_environment_name; # Must be AFTER the conda env update line!"
   ]
  },
  {
   "cell_type": "markdown",
   "id": "1b0e44d7-eaf9-436e-88a0-295642b467f9",
   "metadata": {
    "tags": []
   },
   "source": [
    "## conda环境"
   ]
  },
  {
   "cell_type": "code",
   "execution_count": null,
   "id": "8e4b36f6-4f9f-4854-9e77-6e397512dcac",
   "metadata": {},
   "outputs": [],
   "source": [
    "pip install python-lsp-server\n",
    "\n",
    "conda create -n ScAT python=3.8\n",
    "conda activate ScAT\n",
    "conda install -c conda-forge r-base==4.2.2 -y\n",
    "conda install -c bioconda r-seurat -y\n",
    "conda install -c conda-forge r-seuratobject -y\n",
    "conda install -c conda-forge r-matrix -y\n",
    "conda install -c conda-forge r-data.table -y\n",
    "conda install -c conda-forge r-rjson -y\n",
    "conda install -c conda-forge r-ggplot2 -y\n",
    "\n",
    "conda install -c bioconda r-argparse -y\n",
    "conda install -c bioconda r-psych -y\n",
    "\n",
    "conda install -c conda-forge r-dplyr -y\n",
    "conda install -c r r-rcolorbrewer -y\n",
    "conda install -c bioconda r-optparse -y\n",
    "conda install -c bioconda bioconductor-singlecellexperiment -y\n",
    "conda install -c bioconda bioconductor-bayesspace -y\n",
    "conda install -c bioconda bioconductor-clusterprofiler -y\n",
    "conda install -c bioconda bioconductor-annotationdbi -y\n",
    "conda install -c bioconda bioconductor-org.hs.eg.db -y\n",
    "conda install -c bioconda bioconductor-org.mm.eg.db -y\n",
    "conda install -c bioconda bioconductor-dose -y\n",
    "conda install -c bioconda bioconductor-topgo -y\n",
    "conda install -c conda-forge r-igraph -y\n",
    "conda install -c conda-forge r-imager -y\n",
    "conda install -c conda-forge r-png -y\n",
    "conda install -c r r-jpeg -y\n",
    "conda install -c \"bioconda/label/broken\" r-ggthemes -y\n",
    "conda install -c conda-forge r-plyr -y\n",
    "conda install -c bioconda bioconductor-biocstyle -y\n",
    "conda install -c bioconda bioconductor-singler -y\n",
    "conda install -c bioconda bioconductor-experimenthub -y\n",
    "\n",
    "Rscript -e 'install.packages(\"presto\")'\n",
    "Rscript -e 'install.packages(\"devtools\")'\n",
    "Rscript -e 'install.packages(\"grid\")'\n",
    "Rscript -e 'install.packages(\"ggthemes\")'\n",
    "Rscript -e 'devtools::install_github(\"immunogenomics/presto\")'\n",
    "Rscript -e 'devtools::install_github(\"xzhoulab/SPARK\")'\n",
    "Rscript -e 'devtools::install_github(\"ZJUFanLab/scCATCH\")'\n",
    "\n",
    "Rscript -e 'devtools::install_github(\"sqjin/CellChat\")'\n",
    "Rscript -e 'BiocManager::install(\"DelayedArray\")'\n",
    "Rscript -e 'BiocManager::install(\"SPOTlight\")'\n",
    "\n",
    "pip install os math argparse operator cytoolz pandas seaborn numpy scanpy anndata squidpy adjustText matplotlib pyscenic ipykernel\n",
    "\n",
    "Rscript -e 'BiocManager::install(\"SPOTlight\")'\n",
    "install.packages ('IRkernel')\n",
    "\n",
    "\n",
    "python -m ipykernel install --user --name ScAT --display-name \"ScAT Python 3.8\"\n",
    "cp -r /opt/conda/share/jupyter/kernels/ir /home/stereonote/.local/share/jupyter/kernels/scat_r\n",
    "echo '{\"argv\": [\"/opt/conda/envs/ScAT/lib/R/bin/R\", \"--slave\", \"-e\", \"IRkernel::main()\", \"--args\", \"{connection_file}\"], \"display_name\": \"ScAT R 4.2\", \"language\": \"R\"}' > /home/stereonote/.local/share/jupyter/kernels/scat_r/kernel.json\n",
    "\n",
    "jupyter kernelspec list"
   ]
  },
  {
   "cell_type": "code",
   "execution_count": null,
   "id": "dbb45fd2-5214-4a3d-a13d-710f53d49a1d",
   "metadata": {},
   "outputs": [],
   "source": [
    "## 完整的"
   ]
  },
  {
   "cell_type": "code",
   "execution_count": null,
   "id": "5b6e1238-44e7-4e30-a5b7-d3f7af250cd1",
   "metadata": {},
   "outputs": [],
   "source": [
    "# conda create -n ScAT python=3.8\n",
    "# conda activate ScAT\n",
    "\n",
    "conda install -c conda-forge r-base==4.2.2 -y\n",
    "conda install -c bioconda r-seurat -y\n",
    "conda install -c conda-forge r-seuratobject -y\n",
    "conda install -c conda-forge r-matrix -y\n",
    "conda install -c conda-forge r-data.table -y\n",
    "conda install -c conda-forge r-rjson -y\n",
    "conda install -c conda-forge r-ggplot2 -y\n",
    "\n",
    "conda install -c bioconda r-argparse -y\n",
    "conda install -c bioconda r-psych -y\n",
    "\n",
    "conda install -c conda-forge r-dplyr -y\n",
    "conda install -c r r-rcolorbrewer -y\n",
    "conda install -c bioconda r-optparse -y\n",
    "conda install -c bioconda bioconductor-singlecellexperiment -y\n",
    "conda install -c bioconda bioconductor-bayesspace -y\n",
    "conda install -c bioconda bioconductor-clusterprofiler -y\n",
    "conda install -c bioconda bioconductor-annotationdbi -y\n",
    "conda install -c bioconda bioconductor-org.hs.eg.db -y\n",
    "conda install -c bioconda bioconductor-org.mm.eg.db -y\n",
    "conda install -c bioconda bioconductor-dose -y\n",
    "conda install -c bioconda bioconductor-topgo -y\n",
    "conda install -c conda-forge r-igraph -y\n",
    "conda install -c conda-forge r-imager -y\n",
    "conda install -c conda-forge r-png -y\n",
    "conda install -c r r-jpeg -y\n",
    "conda install -c \"bioconda/label/broken\" r-ggthemes -y\n",
    "conda install -c conda-forge r-plyr -y\n",
    "conda install -c bioconda bioconductor-biocstyle -y\n",
    "conda install -c bioconda bioconductor-singler -y\n",
    "conda install -c bioconda bioconductor-experimenthub -y\n",
    "\n",
    "Rscript -e 'install.packages(\"presto\")'\n",
    "Rscript -e 'install.packages(\"devtools\")'\n",
    "Rscript -e 'install.packages(\"grid\")'\n",
    "Rscript -e 'install.packages(\"ggthemes\")'\n",
    "Rscript -e 'devtools::install_github(\"immunogenomics/presto\")'\n",
    "Rscript -e 'devtools::install_github(\"xzhoulab/SPARK\")'\n",
    "Rscript -e 'devtools::install_github(\"ZJUFanLab/scCATCH\")'\n",
    "\n",
    "Rscript -e 'devtools::install_github(\"sqjin/CellChat\")'\n",
    "Rscript -e 'BiocManager::install(\"DelayedArray\")'\n",
    "Rscript -e 'BiocManager::install(\"SPOTlight\")'\n",
    "\n",
    "pip install os math argparse operator cytoolz pandas seaborn numpy scanpy anndata squidpy adjustText matplotlib pyscenic ipykernel stereopy CellPhoneDB squidpy dynamo scvelo\n",
    "\n",
    "Rscript -e 'BiocManager::install(\"SPOTlight\")'\n",
    "install.packages ('IRkernel')\n",
    "\n",
    "\n",
    "python -m ipykernel install --user --name ScAT --display-name \"ScAT Python 3.8\"\n",
    "cp -r /opt/conda/share/jupyter/kernels/ir /home/stereonote/.local/share/jupyter/kernels/scat_r\n",
    "echo '{\"argv\": [\"/opt/conda/envs/ScAT/lib/R/bin/R\", \"--slave\", \"-e\", \"IRkernel::main()\", \"--args\", \"{connection_file}\"], \"display_name\": \"ScAT R 4.2\", \"language\": \"R\"}' > /home/stereonote/.local/share/jupyter/kernels/scat_r/kernel.json\n",
    "\n",
    "jupyter kernelspec list"
   ]
  },
  {
   "cell_type": "code",
   "execution_count": null,
   "id": "1cafdaef-c15a-488b-ad7b-b1b4a2e51767",
   "metadata": {},
   "outputs": [],
   "source": [
    "conda create -n ScAT python=3.8\n",
    "conda install -c conda-forge r-base==4.2.2\n",
    "\n",
    "conda install -c bioconda r-seurat\n",
    "conda install -c conda-forge r-seuratobject\n",
    "conda install -c conda-forge r-matrix\n",
    "conda install -c conda-forge r-data.table\n",
    "conda install -c conda-forge r-rjson\n",
    "conda install -c conda-forge r-ggplot2\n",
    "\n",
    "# conda install -c conda-forge pip-tools ## tools\n",
    "\n",
    "conda install -c bioconda r-argparse\n",
    "conda install -c bioconda r-psych\n",
    "\n",
    "conda install -c conda-forge r-dplyr\n",
    "conda install -c r r-rcolorbrewer\n",
    "conda install -c bioconda r-optparse\n",
    "conda install -c bioconda bioconductor-singlecellexperiment\n",
    "conda install -c bioconda bioconductor-bayesspace  ## 下载比较花时间。\n",
    "conda install -c bioconda bioconductor-clusterprofiler\n",
    "conda install -c bioconda bioconductor-annotationdbi\n",
    "conda install -c bioconda bioconductor-org.hs.eg.db\n",
    "conda install -c bioconda bioconductor-org.mm.eg.db\n",
    "conda install -c bioconda bioconductor-dose\n",
    "conda install -c bioconda bioconductor-topgo\n",
    "# conda install -c maciejkula spotlight\n",
    "conda install -c conda-forge r-igraph\n",
    "conda install -c conda-forge r-imager\n",
    "conda install -c conda-forge r-png\n",
    "conda install -c r r-jpeg\n",
    "# conda install -c bioconda grid\n",
    "conda install -c \"bioconda/label/broken\" r-ggthemes\n",
    "conda install -c conda-forge r-plyr\n",
    "conda install -c bioconda bioconductor-biocstyle\n",
    "conda install -c bioconda bioconductor-singler\n",
    "conda install -c bioconda bioconductor-experimenthub\n",
    "\n",
    "\n",
    "Rscript -e 'install.packages(\"presto\")'\n",
    "Rscript -e 'install.packages(\"devtools\")'\n",
    "Rscript -e 'install.packages(\"grid\")'\n",
    "Rscript -e 'install.packages(\"ggthemes\")'\n",
    "Rscript -e 'devtools::install_github(\"immunogenomics/presto\")'\n",
    "Rscript -e 'devtools::install_github(\"xzhoulab/SPARK\")'\n",
    "Rscript -e 'devtools::install_github(\"ZJUFanLab/scCATCH\")'\n",
    "\n",
    "Rscript -e 'devtools::install_github(\"sqjin/CellChat\")'\n",
    "Rscript -e 'BiocManager::install(\"DelayedArray\")'\n",
    "Rscript -e 'BiocManager::install(\"SPOTlight\")'\n",
    "\n",
    "\n",
    "\n",
    "\n",
    "# install.packages('presto')  ## 可以用github版本，支持4.2.2\n",
    "# install.packages('devtools')\n",
    "# install.packages(\"grid\")\n",
    "# install.packages(\"ggthemes\")\n",
    "# devtools::install_github('xzhoulab/SPARK')\n",
    "# devtools::install_github('ZJUFanLab/scCATCH')\n",
    "\n",
    "# devtools::install_github(\"sqjin/CellChat\")\n",
    "# BiocManager::install(\"DelayedArray\")\n",
    "# BiocManager::install(\"SPOTlight\")\n",
    "\n",
    "\n",
    "\n",
    "pip install os math argparse operator cytoolz pandas seaborn numpy scanpy anndata adjustText matplotlib pyscenic"
   ]
  },
  {
   "cell_type": "code",
   "execution_count": null,
   "id": "e9d12d85-6a8f-49b4-a371-c59912a3a0f5",
   "metadata": {},
   "outputs": [],
   "source": [
    "R 安装包\n",
    "Seurat\n",
    "SeuratObject\n",
    "Matrix\n",
    "data.table\n",
    "rjson\n",
    "ggplot2\n",
    "tools\n",
    "agparse\n",
    "psych\n",
    "\n",
    "presto \n",
    "dplyr\n",
    "RColorBrewer\n",
    "optparse\n",
    "SingleCellExperiment\n",
    "BayesSpace\n",
    "SPARK\n",
    "scCATCH\n",
    "\n",
    "clusterProfiler\n",
    "AnnotationDbi\n",
    "org.Hs.eg.db\n",
    "org.Mm.eg.db\n",
    "DOSE\n",
    "topGO\n",
    "\n",
    "SPOTlight\n",
    "igraph\n",
    "imager\n",
    "png\n",
    "jpeg\n",
    "grid\n",
    "\n",
    "CellChat\n",
    "ggthemes\n",
    "plyr\n",
    "BiocStyle\n",
    "SingleR\n",
    "ExperimentHub\n",
    "DelayeArray\n",
    "\n",
    "python包\n",
    "\n",
    "import os\n",
    "from  math import floor,ceil\n",
    "import argparse\n",
    "import operator as op\n",
    "from cytoolz import compose\n",
    "import pandas as pd\n",
    "import seaborn as sns\n",
    "import numpy as np\n",
    "import scanpy as sc\n",
    "import anndata as ad\n",
    "from adjustText import adjust_text\n",
    "import matplotlib as mpl\n",
    "import matplotlib.pyplot as plt\n",
    "mpl.use('Agg')\n",
    "from pyscenic.utils import load_motifs\n",
    "from pyscenic.export import export2loom, add_scenic_metadata\n",
    "from pyscenic.transform import df2regulons\n",
    "from pyscenic.aucell import aucell\n",
    "from pyscenic.binarization import binarize\n",
    "from pyscenic.rss import regulon_specificity_scores\n",
    "from pyscenic.plotting import plot_binarization, plot_rss\n",
    "from pyscenic.utils import modules_from_adjacencies\n",
    "import loompy as lp\n",
    "from pyscenic.cli.utils import load_signatures\n",
    "from matplotlib.backends.backend_pdf import PdfPages\n",
    "\n",
    "\n",
    "\n",
    "\n"
   ]
  },
  {
   "cell_type": "code",
   "execution_count": 1,
   "id": "a1934cc0-1eda-4ccf-a4d6-32b2f6a302f0",
   "metadata": {
    "execution": {
     "iopub.execute_input": "2023-03-03T07:25:37.796276Z",
     "iopub.status.busy": "2023-03-03T07:25:37.789569Z",
     "iopub.status.idle": "2023-03-03T07:25:41.621125Z",
     "shell.execute_reply": "2023-03-03T07:25:41.619657Z"
    },
    "tags": []
   },
   "outputs": [
    {
     "name": "stderr",
     "output_type": "stream",
     "text": [
      "Loading required package: dplyr\n",
      "\n",
      "\n",
      "Attaching package: ‘dplyr’\n",
      "\n",
      "\n",
      "The following objects are masked from ‘package:stats’:\n",
      "\n",
      "    filter, lag\n",
      "\n",
      "\n",
      "The following objects are masked from ‘package:base’:\n",
      "\n",
      "    intersect, setdiff, setequal, union\n",
      "\n",
      "\n",
      "Loading required package: igraph\n",
      "\n",
      "\n",
      "Attaching package: ‘igraph’\n",
      "\n",
      "\n",
      "The following objects are masked from ‘package:dplyr’:\n",
      "\n",
      "    as_data_frame, groups, union\n",
      "\n",
      "\n",
      "The following objects are masked from ‘package:stats’:\n",
      "\n",
      "    decompose, spectrum\n",
      "\n",
      "\n",
      "The following object is masked from ‘package:base’:\n",
      "\n",
      "    union\n",
      "\n",
      "\n",
      "Loading required package: ggplot2\n",
      "\n"
     ]
    }
   ],
   "source": [
    "library(CellChat)"
   ]
  }
 ],
 "metadata": {
  "kernelspec": {
   "display_name": "Python 3 (ipykernel)",
   "language": "python",
   "name": "python3"
  },
  "language_info": {
   "codemirror_mode": {
    "name": "ipython",
    "version": 3
   },
   "file_extension": ".py",
   "mimetype": "text/x-python",
   "name": "python",
   "nbconvert_exporter": "python",
   "pygments_lexer": "ipython3",
   "version": "3.8.14"
  }
 },
 "nbformat": 4,
 "nbformat_minor": 5
}
