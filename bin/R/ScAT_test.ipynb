{
 "cells": [
  {
   "cell_type": "code",
   "execution_count": 4,
   "id": "72f1c961-04c3-427f-990c-aa2a2854fa81",
   "metadata": {
    "execution": {
     "iopub.execute_input": "2023-03-02T08:49:23.046244Z",
     "iopub.status.busy": "2023-03-02T08:49:23.044467Z",
     "iopub.status.idle": "2023-03-02T08:49:23.089073Z",
     "shell.execute_reply": "2023-03-02T08:49:23.087853Z"
    },
    "tags": []
   },
   "outputs": [],
   "source": [
    "suppressMessages(library(ggplot2))\n",
    "suppressMessages(library(ggthemes))\n",
    "suppressMessages(library(BiocStyle))\n",
    "suppressMessages(library(SingleR))\n",
    "suppressMessages(library(ExperimentHub))\n",
    "suppressMessages(library(DelayedArray))\n",
    "suppressMessages(library(RColorBrewer))\n",
    "suppressMessages(library(plyr))"
   ]
  },
  {
   "cell_type": "code",
   "execution_count": 5,
   "id": "91c99b39-178b-4446-975e-48a49b53969e",
   "metadata": {
    "execution": {
     "iopub.execute_input": "2023-03-02T08:49:47.745562Z",
     "iopub.status.busy": "2023-03-02T08:49:47.743706Z",
     "iopub.status.idle": "2023-03-02T08:49:47.763738Z",
     "shell.execute_reply": "2023-03-02T08:49:47.761851Z"
    },
    "tags": []
   },
   "outputs": [
    {
     "ename": "ERROR",
     "evalue": "Error in library(CellChat): there is no package called ‘CellChat’\n",
     "output_type": "error",
     "traceback": [
      "Error in library(CellChat): there is no package called ‘CellChat’\nTraceback:\n",
      "1. suppressMessages(library(CellChat))",
      "2. withCallingHandlers(expr, message = function(c) if (inherits(c, \n .     classes)) tryInvokeRestart(\"muffleMessage\"))",
      "3. library(CellChat)"
     ]
    }
   ],
   "source": [
    "suppressMessages(library(CellChat))"
   ]
  },
  {
   "cell_type": "code",
   "execution_count": 6,
   "id": "b52dd086-3caa-48fc-aba4-53cd3ef30c81",
   "metadata": {
    "execution": {
     "iopub.execute_input": "2023-03-02T08:49:58.473095Z",
     "iopub.status.busy": "2023-03-02T08:49:58.470704Z",
     "iopub.status.idle": "2023-03-02T08:49:58.486669Z",
     "shell.execute_reply": "2023-03-02T08:49:58.484849Z"
    },
    "tags": []
   },
   "outputs": [],
   "source": [
    "suppressMessages(library(Matrix))"
   ]
  },
  {
   "cell_type": "code",
   "execution_count": 10,
   "id": "6d33c109-add3-4d76-a1e5-439c28e62d7a",
   "metadata": {
    "execution": {
     "iopub.execute_input": "2023-03-02T08:50:46.686158Z",
     "iopub.status.busy": "2023-03-02T08:50:46.684615Z",
     "iopub.status.idle": "2023-03-02T08:50:46.699249Z",
     "shell.execute_reply": "2023-03-02T08:50:46.698065Z"
    },
    "tags": []
   },
   "outputs": [],
   "source": [
    "suppressMessages(library(presto))\n",
    "suppressMessages(library(dplyr))\n",
    "suppressMessages(library(Seurat))\n",
    "suppressMessages(library(ggplot2))"
   ]
  },
  {
   "cell_type": "code",
   "execution_count": 12,
   "id": "e2d647c8-7e2a-4360-a5e7-cad71e9d7be1",
   "metadata": {
    "execution": {
     "iopub.execute_input": "2023-03-02T08:51:18.737665Z",
     "iopub.status.busy": "2023-03-02T08:51:18.734802Z",
     "iopub.status.idle": "2023-03-02T08:51:18.772354Z",
     "shell.execute_reply": "2023-03-02T08:51:18.770620Z"
    },
    "tags": []
   },
   "outputs": [],
   "source": [
    "library(optparse)\n",
    "library(Matrix)\n",
    "library(data.table)\n",
    "library(Seurat)\n",
    "library(dplyr)\n",
    "library(SPOTlight)\n",
    "library(igraph)\n",
    "library(RColorBrewer)\n",
    "library(ggplot2)\n",
    "suppressMessages(require(imager))\n",
    "suppressMessages(require(png))\n",
    "suppressMessages(require(jpeg))\n",
    "suppressMessages(require(grid))"
   ]
  },
  {
   "cell_type": "code",
   "execution_count": 13,
   "id": "4dcc3e98-0add-4eaf-84a5-583cee58913a",
   "metadata": {
    "execution": {
     "iopub.execute_input": "2023-03-02T08:52:08.337895Z",
     "iopub.status.busy": "2023-03-02T08:52:08.336132Z",
     "iopub.status.idle": "2023-03-02T08:52:10.443153Z",
     "shell.execute_reply": "2023-03-02T08:52:10.441747Z"
    },
    "tags": []
   },
   "outputs": [],
   "source": [
    "suppressMessages(library(clusterProfiler))\n",
    "suppressMessages(library(AnnotationDbi))\n",
    "suppressMessages(library(org.Hs.eg.db))\n",
    "suppressMessages(library(org.Mm.eg.db))\n",
    "suppressMessages(library(DOSE))\n",
    "suppressMessages(library(topGO))"
   ]
  },
  {
   "cell_type": "code",
   "execution_count": 14,
   "id": "c5ce1777-01e8-4574-aba4-4eb9c0a8923e",
   "metadata": {
    "execution": {
     "iopub.execute_input": "2023-03-02T08:52:31.176435Z",
     "iopub.status.busy": "2023-03-02T08:52:31.172248Z",
     "iopub.status.idle": "2023-03-02T08:52:31.200380Z",
     "shell.execute_reply": "2023-03-02T08:52:31.197048Z"
    },
    "tags": []
   },
   "outputs": [],
   "source": [
    "suppressMessages(library(ggplot2))"
   ]
  },
  {
   "cell_type": "code",
   "execution_count": 16,
   "id": "ac63f884-8b5c-4db2-b559-f2f813aae838",
   "metadata": {
    "execution": {
     "iopub.execute_input": "2023-03-02T08:54:36.617780Z",
     "iopub.status.busy": "2023-03-02T08:54:36.615951Z",
     "iopub.status.idle": "2023-03-02T08:54:36.644344Z",
     "shell.execute_reply": "2023-03-02T08:54:36.642280Z"
    },
    "tags": []
   },
   "outputs": [],
   "source": [
    "suppressMessages(library(Seurat))\n",
    "suppressMessages(library(SeuratObject))\n",
    "suppressMessages(library(Matrix))\n",
    "# load library for function gem_to_seuratObject()\n",
    "suppressMessages(library(data.table))\n",
    "suppressMessages(library(rjson))\n",
    "suppressMessages(library(ggplot2))"
   ]
  },
  {
   "cell_type": "code",
   "execution_count": 17,
   "id": "9cf8bd1b-a02f-43d2-9f62-db1ed64b6a5a",
   "metadata": {
    "execution": {
     "iopub.execute_input": "2023-03-02T08:54:43.813742Z",
     "iopub.status.busy": "2023-03-02T08:54:43.811255Z",
     "iopub.status.idle": "2023-03-02T08:54:43.853149Z",
     "shell.execute_reply": "2023-03-02T08:54:43.851203Z"
    },
    "tags": []
   },
   "outputs": [],
   "source": [
    "library(tools)"
   ]
  },
  {
   "cell_type": "code",
   "execution_count": 18,
   "id": "ec535aa4-ebbe-477f-a52b-07ab451bbe0f",
   "metadata": {
    "execution": {
     "iopub.execute_input": "2023-03-02T08:54:56.940889Z",
     "iopub.status.busy": "2023-03-02T08:54:56.938730Z",
     "iopub.status.idle": "2023-03-02T08:54:56.981371Z",
     "shell.execute_reply": "2023-03-02T08:54:56.979370Z"
    },
    "tags": []
   },
   "outputs": [],
   "source": [
    "library(argparse, quietly = TRUE)"
   ]
  },
  {
   "cell_type": "code",
   "execution_count": 19,
   "id": "e499b11d-8a1f-49fa-8dd8-d3daf47c0f75",
   "metadata": {
    "collapsed": true,
    "execution": {
     "iopub.execute_input": "2023-03-02T08:55:10.666092Z",
     "iopub.status.busy": "2023-03-02T08:55:10.664041Z",
     "iopub.status.idle": "2023-03-02T08:55:10.776454Z",
     "shell.execute_reply": "2023-03-02T08:55:10.775287Z"
    },
    "jupyter": {
     "outputs_hidden": true
    },
    "tags": []
   },
   "outputs": [
    {
     "name": "stderr",
     "output_type": "stream",
     "text": [
      "\n",
      "Attaching package: ‘psych’\n",
      "\n",
      "\n",
      "The following object is masked from ‘package:SummarizedExperiment’:\n",
      "\n",
      "    distance\n",
      "\n",
      "\n",
      "The following object is masked from ‘package:GenomicRanges’:\n",
      "\n",
      "    distance\n",
      "\n",
      "\n",
      "The following objects are masked from ‘package:IRanges’:\n",
      "\n",
      "    distance, reflect\n",
      "\n",
      "\n",
      "The following objects are masked from ‘package:ggplot2’:\n",
      "\n",
      "    %+%, alpha\n",
      "\n",
      "\n"
     ]
    }
   ],
   "source": [
    "library(psych)"
   ]
  },
  {
   "cell_type": "code",
   "execution_count": 20,
   "id": "dcbf3b39-8b50-4c00-8dc5-a2f29ea85348",
   "metadata": {
    "execution": {
     "iopub.execute_input": "2023-03-02T09:10:00.927577Z",
     "iopub.status.busy": "2023-03-02T09:10:00.924196Z",
     "iopub.status.idle": "2023-03-02T09:10:01.852122Z",
     "shell.execute_reply": "2023-03-02T09:10:01.850804Z"
    },
    "tags": []
   },
   "outputs": [],
   "source": [
    "suppressPackageStartupMessages({\n",
    "  library(optparse)\n",
    "  library(SingleCellExperiment)\n",
    "  library(ggplot2)\n",
    "  library(BayesSpace)\n",
    "  library(Seurat)\n",
    "})"
   ]
  },
  {
   "cell_type": "code",
   "execution_count": 21,
   "id": "8df82b50-1ef7-4fcf-b95a-70068678dcbf",
   "metadata": {
    "execution": {
     "iopub.execute_input": "2023-03-02T09:10:35.393447Z",
     "iopub.status.busy": "2023-03-02T09:10:35.390894Z",
     "iopub.status.idle": "2023-03-02T09:10:35.430431Z",
     "shell.execute_reply": "2023-03-02T09:10:35.428668Z"
    },
    "tags": []
   },
   "outputs": [],
   "source": [
    "library(optparse)\n",
    "library(Matrix)\n",
    "library(data.table)\n",
    "library(Seurat)\n",
    "library(dplyr)\n",
    "library(SPOTlight)\n",
    "library(igraph)\n",
    "library(RColorBrewer)\n",
    "library(ggplot2)\n",
    "suppressMessages(require(imager))\n",
    "suppressMessages(require(png))\n",
    "suppressMessages(require(jpeg))\n",
    "suppressMessages(require(grid))\n"
   ]
  },
  {
   "cell_type": "code",
   "execution_count": 22,
   "id": "6695b8e9-6603-44a1-9baa-d407665f5a90",
   "metadata": {
    "execution": {
     "iopub.execute_input": "2023-03-02T09:10:57.197592Z",
     "iopub.status.busy": "2023-03-02T09:10:57.195747Z",
     "iopub.status.idle": "2023-03-02T09:10:57.213878Z",
     "shell.execute_reply": "2023-03-02T09:10:57.212090Z"
    },
    "tags": []
   },
   "outputs": [],
   "source": [
    "suppressPackageStartupMessages({\n",
    "  library(optparse)\n",
    "  library(SingleCellExperiment)\n",
    "  library(ggplot2)\n",
    "  library(BayesSpace)\n",
    "  library(Seurat)\n",
    "})\n",
    "set.seed(100)\n"
   ]
  },
  {
   "cell_type": "code",
   "execution_count": 24,
   "id": "ababe197-8e52-42b6-a82d-f102c3bd1a33",
   "metadata": {
    "execution": {
     "iopub.execute_input": "2023-03-02T09:14:43.854394Z",
     "iopub.status.busy": "2023-03-02T09:14:43.852587Z",
     "iopub.status.idle": "2023-03-02T09:14:43.886150Z",
     "shell.execute_reply": "2023-03-02T09:14:43.878588Z"
    },
    "tags": []
   },
   "outputs": [
    {
     "ename": "ERROR",
     "evalue": "Error in library(CellChat): there is no package called ‘CellChat’\n",
     "output_type": "error",
     "traceback": [
      "Error in library(CellChat): there is no package called ‘CellChat’\nTraceback:\n",
      "1. library(CellChat)"
     ]
    }
   ],
   "source": [
    "library(CellChat)"
   ]
  },
  {
   "cell_type": "code",
   "execution_count": 23,
   "id": "87a27750-817d-4d70-93e5-e1f2676ccaf9",
   "metadata": {
    "execution": {
     "iopub.execute_input": "2023-03-02T09:11:05.536878Z",
     "iopub.status.busy": "2023-03-02T09:11:05.534618Z",
     "iopub.status.idle": "2023-03-02T09:11:05.654726Z",
     "shell.execute_reply": "2023-03-02T09:11:05.653504Z"
    },
    "tags": []
   },
   "outputs": [],
   "source": [
    "library('Seurat')\n",
    "library('SPARK')\n",
    "library('Matrix')\n",
    "library('optparse')\n",
    "library('ggplot2')"
   ]
  },
  {
   "cell_type": "code",
   "execution_count": null,
   "id": "91e9128a-530b-432f-86cc-539e451fcbb1",
   "metadata": {},
   "outputs": [],
   "source": [
    "%%"
   ]
  },
  {
   "cell_type": "markdown",
   "id": "35c2d6b7-46eb-4d95-98d1-86a2480b4141",
   "metadata": {
    "jp-MarkdownHeadingCollapsed": true,
    "tags": []
   },
   "source": [
    "## 需求"
   ]
  },
  {
   "cell_type": "code",
   "execution_count": null,
   "id": "0acdf6fb-f276-4c13-8fcb-9d3a206e2131",
   "metadata": {},
   "outputs": [],
   "source": []
  },
  {
   "cell_type": "code",
   "execution_count": null,
   "id": "563518de-72d2-4820-bdc8-ecb1b934bd13",
   "metadata": {},
   "outputs": [],
   "source": []
  },
  {
   "cell_type": "code",
   "execution_count": null,
   "id": "95e0bd92-0225-4d7a-82bf-2700c1a77853",
   "metadata": {},
   "outputs": [],
   "source": [
    "改写gem_to_seurat函数"
   ]
  },
  {
   "cell_type": "code",
   "execution_count": null,
   "id": "524c5e04-6978-4efa-9f22-7e2144eb245b",
   "metadata": {},
   "outputs": [],
   "source": [
    "可以考虑改写gem_to_seurat\n",
    "https://github.com/satijalab/seurat/issues/3595\n",
    "原来的函数做了旋转，需要调整"
   ]
  },
  {
   "cell_type": "code",
   "execution_count": null,
   "id": "cbfb202d-8223-4b02-9bca-c0eea72310de",
   "metadata": {},
   "outputs": [],
   "source": [
    "img <- new(\n",
    "  Class = 'VisiumV1',\n",
    "  image = image # an array with the image data\n",
    "  scale.factors = scalefactors() # scale factors\n",
    "  coordinates = coordinates # data frame with rows as spots and columns as axes\n",
    "  spot.radius = radius # radius size\n",
    ")"
   ]
  },
  {
   "cell_type": "code",
   "execution_count": null,
   "id": "f733f576-f8fb-4583-865d-a1537c977df0",
   "metadata": {},
   "outputs": [],
   "source": [
    "image: an array (we use png::readPNG) that can be cast to either a rasterGrob (rasterGrob) or raster (as.raster) object\n",
    "scale.factors: a scale.factors object (see ?scalefactors) that contains the full resolution, fiducial full resolution, high-resolution, and low-resolution scale factors\n",
    "coordinates: the coordinates for each spot, should have at least two columns named imagerow and imagecol for the Y and X axes respectively. Spot names should be the rownames\n",
    "spot.radius: the radius for the spots in the image, we calculate this as the (fiducial diameter * low-resolution scale factor) / max(dim(image array))"
   ]
  },
  {
   "cell_type": "code",
   "execution_count": null,
   "id": "0b31783d-2d37-4d42-ac6e-10a88597ea76",
   "metadata": {},
   "outputs": [],
   "source": [
    "I'm also trying to create a spatial Seurat from scratch. While your hints above are quite straightforward to me for the term image and coordinates. However, I still don't quite get what scale.factors are other than it is a separate object. As I look into scalefactors function, I noticed scalefactors is defined by spot, fiducial, hires, and lowres values. From the doc, I don't fully understand what those values mean and how I could generalize them for my own data and image. Would you mind elaborating a bit more? I really appreciate your help!"
   ]
  }
 ],
 "metadata": {
  "kernelspec": {
   "display_name": "R",
   "language": "R",
   "name": "ir"
  },
  "language_info": {
   "codemirror_mode": "r",
   "file_extension": ".r",
   "mimetype": "text/x-r-source",
   "name": "R",
   "pygments_lexer": "r",
   "version": "4.2.2"
  }
 },
 "nbformat": 4,
 "nbformat_minor": 5
}
